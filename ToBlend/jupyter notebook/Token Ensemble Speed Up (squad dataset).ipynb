{
 "cells": [
  {
   "cell_type": "markdown",
   "metadata": {},
   "source": [
    "# Squad dataset"
   ]
  },
  {
   "cell_type": "code",
   "execution_count": 1,
   "metadata": {},
   "outputs": [
    {
     "name": "stderr",
     "output_type": "stream",
     "text": [
      "/home/fanhuan/anaconda3/envs/detect/lib/python3.10/site-packages/tqdm/auto.py:22: TqdmWarning: IProgress not found. Please update jupyter and ipywidgets. See https://ipywidgets.readthedocs.io/en/stable/user_install.html\n",
      "  from .autonotebook import tqdm as notebook_tqdm\n"
     ]
    }
   ],
   "source": [
    "from transformers import pipeline, set_seed, AutoModelForCausalLM, AutoTokenizer\n",
    "from nltk.tokenize import word_tokenize\n",
    "from tqdm import tqdm\n",
    "import os\n",
    "import string\n",
    "import time\n",
    "import random\n",
    "import json\n",
    "import torch\n",
    "\n",
    "set_seed(42)\n",
    "\n",
    "def completion_judgement(incomplete, next_token):\n",
    "    tokens = word_tokenize(incomplete)\n",
    "    if len(tokens)>=100 and next_token == '.':\n",
    "        return True\n",
    "    else:\n",
    "        return False\n",
    "    \n",
    "def completion_judgement_improved(incomplete):\n",
    "    incomplete_tokens = word_tokenize(incomplete)\n",
    "    if len(incomplete_tokens) >= 150:\n",
    "        return True\n",
    "    else:\n",
    "        return False\n",
    "\n",
    "def select_model_random():\n",
    "#     model_list = ['gpt2-xl', 'facebook/opt-2.7b', 'EleutherAI/gpt-neo-2.7B', 'EleutherAI/gpt-j-6B', 'EleutherAI/gpt-neox-20b']\n",
    "    model_list = ['gpt2-xl', 'facebook/opt-2.7b', 'EleutherAI/gpt-neo-2.7B', 'EleutherAI/gpt-j-6B']\n",
    "    ran = random.randint(0,3)\n",
    "    ran_model_name = model_list[ran]\n",
    "    return ran_model_name\n",
    "\n",
    "# generate_next_token('facebook/opt-2.7b', 'The man worked as a')"
   ]
  },
  {
   "cell_type": "code",
   "execution_count": 2,
   "metadata": {},
   "outputs": [],
   "source": [
    "# max_generation_length = 200, add lenght control, adding more parameter controls\n",
    "\n",
    "def get_model_fullname(model_name):\n",
    "    return model_fullnames[model_name] if model_name in model_fullnames else model_name\n",
    "\n",
    "def from_pretrained(cls, model_name, kwargs, cache_dir):\n",
    "    # use local model if it exists\n",
    "    local_path = os.path.join(cache_dir, 'local.' + model_name.replace(\"/\", \"_\"))\n",
    "    if os.path.exists(local_path):\n",
    "        return cls.from_pretrained(local_path, **kwargs)\n",
    "    return cls.from_pretrained(model_name, **kwargs, cache_dir=cache_dir)\n",
    "\n",
    "\n",
    "def load_tokenizer(model_name, for_dataset, cache_dir):\n",
    "    model_fullname = get_model_fullname(model_name)\n",
    "    optional_tok_kwargs = {}\n",
    "    if \"facebook/opt-\" in model_fullname:\n",
    "        print(\"Using non-fast tokenizer for OPT\")\n",
    "        optional_tok_kwargs['fast'] = False\n",
    "    if for_dataset in ['pubmed']:\n",
    "        optional_tok_kwargs['padding_side'] = 'left'\n",
    "    else:\n",
    "        optional_tok_kwargs['padding_side'] = 'right'\n",
    "    base_tokenizer = from_pretrained(AutoTokenizer, model_fullname, optional_tok_kwargs, cache_dir=cache_dir)\n",
    "    if base_tokenizer.pad_token_id is None:\n",
    "        base_tokenizer.pad_token_id = base_tokenizer.eos_token_id\n",
    "        if '13b' in model_fullname:\n",
    "            base_tokenizer.pad_token_id = 0\n",
    "    return base_tokenizer\n",
    "\n",
    "def generate_next_token_improved(model_name, dataset, cache_dir, prompt):\n",
    "    generator = pipeline('text-generation', model=model_name, model_kwargs={\"cache_dir\": \"/home/fanhuan/cache\"})\n",
    "    min_length = 50\n",
    "    base_tokenizer = load_tokenizer(model_name, dataset, cache_dir)\n",
    "    result = generator(prompt, max_length=200, num_return_sequences=1, min_length=min_length, do_sample=True,\n",
    "                                                   pad_token_id=base_tokenizer.eos_token_id,\n",
    "                                                   eos_token_id=base_tokenizer.eos_token_id)\n",
    "    return result\n",
    "\n",
    "def generate_next_token_improved_GPU(model_name, dataset, cache_dir, prompt, device_num, max_length):\n",
    "    generator = pipeline('text-generation', model=model_name, model_kwargs={\"cache_dir\": \"/home/fanhuan/cache\"}, device=device_num)\n",
    "    min_length = 30\n",
    "    base_tokenizer = load_tokenizer(model_name, dataset, cache_dir)\n",
    "    result = generator(prompt, max_length=max_length, num_return_sequences=1, min_length=min_length, do_sample=True,\n",
    "                                                   pad_token_id=base_tokenizer.eos_token_id,\n",
    "                                                   eos_token_id=base_tokenizer.eos_token_id)\n",
    "    return result\n",
    "\n",
    "    \n",
    "def generate_next_token_improved_GPU_one(model_name, dataset, cache_dir, prompt, device_num):\n",
    "    generator = pipeline('text-generation', model=model_name, model_kwargs={\"cache_dir\": \"/home/fanhuan/cache\"}, device=device_num)\n",
    "    min_length = 1\n",
    "    base_tokenizer = load_tokenizer(model_name, dataset, cache_dir)\n",
    "    result = generator(prompt, num_return_sequences=1, min_length=min_length, do_sample=True,\n",
    "                                                   pad_token_id=base_tokenizer.eos_token_id,\n",
    "                                                   eos_token_id=base_tokenizer.eos_token_id, max_new_tokens=1)\n",
    "    return result"
   ]
  },
  {
   "cell_type": "code",
   "execution_count": 3,
   "metadata": {},
   "outputs": [
    {
     "data": {
      "text/html": [
       "<div>\n",
       "<style scoped>\n",
       "    .dataframe tbody tr th:only-of-type {\n",
       "        vertical-align: middle;\n",
       "    }\n",
       "\n",
       "    .dataframe tbody tr th {\n",
       "        vertical-align: top;\n",
       "    }\n",
       "\n",
       "    .dataframe thead th {\n",
       "        text-align: right;\n",
       "    }\n",
       "</style>\n",
       "<table border=\"1\" class=\"dataframe\">\n",
       "  <thead>\n",
       "    <tr style=\"text-align: right;\">\n",
       "      <th></th>\n",
       "      <th>original</th>\n",
       "      <th>sampled</th>\n",
       "    </tr>\n",
       "  </thead>\n",
       "  <tbody>\n",
       "    <tr>\n",
       "      <th>0</th>\n",
       "      <td>In 1954, major Serbian and Croatian writers, l...</td>\n",
       "      <td>In 1954, major Serbian and Croatian writers, l...</td>\n",
       "    </tr>\n",
       "    <tr>\n",
       "      <th>1</th>\n",
       "      <td>The Bush administration then turned its attent...</td>\n",
       "      <td>The Bush administration then turned its attent...</td>\n",
       "    </tr>\n",
       "    <tr>\n",
       "      <th>2</th>\n",
       "      <td>An adolescent's environment plays a huge role ...</td>\n",
       "      <td>An adolescent's environment plays a huge role ...</td>\n",
       "    </tr>\n",
       "    <tr>\n",
       "      <th>3</th>\n",
       "      <td>Compared to other team sports, the National Fo...</td>\n",
       "      <td>Compared to other team sports, the National Fo...</td>\n",
       "    </tr>\n",
       "    <tr>\n",
       "      <th>4</th>\n",
       "      <td>In practice, not all rule violations will resu...</td>\n",
       "      <td>In practice, not all rule violations will resu...</td>\n",
       "    </tr>\n",
       "    <tr>\n",
       "      <th>...</th>\n",
       "      <td>...</td>\n",
       "      <td>...</td>\n",
       "    </tr>\n",
       "    <tr>\n",
       "      <th>295</th>\n",
       "      <td>The success of its football team made Notre Da...</td>\n",
       "      <td>The success of its football team made Notre Da...</td>\n",
       "    </tr>\n",
       "    <tr>\n",
       "      <th>296</th>\n",
       "      <td>Switzerland lies between latitudes 45° and 48°...</td>\n",
       "      <td>Switzerland lies between latitudes 45° and 48°...</td>\n",
       "    </tr>\n",
       "    <tr>\n",
       "      <th>297</th>\n",
       "      <td>Boston has a continental climate with some mar...</td>\n",
       "      <td>Boston has a continental climate with some mar...</td>\n",
       "    </tr>\n",
       "    <tr>\n",
       "      <th>298</th>\n",
       "      <td>In December, Beyoncé along with a variety of o...</td>\n",
       "      <td>In December, Beyoncé along with a variety of o...</td>\n",
       "    </tr>\n",
       "    <tr>\n",
       "      <th>299</th>\n",
       "      <td>As Muslim institutions of higher learning, the...</td>\n",
       "      <td>As Muslim institutions of higher learning, the...</td>\n",
       "    </tr>\n",
       "  </tbody>\n",
       "</table>\n",
       "<p>300 rows × 2 columns</p>\n",
       "</div>"
      ],
      "text/plain": [
       "                                              original   \n",
       "0    In 1954, major Serbian and Croatian writers, l...  \\\n",
       "1    The Bush administration then turned its attent...   \n",
       "2    An adolescent's environment plays a huge role ...   \n",
       "3    Compared to other team sports, the National Fo...   \n",
       "4    In practice, not all rule violations will resu...   \n",
       "..                                                 ...   \n",
       "295  The success of its football team made Notre Da...   \n",
       "296  Switzerland lies between latitudes 45° and 48°...   \n",
       "297  Boston has a continental climate with some mar...   \n",
       "298  In December, Beyoncé along with a variety of o...   \n",
       "299  As Muslim institutions of higher learning, the...   \n",
       "\n",
       "                                               sampled  \n",
       "0    In 1954, major Serbian and Croatian writers, l...  \n",
       "1    The Bush administration then turned its attent...  \n",
       "2    An adolescent's environment plays a huge role ...  \n",
       "3    Compared to other team sports, the National Fo...  \n",
       "4    In practice, not all rule violations will resu...  \n",
       "..                                                 ...  \n",
       "295  The success of its football team made Notre Da...  \n",
       "296  Switzerland lies between latitudes 45° and 48°...  \n",
       "297  Boston has a continental climate with some mar...  \n",
       "298  In December, Beyoncé along with a variety of o...  \n",
       "299  As Muslim institutions of higher learning, the...  \n",
       "\n",
       "[300 rows x 2 columns]"
      ]
     },
     "execution_count": 3,
     "metadata": {},
     "output_type": "execute_result"
    }
   ],
   "source": [
    "# read data file\n",
    "import pandas as pd\n",
    "import numpy as np\n",
    "df = pd.read_json('datasets/fast-detectgpt/squad_gpt2-xl.raw_data.json', orient='records')\n",
    "df"
   ]
  },
  {
   "cell_type": "markdown",
   "metadata": {},
   "source": [
    "# Speed Up: no inherit, direct using model.generate()"
   ]
  },
  {
   "cell_type": "markdown",
   "metadata": {},
   "source": [
    "# One-token generation ensemble"
   ]
  },
  {
   "cell_type": "code",
   "execution_count": 4,
   "metadata": {},
   "outputs": [
    {
     "data": {
      "text/plain": [
       "GPTJForCausalLM(\n",
       "  (transformer): GPTJModel(\n",
       "    (wte): Embedding(50400, 4096)\n",
       "    (drop): Dropout(p=0.0, inplace=False)\n",
       "    (h): ModuleList(\n",
       "      (0): GPTJBlock(\n",
       "        (ln_1): LayerNorm((4096,), eps=1e-05, elementwise_affine=True)\n",
       "        (attn): GPTJAttention(\n",
       "          (attn_dropout): Dropout(p=0.0, inplace=False)\n",
       "          (resid_dropout): Dropout(p=0.0, inplace=False)\n",
       "          (k_proj): Linear(in_features=4096, out_features=4096, bias=False)\n",
       "          (v_proj): Linear(in_features=4096, out_features=4096, bias=False)\n",
       "          (q_proj): Linear(in_features=4096, out_features=4096, bias=False)\n",
       "          (out_proj): Linear(in_features=4096, out_features=4096, bias=False)\n",
       "        )\n",
       "        (mlp): GPTJMLP(\n",
       "          (fc_in): Linear(in_features=4096, out_features=16384, bias=True)\n",
       "          (fc_out): Linear(in_features=16384, out_features=4096, bias=True)\n",
       "          (act): NewGELUActivation()\n",
       "          (dropout): Dropout(p=0.0, inplace=False)\n",
       "        )\n",
       "      )\n",
       "      (1): GPTJBlock(\n",
       "        (ln_1): LayerNorm((4096,), eps=1e-05, elementwise_affine=True)\n",
       "        (attn): GPTJAttention(\n",
       "          (attn_dropout): Dropout(p=0.0, inplace=False)\n",
       "          (resid_dropout): Dropout(p=0.0, inplace=False)\n",
       "          (k_proj): Linear(in_features=4096, out_features=4096, bias=False)\n",
       "          (v_proj): Linear(in_features=4096, out_features=4096, bias=False)\n",
       "          (q_proj): Linear(in_features=4096, out_features=4096, bias=False)\n",
       "          (out_proj): Linear(in_features=4096, out_features=4096, bias=False)\n",
       "        )\n",
       "        (mlp): GPTJMLP(\n",
       "          (fc_in): Linear(in_features=4096, out_features=16384, bias=True)\n",
       "          (fc_out): Linear(in_features=16384, out_features=4096, bias=True)\n",
       "          (act): NewGELUActivation()\n",
       "          (dropout): Dropout(p=0.0, inplace=False)\n",
       "        )\n",
       "      )\n",
       "      (2): GPTJBlock(\n",
       "        (ln_1): LayerNorm((4096,), eps=1e-05, elementwise_affine=True)\n",
       "        (attn): GPTJAttention(\n",
       "          (attn_dropout): Dropout(p=0.0, inplace=False)\n",
       "          (resid_dropout): Dropout(p=0.0, inplace=False)\n",
       "          (k_proj): Linear(in_features=4096, out_features=4096, bias=False)\n",
       "          (v_proj): Linear(in_features=4096, out_features=4096, bias=False)\n",
       "          (q_proj): Linear(in_features=4096, out_features=4096, bias=False)\n",
       "          (out_proj): Linear(in_features=4096, out_features=4096, bias=False)\n",
       "        )\n",
       "        (mlp): GPTJMLP(\n",
       "          (fc_in): Linear(in_features=4096, out_features=16384, bias=True)\n",
       "          (fc_out): Linear(in_features=16384, out_features=4096, bias=True)\n",
       "          (act): NewGELUActivation()\n",
       "          (dropout): Dropout(p=0.0, inplace=False)\n",
       "        )\n",
       "      )\n",
       "      (3): GPTJBlock(\n",
       "        (ln_1): LayerNorm((4096,), eps=1e-05, elementwise_affine=True)\n",
       "        (attn): GPTJAttention(\n",
       "          (attn_dropout): Dropout(p=0.0, inplace=False)\n",
       "          (resid_dropout): Dropout(p=0.0, inplace=False)\n",
       "          (k_proj): Linear(in_features=4096, out_features=4096, bias=False)\n",
       "          (v_proj): Linear(in_features=4096, out_features=4096, bias=False)\n",
       "          (q_proj): Linear(in_features=4096, out_features=4096, bias=False)\n",
       "          (out_proj): Linear(in_features=4096, out_features=4096, bias=False)\n",
       "        )\n",
       "        (mlp): GPTJMLP(\n",
       "          (fc_in): Linear(in_features=4096, out_features=16384, bias=True)\n",
       "          (fc_out): Linear(in_features=16384, out_features=4096, bias=True)\n",
       "          (act): NewGELUActivation()\n",
       "          (dropout): Dropout(p=0.0, inplace=False)\n",
       "        )\n",
       "      )\n",
       "      (4): GPTJBlock(\n",
       "        (ln_1): LayerNorm((4096,), eps=1e-05, elementwise_affine=True)\n",
       "        (attn): GPTJAttention(\n",
       "          (attn_dropout): Dropout(p=0.0, inplace=False)\n",
       "          (resid_dropout): Dropout(p=0.0, inplace=False)\n",
       "          (k_proj): Linear(in_features=4096, out_features=4096, bias=False)\n",
       "          (v_proj): Linear(in_features=4096, out_features=4096, bias=False)\n",
       "          (q_proj): Linear(in_features=4096, out_features=4096, bias=False)\n",
       "          (out_proj): Linear(in_features=4096, out_features=4096, bias=False)\n",
       "        )\n",
       "        (mlp): GPTJMLP(\n",
       "          (fc_in): Linear(in_features=4096, out_features=16384, bias=True)\n",
       "          (fc_out): Linear(in_features=16384, out_features=4096, bias=True)\n",
       "          (act): NewGELUActivation()\n",
       "          (dropout): Dropout(p=0.0, inplace=False)\n",
       "        )\n",
       "      )\n",
       "      (5): GPTJBlock(\n",
       "        (ln_1): LayerNorm((4096,), eps=1e-05, elementwise_affine=True)\n",
       "        (attn): GPTJAttention(\n",
       "          (attn_dropout): Dropout(p=0.0, inplace=False)\n",
       "          (resid_dropout): Dropout(p=0.0, inplace=False)\n",
       "          (k_proj): Linear(in_features=4096, out_features=4096, bias=False)\n",
       "          (v_proj): Linear(in_features=4096, out_features=4096, bias=False)\n",
       "          (q_proj): Linear(in_features=4096, out_features=4096, bias=False)\n",
       "          (out_proj): Linear(in_features=4096, out_features=4096, bias=False)\n",
       "        )\n",
       "        (mlp): GPTJMLP(\n",
       "          (fc_in): Linear(in_features=4096, out_features=16384, bias=True)\n",
       "          (fc_out): Linear(in_features=16384, out_features=4096, bias=True)\n",
       "          (act): NewGELUActivation()\n",
       "          (dropout): Dropout(p=0.0, inplace=False)\n",
       "        )\n",
       "      )\n",
       "      (6): GPTJBlock(\n",
       "        (ln_1): LayerNorm((4096,), eps=1e-05, elementwise_affine=True)\n",
       "        (attn): GPTJAttention(\n",
       "          (attn_dropout): Dropout(p=0.0, inplace=False)\n",
       "          (resid_dropout): Dropout(p=0.0, inplace=False)\n",
       "          (k_proj): Linear(in_features=4096, out_features=4096, bias=False)\n",
       "          (v_proj): Linear(in_features=4096, out_features=4096, bias=False)\n",
       "          (q_proj): Linear(in_features=4096, out_features=4096, bias=False)\n",
       "          (out_proj): Linear(in_features=4096, out_features=4096, bias=False)\n",
       "        )\n",
       "        (mlp): GPTJMLP(\n",
       "          (fc_in): Linear(in_features=4096, out_features=16384, bias=True)\n",
       "          (fc_out): Linear(in_features=16384, out_features=4096, bias=True)\n",
       "          (act): NewGELUActivation()\n",
       "          (dropout): Dropout(p=0.0, inplace=False)\n",
       "        )\n",
       "      )\n",
       "      (7): GPTJBlock(\n",
       "        (ln_1): LayerNorm((4096,), eps=1e-05, elementwise_affine=True)\n",
       "        (attn): GPTJAttention(\n",
       "          (attn_dropout): Dropout(p=0.0, inplace=False)\n",
       "          (resid_dropout): Dropout(p=0.0, inplace=False)\n",
       "          (k_proj): Linear(in_features=4096, out_features=4096, bias=False)\n",
       "          (v_proj): Linear(in_features=4096, out_features=4096, bias=False)\n",
       "          (q_proj): Linear(in_features=4096, out_features=4096, bias=False)\n",
       "          (out_proj): Linear(in_features=4096, out_features=4096, bias=False)\n",
       "        )\n",
       "        (mlp): GPTJMLP(\n",
       "          (fc_in): Linear(in_features=4096, out_features=16384, bias=True)\n",
       "          (fc_out): Linear(in_features=16384, out_features=4096, bias=True)\n",
       "          (act): NewGELUActivation()\n",
       "          (dropout): Dropout(p=0.0, inplace=False)\n",
       "        )\n",
       "      )\n",
       "      (8): GPTJBlock(\n",
       "        (ln_1): LayerNorm((4096,), eps=1e-05, elementwise_affine=True)\n",
       "        (attn): GPTJAttention(\n",
       "          (attn_dropout): Dropout(p=0.0, inplace=False)\n",
       "          (resid_dropout): Dropout(p=0.0, inplace=False)\n",
       "          (k_proj): Linear(in_features=4096, out_features=4096, bias=False)\n",
       "          (v_proj): Linear(in_features=4096, out_features=4096, bias=False)\n",
       "          (q_proj): Linear(in_features=4096, out_features=4096, bias=False)\n",
       "          (out_proj): Linear(in_features=4096, out_features=4096, bias=False)\n",
       "        )\n",
       "        (mlp): GPTJMLP(\n",
       "          (fc_in): Linear(in_features=4096, out_features=16384, bias=True)\n",
       "          (fc_out): Linear(in_features=16384, out_features=4096, bias=True)\n",
       "          (act): NewGELUActivation()\n",
       "          (dropout): Dropout(p=0.0, inplace=False)\n",
       "        )\n",
       "      )\n",
       "      (9): GPTJBlock(\n",
       "        (ln_1): LayerNorm((4096,), eps=1e-05, elementwise_affine=True)\n",
       "        (attn): GPTJAttention(\n",
       "          (attn_dropout): Dropout(p=0.0, inplace=False)\n",
       "          (resid_dropout): Dropout(p=0.0, inplace=False)\n",
       "          (k_proj): Linear(in_features=4096, out_features=4096, bias=False)\n",
       "          (v_proj): Linear(in_features=4096, out_features=4096, bias=False)\n",
       "          (q_proj): Linear(in_features=4096, out_features=4096, bias=False)\n",
       "          (out_proj): Linear(in_features=4096, out_features=4096, bias=False)\n",
       "        )\n",
       "        (mlp): GPTJMLP(\n",
       "          (fc_in): Linear(in_features=4096, out_features=16384, bias=True)\n",
       "          (fc_out): Linear(in_features=16384, out_features=4096, bias=True)\n",
       "          (act): NewGELUActivation()\n",
       "          (dropout): Dropout(p=0.0, inplace=False)\n",
       "        )\n",
       "      )\n",
       "      (10): GPTJBlock(\n",
       "        (ln_1): LayerNorm((4096,), eps=1e-05, elementwise_affine=True)\n",
       "        (attn): GPTJAttention(\n",
       "          (attn_dropout): Dropout(p=0.0, inplace=False)\n",
       "          (resid_dropout): Dropout(p=0.0, inplace=False)\n",
       "          (k_proj): Linear(in_features=4096, out_features=4096, bias=False)\n",
       "          (v_proj): Linear(in_features=4096, out_features=4096, bias=False)\n",
       "          (q_proj): Linear(in_features=4096, out_features=4096, bias=False)\n",
       "          (out_proj): Linear(in_features=4096, out_features=4096, bias=False)\n",
       "        )\n",
       "        (mlp): GPTJMLP(\n",
       "          (fc_in): Linear(in_features=4096, out_features=16384, bias=True)\n",
       "          (fc_out): Linear(in_features=16384, out_features=4096, bias=True)\n",
       "          (act): NewGELUActivation()\n",
       "          (dropout): Dropout(p=0.0, inplace=False)\n",
       "        )\n",
       "      )\n",
       "      (11): GPTJBlock(\n",
       "        (ln_1): LayerNorm((4096,), eps=1e-05, elementwise_affine=True)\n",
       "        (attn): GPTJAttention(\n",
       "          (attn_dropout): Dropout(p=0.0, inplace=False)\n",
       "          (resid_dropout): Dropout(p=0.0, inplace=False)\n",
       "          (k_proj): Linear(in_features=4096, out_features=4096, bias=False)\n",
       "          (v_proj): Linear(in_features=4096, out_features=4096, bias=False)\n",
       "          (q_proj): Linear(in_features=4096, out_features=4096, bias=False)\n",
       "          (out_proj): Linear(in_features=4096, out_features=4096, bias=False)\n",
       "        )\n",
       "        (mlp): GPTJMLP(\n",
       "          (fc_in): Linear(in_features=4096, out_features=16384, bias=True)\n",
       "          (fc_out): Linear(in_features=16384, out_features=4096, bias=True)\n",
       "          (act): NewGELUActivation()\n",
       "          (dropout): Dropout(p=0.0, inplace=False)\n",
       "        )\n",
       "      )\n",
       "      (12): GPTJBlock(\n",
       "        (ln_1): LayerNorm((4096,), eps=1e-05, elementwise_affine=True)\n",
       "        (attn): GPTJAttention(\n",
       "          (attn_dropout): Dropout(p=0.0, inplace=False)\n",
       "          (resid_dropout): Dropout(p=0.0, inplace=False)\n",
       "          (k_proj): Linear(in_features=4096, out_features=4096, bias=False)\n",
       "          (v_proj): Linear(in_features=4096, out_features=4096, bias=False)\n",
       "          (q_proj): Linear(in_features=4096, out_features=4096, bias=False)\n",
       "          (out_proj): Linear(in_features=4096, out_features=4096, bias=False)\n",
       "        )\n",
       "        (mlp): GPTJMLP(\n",
       "          (fc_in): Linear(in_features=4096, out_features=16384, bias=True)\n",
       "          (fc_out): Linear(in_features=16384, out_features=4096, bias=True)\n",
       "          (act): NewGELUActivation()\n",
       "          (dropout): Dropout(p=0.0, inplace=False)\n",
       "        )\n",
       "      )\n",
       "      (13): GPTJBlock(\n",
       "        (ln_1): LayerNorm((4096,), eps=1e-05, elementwise_affine=True)\n",
       "        (attn): GPTJAttention(\n",
       "          (attn_dropout): Dropout(p=0.0, inplace=False)\n",
       "          (resid_dropout): Dropout(p=0.0, inplace=False)\n",
       "          (k_proj): Linear(in_features=4096, out_features=4096, bias=False)\n",
       "          (v_proj): Linear(in_features=4096, out_features=4096, bias=False)\n",
       "          (q_proj): Linear(in_features=4096, out_features=4096, bias=False)\n",
       "          (out_proj): Linear(in_features=4096, out_features=4096, bias=False)\n",
       "        )\n",
       "        (mlp): GPTJMLP(\n",
       "          (fc_in): Linear(in_features=4096, out_features=16384, bias=True)\n",
       "          (fc_out): Linear(in_features=16384, out_features=4096, bias=True)\n",
       "          (act): NewGELUActivation()\n",
       "          (dropout): Dropout(p=0.0, inplace=False)\n",
       "        )\n",
       "      )\n",
       "      (14): GPTJBlock(\n",
       "        (ln_1): LayerNorm((4096,), eps=1e-05, elementwise_affine=True)\n",
       "        (attn): GPTJAttention(\n",
       "          (attn_dropout): Dropout(p=0.0, inplace=False)\n",
       "          (resid_dropout): Dropout(p=0.0, inplace=False)\n",
       "          (k_proj): Linear(in_features=4096, out_features=4096, bias=False)\n",
       "          (v_proj): Linear(in_features=4096, out_features=4096, bias=False)\n",
       "          (q_proj): Linear(in_features=4096, out_features=4096, bias=False)\n",
       "          (out_proj): Linear(in_features=4096, out_features=4096, bias=False)\n",
       "        )\n",
       "        (mlp): GPTJMLP(\n",
       "          (fc_in): Linear(in_features=4096, out_features=16384, bias=True)\n",
       "          (fc_out): Linear(in_features=16384, out_features=4096, bias=True)\n",
       "          (act): NewGELUActivation()\n",
       "          (dropout): Dropout(p=0.0, inplace=False)\n",
       "        )\n",
       "      )\n",
       "      (15): GPTJBlock(\n",
       "        (ln_1): LayerNorm((4096,), eps=1e-05, elementwise_affine=True)\n",
       "        (attn): GPTJAttention(\n",
       "          (attn_dropout): Dropout(p=0.0, inplace=False)\n",
       "          (resid_dropout): Dropout(p=0.0, inplace=False)\n",
       "          (k_proj): Linear(in_features=4096, out_features=4096, bias=False)\n",
       "          (v_proj): Linear(in_features=4096, out_features=4096, bias=False)\n",
       "          (q_proj): Linear(in_features=4096, out_features=4096, bias=False)\n",
       "          (out_proj): Linear(in_features=4096, out_features=4096, bias=False)\n",
       "        )\n",
       "        (mlp): GPTJMLP(\n",
       "          (fc_in): Linear(in_features=4096, out_features=16384, bias=True)\n",
       "          (fc_out): Linear(in_features=16384, out_features=4096, bias=True)\n",
       "          (act): NewGELUActivation()\n",
       "          (dropout): Dropout(p=0.0, inplace=False)\n",
       "        )\n",
       "      )\n",
       "      (16): GPTJBlock(\n",
       "        (ln_1): LayerNorm((4096,), eps=1e-05, elementwise_affine=True)\n",
       "        (attn): GPTJAttention(\n",
       "          (attn_dropout): Dropout(p=0.0, inplace=False)\n",
       "          (resid_dropout): Dropout(p=0.0, inplace=False)\n",
       "          (k_proj): Linear(in_features=4096, out_features=4096, bias=False)\n",
       "          (v_proj): Linear(in_features=4096, out_features=4096, bias=False)\n",
       "          (q_proj): Linear(in_features=4096, out_features=4096, bias=False)\n",
       "          (out_proj): Linear(in_features=4096, out_features=4096, bias=False)\n",
       "        )\n",
       "        (mlp): GPTJMLP(\n",
       "          (fc_in): Linear(in_features=4096, out_features=16384, bias=True)\n",
       "          (fc_out): Linear(in_features=16384, out_features=4096, bias=True)\n",
       "          (act): NewGELUActivation()\n",
       "          (dropout): Dropout(p=0.0, inplace=False)\n",
       "        )\n",
       "      )\n",
       "      (17): GPTJBlock(\n",
       "        (ln_1): LayerNorm((4096,), eps=1e-05, elementwise_affine=True)\n",
       "        (attn): GPTJAttention(\n",
       "          (attn_dropout): Dropout(p=0.0, inplace=False)\n",
       "          (resid_dropout): Dropout(p=0.0, inplace=False)\n",
       "          (k_proj): Linear(in_features=4096, out_features=4096, bias=False)\n",
       "          (v_proj): Linear(in_features=4096, out_features=4096, bias=False)\n",
       "          (q_proj): Linear(in_features=4096, out_features=4096, bias=False)\n",
       "          (out_proj): Linear(in_features=4096, out_features=4096, bias=False)\n",
       "        )\n",
       "        (mlp): GPTJMLP(\n",
       "          (fc_in): Linear(in_features=4096, out_features=16384, bias=True)\n",
       "          (fc_out): Linear(in_features=16384, out_features=4096, bias=True)\n",
       "          (act): NewGELUActivation()\n",
       "          (dropout): Dropout(p=0.0, inplace=False)\n",
       "        )\n",
       "      )\n",
       "      (18): GPTJBlock(\n",
       "        (ln_1): LayerNorm((4096,), eps=1e-05, elementwise_affine=True)\n",
       "        (attn): GPTJAttention(\n",
       "          (attn_dropout): Dropout(p=0.0, inplace=False)\n",
       "          (resid_dropout): Dropout(p=0.0, inplace=False)\n",
       "          (k_proj): Linear(in_features=4096, out_features=4096, bias=False)\n",
       "          (v_proj): Linear(in_features=4096, out_features=4096, bias=False)\n",
       "          (q_proj): Linear(in_features=4096, out_features=4096, bias=False)\n",
       "          (out_proj): Linear(in_features=4096, out_features=4096, bias=False)\n",
       "        )\n",
       "        (mlp): GPTJMLP(\n",
       "          (fc_in): Linear(in_features=4096, out_features=16384, bias=True)\n",
       "          (fc_out): Linear(in_features=16384, out_features=4096, bias=True)\n",
       "          (act): NewGELUActivation()\n",
       "          (dropout): Dropout(p=0.0, inplace=False)\n",
       "        )\n",
       "      )\n",
       "      (19): GPTJBlock(\n",
       "        (ln_1): LayerNorm((4096,), eps=1e-05, elementwise_affine=True)\n",
       "        (attn): GPTJAttention(\n",
       "          (attn_dropout): Dropout(p=0.0, inplace=False)\n",
       "          (resid_dropout): Dropout(p=0.0, inplace=False)\n",
       "          (k_proj): Linear(in_features=4096, out_features=4096, bias=False)\n",
       "          (v_proj): Linear(in_features=4096, out_features=4096, bias=False)\n",
       "          (q_proj): Linear(in_features=4096, out_features=4096, bias=False)\n",
       "          (out_proj): Linear(in_features=4096, out_features=4096, bias=False)\n",
       "        )\n",
       "        (mlp): GPTJMLP(\n",
       "          (fc_in): Linear(in_features=4096, out_features=16384, bias=True)\n",
       "          (fc_out): Linear(in_features=16384, out_features=4096, bias=True)\n",
       "          (act): NewGELUActivation()\n",
       "          (dropout): Dropout(p=0.0, inplace=False)\n",
       "        )\n",
       "      )\n",
       "      (20): GPTJBlock(\n",
       "        (ln_1): LayerNorm((4096,), eps=1e-05, elementwise_affine=True)\n",
       "        (attn): GPTJAttention(\n",
       "          (attn_dropout): Dropout(p=0.0, inplace=False)\n",
       "          (resid_dropout): Dropout(p=0.0, inplace=False)\n",
       "          (k_proj): Linear(in_features=4096, out_features=4096, bias=False)\n",
       "          (v_proj): Linear(in_features=4096, out_features=4096, bias=False)\n",
       "          (q_proj): Linear(in_features=4096, out_features=4096, bias=False)\n",
       "          (out_proj): Linear(in_features=4096, out_features=4096, bias=False)\n",
       "        )\n",
       "        (mlp): GPTJMLP(\n",
       "          (fc_in): Linear(in_features=4096, out_features=16384, bias=True)\n",
       "          (fc_out): Linear(in_features=16384, out_features=4096, bias=True)\n",
       "          (act): NewGELUActivation()\n",
       "          (dropout): Dropout(p=0.0, inplace=False)\n",
       "        )\n",
       "      )\n",
       "      (21): GPTJBlock(\n",
       "        (ln_1): LayerNorm((4096,), eps=1e-05, elementwise_affine=True)\n",
       "        (attn): GPTJAttention(\n",
       "          (attn_dropout): Dropout(p=0.0, inplace=False)\n",
       "          (resid_dropout): Dropout(p=0.0, inplace=False)\n",
       "          (k_proj): Linear(in_features=4096, out_features=4096, bias=False)\n",
       "          (v_proj): Linear(in_features=4096, out_features=4096, bias=False)\n",
       "          (q_proj): Linear(in_features=4096, out_features=4096, bias=False)\n",
       "          (out_proj): Linear(in_features=4096, out_features=4096, bias=False)\n",
       "        )\n",
       "        (mlp): GPTJMLP(\n",
       "          (fc_in): Linear(in_features=4096, out_features=16384, bias=True)\n",
       "          (fc_out): Linear(in_features=16384, out_features=4096, bias=True)\n",
       "          (act): NewGELUActivation()\n",
       "          (dropout): Dropout(p=0.0, inplace=False)\n",
       "        )\n",
       "      )\n",
       "      (22): GPTJBlock(\n",
       "        (ln_1): LayerNorm((4096,), eps=1e-05, elementwise_affine=True)\n",
       "        (attn): GPTJAttention(\n",
       "          (attn_dropout): Dropout(p=0.0, inplace=False)\n",
       "          (resid_dropout): Dropout(p=0.0, inplace=False)\n",
       "          (k_proj): Linear(in_features=4096, out_features=4096, bias=False)\n",
       "          (v_proj): Linear(in_features=4096, out_features=4096, bias=False)\n",
       "          (q_proj): Linear(in_features=4096, out_features=4096, bias=False)\n",
       "          (out_proj): Linear(in_features=4096, out_features=4096, bias=False)\n",
       "        )\n",
       "        (mlp): GPTJMLP(\n",
       "          (fc_in): Linear(in_features=4096, out_features=16384, bias=True)\n",
       "          (fc_out): Linear(in_features=16384, out_features=4096, bias=True)\n",
       "          (act): NewGELUActivation()\n",
       "          (dropout): Dropout(p=0.0, inplace=False)\n",
       "        )\n",
       "      )\n",
       "      (23): GPTJBlock(\n",
       "        (ln_1): LayerNorm((4096,), eps=1e-05, elementwise_affine=True)\n",
       "        (attn): GPTJAttention(\n",
       "          (attn_dropout): Dropout(p=0.0, inplace=False)\n",
       "          (resid_dropout): Dropout(p=0.0, inplace=False)\n",
       "          (k_proj): Linear(in_features=4096, out_features=4096, bias=False)\n",
       "          (v_proj): Linear(in_features=4096, out_features=4096, bias=False)\n",
       "          (q_proj): Linear(in_features=4096, out_features=4096, bias=False)\n",
       "          (out_proj): Linear(in_features=4096, out_features=4096, bias=False)\n",
       "        )\n",
       "        (mlp): GPTJMLP(\n",
       "          (fc_in): Linear(in_features=4096, out_features=16384, bias=True)\n",
       "          (fc_out): Linear(in_features=16384, out_features=4096, bias=True)\n",
       "          (act): NewGELUActivation()\n",
       "          (dropout): Dropout(p=0.0, inplace=False)\n",
       "        )\n",
       "      )\n",
       "      (24): GPTJBlock(\n",
       "        (ln_1): LayerNorm((4096,), eps=1e-05, elementwise_affine=True)\n",
       "        (attn): GPTJAttention(\n",
       "          (attn_dropout): Dropout(p=0.0, inplace=False)\n",
       "          (resid_dropout): Dropout(p=0.0, inplace=False)\n",
       "          (k_proj): Linear(in_features=4096, out_features=4096, bias=False)\n",
       "          (v_proj): Linear(in_features=4096, out_features=4096, bias=False)\n",
       "          (q_proj): Linear(in_features=4096, out_features=4096, bias=False)\n",
       "          (out_proj): Linear(in_features=4096, out_features=4096, bias=False)\n",
       "        )\n",
       "        (mlp): GPTJMLP(\n",
       "          (fc_in): Linear(in_features=4096, out_features=16384, bias=True)\n",
       "          (fc_out): Linear(in_features=16384, out_features=4096, bias=True)\n",
       "          (act): NewGELUActivation()\n",
       "          (dropout): Dropout(p=0.0, inplace=False)\n",
       "        )\n",
       "      )\n",
       "      (25): GPTJBlock(\n",
       "        (ln_1): LayerNorm((4096,), eps=1e-05, elementwise_affine=True)\n",
       "        (attn): GPTJAttention(\n",
       "          (attn_dropout): Dropout(p=0.0, inplace=False)\n",
       "          (resid_dropout): Dropout(p=0.0, inplace=False)\n",
       "          (k_proj): Linear(in_features=4096, out_features=4096, bias=False)\n",
       "          (v_proj): Linear(in_features=4096, out_features=4096, bias=False)\n",
       "          (q_proj): Linear(in_features=4096, out_features=4096, bias=False)\n",
       "          (out_proj): Linear(in_features=4096, out_features=4096, bias=False)\n",
       "        )\n",
       "        (mlp): GPTJMLP(\n",
       "          (fc_in): Linear(in_features=4096, out_features=16384, bias=True)\n",
       "          (fc_out): Linear(in_features=16384, out_features=4096, bias=True)\n",
       "          (act): NewGELUActivation()\n",
       "          (dropout): Dropout(p=0.0, inplace=False)\n",
       "        )\n",
       "      )\n",
       "      (26): GPTJBlock(\n",
       "        (ln_1): LayerNorm((4096,), eps=1e-05, elementwise_affine=True)\n",
       "        (attn): GPTJAttention(\n",
       "          (attn_dropout): Dropout(p=0.0, inplace=False)\n",
       "          (resid_dropout): Dropout(p=0.0, inplace=False)\n",
       "          (k_proj): Linear(in_features=4096, out_features=4096, bias=False)\n",
       "          (v_proj): Linear(in_features=4096, out_features=4096, bias=False)\n",
       "          (q_proj): Linear(in_features=4096, out_features=4096, bias=False)\n",
       "          (out_proj): Linear(in_features=4096, out_features=4096, bias=False)\n",
       "        )\n",
       "        (mlp): GPTJMLP(\n",
       "          (fc_in): Linear(in_features=4096, out_features=16384, bias=True)\n",
       "          (fc_out): Linear(in_features=16384, out_features=4096, bias=True)\n",
       "          (act): NewGELUActivation()\n",
       "          (dropout): Dropout(p=0.0, inplace=False)\n",
       "        )\n",
       "      )\n",
       "      (27): GPTJBlock(\n",
       "        (ln_1): LayerNorm((4096,), eps=1e-05, elementwise_affine=True)\n",
       "        (attn): GPTJAttention(\n",
       "          (attn_dropout): Dropout(p=0.0, inplace=False)\n",
       "          (resid_dropout): Dropout(p=0.0, inplace=False)\n",
       "          (k_proj): Linear(in_features=4096, out_features=4096, bias=False)\n",
       "          (v_proj): Linear(in_features=4096, out_features=4096, bias=False)\n",
       "          (q_proj): Linear(in_features=4096, out_features=4096, bias=False)\n",
       "          (out_proj): Linear(in_features=4096, out_features=4096, bias=False)\n",
       "        )\n",
       "        (mlp): GPTJMLP(\n",
       "          (fc_in): Linear(in_features=4096, out_features=16384, bias=True)\n",
       "          (fc_out): Linear(in_features=16384, out_features=4096, bias=True)\n",
       "          (act): NewGELUActivation()\n",
       "          (dropout): Dropout(p=0.0, inplace=False)\n",
       "        )\n",
       "      )\n",
       "    )\n",
       "    (ln_f): LayerNorm((4096,), eps=1e-05, elementwise_affine=True)\n",
       "  )\n",
       "  (lm_head): Linear(in_features=4096, out_features=50400, bias=True)\n",
       ")"
      ]
     },
     "execution_count": 4,
     "metadata": {},
     "output_type": "execute_result"
    }
   ],
   "source": [
    "model_list = ['gpt2-xl', 'facebook/opt-2.7b', 'EleutherAI/gpt-neo-2.7B', 'EleutherAI/gpt-j-6B']\n",
    "model_name_1 = model_list[0]\n",
    "model_name_2 = model_list[1]\n",
    "model_name_3 = model_list[2]\n",
    "model_name_4 = model_list[3]\n",
    "\n",
    "# device_num = 4\n",
    "cuda_name = 'cuda:5'\n",
    "\n",
    "# load models, tokenizer and basic EOS and PAD token_id in the GPU first\n",
    "\n",
    "tokenizer_1 = AutoTokenizer.from_pretrained(model_name_1, cache_dir = '/home/fanhuan/cache')\n",
    "model_1 = AutoModelForCausalLM.from_pretrained(model_name_1, cache_dir = '/home/fanhuan/cache')\n",
    "tokenizer_1.pad_token_id = tokenizer_1.eos_token_id\n",
    "\n",
    "tokenizer_2 = AutoTokenizer.from_pretrained(model_name_2, cache_dir = '/home/fanhuan/cache')\n",
    "model_2 = AutoModelForCausalLM.from_pretrained(model_name_2, cache_dir = '/home/fanhuan/cache')\n",
    "tokenizer_2.pad_token_id = tokenizer_2.eos_token_id\n",
    "\n",
    "tokenizer_3 = AutoTokenizer.from_pretrained(model_name_3, cache_dir = '/home/fanhuan/cache')\n",
    "model_3 = AutoModelForCausalLM.from_pretrained(model_name_3, cache_dir = '/home/fanhuan/cache')\n",
    "tokenizer_3.pad_token_id = tokenizer_3.eos_token_id\n",
    "\n",
    "tokenizer_4 = AutoTokenizer.from_pretrained(model_name_4, cache_dir = '/home/fanhuan/cache')\n",
    "model_4 = AutoModelForCausalLM.from_pretrained(model_name_4, cache_dir = '/home/fanhuan/cache')\n",
    "tokenizer_4.pad_token_id = tokenizer_4.eos_token_id\n",
    "\n",
    "model_1.to(cuda_name)\n",
    "model_2.to(cuda_name)\n",
    "model_3.to(cuda_name)\n",
    "model_4.to(cuda_name)"
   ]
  },
  {
   "cell_type": "code",
   "execution_count": 5,
   "metadata": {},
   "outputs": [],
   "source": [
    "model_info_list = []\n",
    "model_info_list.append([model_name_1, tokenizer_1, model_1])\n",
    "model_info_list.append([model_name_2, tokenizer_2, model_2])\n",
    "model_info_list.append([model_name_3, tokenizer_3, model_3])\n",
    "model_info_list.append([model_name_4, tokenizer_4, model_4])"
   ]
  },
  {
   "cell_type": "code",
   "execution_count": 6,
   "metadata": {},
   "outputs": [
    {
     "data": {
      "text/plain": [
       "transformers.models.gpt2.tokenization_gpt2_fast.GPT2TokenizerFast"
      ]
     },
     "execution_count": 6,
     "metadata": {},
     "output_type": "execute_result"
    }
   ],
   "source": [
    "type(model_info_list[0][1])"
   ]
  },
  {
   "cell_type": "code",
   "execution_count": 8,
   "metadata": {},
   "outputs": [],
   "source": [
    "def select_model_random_loaded(model_info_list):\n",
    "        \n",
    "    model_info = random.choice(model_info_list)\n",
    "    model_name = model_info[0]\n",
    "    tokenizer = model_info[1]\n",
    "    model = model_info[2]\n",
    "    \n",
    "    return model_name, tokenizer, model\n",
    "\n",
    "def completion_judgement(incomplete, next_token):\n",
    "    tokens = word_tokenize(incomplete)\n",
    "    if (len(tokens)>=100 and next_token == '.') or (len(tokens)>=150):\n",
    "        return True\n",
    "    else:\n",
    "        return False"
   ]
  },
  {
   "cell_type": "code",
   "execution_count": 13,
   "metadata": {
    "scrolled": true
   },
   "outputs": [
    {
     "name": "stderr",
     "output_type": "stream",
     "text": [
      "  1%|█                                                                                                          | 1/100 [00:09<15:54,  9.64s/it]"
     ]
    },
    {
     "name": "stdout",
     "output_type": "stream",
     "text": [
      "The completed version is: In 1954 , major Serbian and Croatian writers , linguists and literary critics , backed by Matica srpska and Matica hrvatska signed the Novi Sad Agreement , which in its main points agreed that Serbia would not declare Yugoslavia 's future political status but would agree to be represented by an agreed representative on Yugoslav issues, that should be agreed between the two countries and that the M atic a hr v ats ka would act as a neutral medi ator to this process. The signing took place at the Nov i z a i a House in Vienna, and several of the country 's authors, like Br ank ic u sv a j is and Slav ko sk a, were invited.\n",
      "---------------------------------------------\n",
      "The running time is 9.62  seconds.\n",
      "---------------------------------------------\n"
     ]
    },
    {
     "name": "stderr",
     "output_type": "stream",
     "text": [
      "\r",
      "  2%|██▏                                                                                                        | 2/100 [00:15<12:28,  7.64s/it]"
     ]
    },
    {
     "name": "stdout",
     "output_type": "stream",
     "text": [
      "The completed version is: The Bush administration then turned its attention to Iraq , and argued the need to remove Saddam Hussein from power in Iraq had become urgent . Among the stated reasons was the collapse of the Soviet Union, which they said made Saddam `` a greater threat to the world than we had originally thought.   For the administration, there was no war in Iraq without a pre med itated war with Iraq.    We need to remove Saddam.  We had to justify to the public and to Congress that we are not going to sit id ly by while Iraq is developing ... weapons of mass destruction . ''  He said that the administration did not want to create a power vacuum.\n",
      "---------------------------------------------\n",
      "The running time is 6.22  seconds.\n",
      "---------------------------------------------\n"
     ]
    },
    {
     "name": "stderr",
     "output_type": "stream",
     "text": [
      "\r",
      "  3%|███▏                                                                                                       | 3/100 [00:22<11:38,  7.20s/it]"
     ]
    },
    {
     "name": "stdout",
     "output_type": "stream",
     "text": [
      "The completed version is: An adolescent 's environment plays a huge role in their identity development . While most adolescent studies are conducted on white , middle class children , studies show that the relationship between parents and children is more complex and multi- lay ed and that not all white, middle class children may enjoy the same family and social supports. Thus a child 's family, friends and peers may have a larger role in identity formation than what is thought of in traditional, middle class homes.  Â In addition, for children of color, the environment and other social factors are far too variable to understand in terms of what can be classified as the'' typ ologies `` parents, homes and neighborhoods `` and/ or their influences on their social identities.\n",
      "---------------------------------------------\n",
      "The running time is 6.66  seconds.\n",
      "---------------------------------------------\n"
     ]
    },
    {
     "name": "stderr",
     "output_type": "stream",
     "text": [
      "\r",
      "  4%|████▎                                                                                                      | 4/100 [00:31<12:21,  7.72s/it]"
     ]
    },
    {
     "name": "stdout",
     "output_type": "stream",
     "text": [
      "The completed version is: Compared to other team sports , the National Football League preseason is very structured . Every NFL team plays exactly four pre-season exhibition games a year , two at home and two on the road. There are no exhibition games scheduled for the National Basketball Association( NBA) and the National Hockey League( NHL ) , but when both leagues are doing well, their preseason is called the preseason. < /s > < |endoftext| ><|||>| ||<|||>| ||<| ||| > <| |||>| ||<| |||>| ||<| |||>| ||<| |||>|| |||>| |||> || |||>| |||> || ||| > . I will be including an NFL schedule of games that I feel are important this year to include.\n",
      "---------------------------------------------\n",
      "The running time is 8.48  seconds.\n",
      "---------------------------------------------\n"
     ]
    },
    {
     "name": "stderr",
     "output_type": "stream",
     "text": [
      "\r",
      "  5%|█████▎                                                                                                     | 5/100 [00:37<11:12,  7.08s/it]"
     ]
    },
    {
     "name": "stdout",
     "output_type": "stream",
     "text": [
      "The completed version is: In practice , not all rule violations will result in a disqualification as the referee may use their own judgement and is not obligated to stop the match . Usually the following guidelines will be enough to determine whether the violation is minor in nature:     The match starts to be played normally by the time the offense occurs.     The match will end when the offense has occurred.     The offense is unlikely to change the outcome of the match.     The offense may not have a substantial impact on the outcome of the match.     The result could still be determined even if the offense has occurred.\n",
      "---------------------------------------------\n",
      "The running time is 5.93  seconds.\n",
      "---------------------------------------------\n"
     ]
    },
    {
     "name": "stderr",
     "output_type": "stream",
     "text": [
      "\r",
      "  6%|██████▍                                                                                                    | 6/100 [00:42<10:06,  6.45s/it]"
     ]
    },
    {
     "name": "stdout",
     "output_type": "stream",
     "text": [
      "The completed version is: In the 15th century the dome was added and the naves extended back of the choir , uniting the building to the tower and forming a main entrance . Archbishop Pedro I designed the building, and it was completed in 10 56 with the construction of the western bel f oyer  The n ave of f en ches is the first of the cathedral to have its fa ç ade, for the central fa � ade was only added late in the 16 th center d o o b viously. The design was similar to the main church of P isa, P is a � n c ient e n v en u a.\n",
      "---------------------------------------------\n",
      "The running time is 5.2  seconds.\n",
      "---------------------------------------------\n"
     ]
    },
    {
     "name": "stderr",
     "output_type": "stream",
     "text": [
      "\r",
      "  7%|███████▍                                                                                                   | 7/100 [00:47<09:18,  6.01s/it]"
     ]
    },
    {
     "name": "stdout",
     "output_type": "stream",
     "text": [
      "The completed version is: Early reviews were mixed in their assessment . Ken Tucker of Entertainment Weekly considered that `` As TV , American Idol is crazily entertaining ; as music , it 's just plain bad. It 's the same cl oy as last year' s, when all the singers were really lik able to do their thing, but with a more eclectic group of singers. `` In addition to singing their own material, each contestant is assigned at least one song and chore ographed, often on stage, to fit with their theme. That results in a lot of bad singing.\n",
      "---------------------------------------------\n",
      "The running time is 5.07  seconds.\n",
      "---------------------------------------------\n"
     ]
    },
    {
     "name": "stderr",
     "output_type": "stream",
     "text": [
      "\r",
      "  8%|████████▌                                                                                                  | 8/100 [00:53<09:17,  6.06s/it]"
     ]
    },
    {
     "name": "stdout",
     "output_type": "stream",
     "text": [
      "The completed version is: Intense media interest in the opinions and private lives of the royal family during the 1980s led to a series of sensational stories in the press , not all of them true.  The Duke did not know the name of his alleged param our, his second wife, nor the identity of her child, all of which were public knowledge. However, Prince Andrew � did not deny that, since 1976, he had had a relationship with a woman named Susan Jeff ers in Monaco, which, in addition to that of Princess Diana, was the focus of the scandal that led to Andrew � s resignation as a member of the Pri vy of Westminster.\n",
      "---------------------------------------------\n",
      "The running time is 6.13  seconds.\n",
      "---------------------------------------------\n"
     ]
    },
    {
     "name": "stderr",
     "output_type": "stream",
     "text": [
      "\r",
      "  9%|█████████▋                                                                                                 | 9/100 [00:59<08:57,  5.91s/it]"
     ]
    },
    {
     "name": "stdout",
     "output_type": "stream",
     "text": [
      "The completed version is: The palace measures 108 metres ( 354 ft ) by 120 metres ( 390 ft ) , is 24 metres ( 79 ft ) high and contains over 77,000 m2 of floor space; the palace also contains the Palace of Culture and Science.    The palace is constructed from three concent ric ed by cour ty. There are two separate sections to the palace, the first comprising an entry level, a main hall and several smaller rooms with a grand banquet hall. There are four floors to the second section, which contains several other parts of the palace, and six floors to the third part of that section.\n",
      "---------------------------------------------\n",
      "The running time is 5.56  seconds.\n",
      "---------------------------------------------\n"
     ]
    },
    {
     "name": "stderr",
     "output_type": "stream",
     "text": [
      "\r",
      " 10%|██████████▌                                                                                               | 10/100 [01:05<09:02,  6.03s/it]"
     ]
    },
    {
     "name": "stdout",
     "output_type": "stream",
     "text": [
      "The completed version is: To extend and consolidate the dynasty 's control in Central Asia , the Kangxi Emperor personally led a series of military campaigns against the Dzungars in Outer Mongolia . The Emperor 's rule however did not last long. The death of the Kang xi and the fall of his capital Yong an in 119 4 resulted in several years of confusion and dis array.  On the occasion of the founding of the Yuan dynasty in 12 71, a reg ency( s) was re established and the Emperor appointed as its founder, but the appointment was revoked on the next day as the Kang xi was still alive and the' `` Emperor had chosen to reign '' instead.\n",
      "---------------------------------------------\n",
      "The running time is 6.27  seconds.\n",
      "---------------------------------------------\n"
     ]
    },
    {
     "name": "stderr",
     "output_type": "stream",
     "text": [
      "\r",
      " 11%|███████████▋                                                                                              | 11/100 [01:17<11:54,  8.02s/it]"
     ]
    },
    {
     "name": "stdout",
     "output_type": "stream",
     "text": [
      "The completed version is: From the 1970s onward , Stuart Hall 's pioneering work , along with that of his colleagues Paul Willis , Dick Hebdige , Tony Jefferson , and Angela McRobbie , radically restruct ured the idea of youth culture and, as such, changed both the way we think about young people and the way we treat them. The work is now re issued on its 25 th anniversary and the question posed in the title here n d the first part of the book n d in this collection is n is there a common ground for young people that neither group perce ives?      Is young people `` always `` the same or are there sub- groups who are being brought together to co m mit and to explore a common n                   ? '' If there is a n               ?? ? , n      and what do they\n",
      "---------------------------------------------\n",
      "The running time is 12.51  seconds.\n",
      "---------------------------------------------\n"
     ]
    },
    {
     "name": "stderr",
     "output_type": "stream",
     "text": [
      "\r",
      " 12%|████████████▋                                                                                             | 12/100 [01:22<10:13,  6.97s/it]"
     ]
    },
    {
     "name": "stdout",
     "output_type": "stream",
     "text": [
      "The completed version is: Libya 's economy witnessed increasing privatization ; although rejecting the socialist policies of nationalized industry advocated in The Green Book , government figures asserted that they were forging `` people- oriented economy ``; and their state- owned enterprises were being subjected to greater privatization efforts. By 1992, the State- owned enterprises had increased their privatization by 23 percent[ 2]; despite a major economic crisis in the previous year, the privatization level increased to 26 percent( 6 ) . The total state budget fell$ 6 billion; but more than 98 percent of it came from sales taxes.\n",
      "---------------------------------------------\n",
      "The running time is 4.53  seconds.\n",
      "---------------------------------------------\n"
     ]
    },
    {
     "name": "stderr",
     "output_type": "stream",
     "text": [
      "\r",
      " 13%|█████████████▊                                                                                            | 13/100 [01:27<09:04,  6.26s/it]"
     ]
    },
    {
     "name": "stdout",
     "output_type": "stream",
     "text": [
      "The completed version is: Mammalian hair , also known as pelage , can vary in color between populations , organisms within a population , and even on the individual organism . Light-dark color variation can be caused by melan in the hair, and pig mentation, or by pigment colors created by an individual 's genetic code. Light color is considered to be the dominant color in humans. Light pig mented hair is generally considered to be more natural, because it is more visible to the eye, and provides more grip to objects. There are some regions of the body that are naturally lighter pigment than others.\n",
      "---------------------------------------------\n",
      "The running time is 4.62  seconds.\n",
      "---------------------------------------------\n"
     ]
    },
    {
     "name": "stderr",
     "output_type": "stream",
     "text": [
      "\r",
      " 14%|██████████████▊                                                                                           | 14/100 [01:31<08:06,  5.66s/it]"
     ]
    },
    {
     "name": "stdout",
     "output_type": "stream",
     "text": [
      "The completed version is: But in the mid-18th century , during the French Enlightenment , a more ideological use of the term had come into use . In 1765 , the author of an influential work, The History of the Inquisition in Spain, wrote that the term `` natural law ``, or its equivalent in several other languages, is `` taken up by the enemies of religion and human liberty.`( 23) `` the use of natural right is now confined to the political doctrine of the Revolution, and is used in a more precise and exclusive sense.\n",
      "---------------------------------------------\n",
      "The running time is 4.24  seconds.\n",
      "---------------------------------------------\n"
     ]
    },
    {
     "name": "stderr",
     "output_type": "stream",
     "text": [
      "\r",
      " 15%|███████████████▉                                                                                          | 15/100 [01:38<08:35,  6.06s/it]"
     ]
    },
    {
     "name": "stdout",
     "output_type": "stream",
     "text": [
      "The completed version is: More commonly , in cases where there are three or more parties , no one party is likely to gain power alone , and parties work with each other to achieve goals they can not achieve on their own, they don 't just work together to achieve a common goal, even if its through mutual benefit. A common example in which this occurs in a group of people with different but overlapping interests is the government that operates jointly to reduce pollution. When a group of people is faced with a problem that requires coordinated solution, they work to solve it together but don 't do so with an intention to be in power at the end or by pursuing a majority strategy or single party majority of the voting population.\n",
      "---------------------------------------------\n",
      "The running time is 6.97  seconds.\n",
      "---------------------------------------------\n"
     ]
    },
    {
     "name": "stderr",
     "output_type": "stream",
     "text": [
      "\r",
      " 16%|████████████████▉                                                                                         | 16/100 [01:44<08:34,  6.12s/it]"
     ]
    },
    {
     "name": "stdout",
     "output_type": "stream",
     "text": [
      "The completed version is: Emotions can motivate social interactions and relationships and therefore are directly related with basic physiology , particularly with the stress systems . This is important because emotions are related to a wide range of social interactions. The ability of a brain to feel and feel emotions depends on the connectivity among different regions of the brain. This is supported by a link between many cognitive skills like reasoning, planning and decision making- making to one another in the network that is known as the `` exec u re ment link. We describe here the executive- processing functions, which regulate a broad range of cognitive skills in the brain, and how emotion is a critical component of the communication in that network.\n",
      "---------------------------------------------\n",
      "The running time is 6.24  seconds.\n",
      "---------------------------------------------\n"
     ]
    },
    {
     "name": "stderr",
     "output_type": "stream",
     "text": [
      "\r",
      " 17%|██████████████████                                                                                        | 17/100 [01:48<07:41,  5.56s/it]"
     ]
    },
    {
     "name": "stdout",
     "output_type": "stream",
     "text": [
      "The completed version is: The implications are multiple as various research traditions are now [ when ? ] heavily utilizing the lens of identity to examine phenomena . [ citation needed ] One implication is that the social identity framework in the area of group psychology is very broad. A second is to realize that the theoretical and empirical approaches associated with the framework are more or less complementary rather than in opposition.[ citation needed]  Yet another implication of the identity framework is that the study of identity as a phenomenon is not just limited to individuals, but to larger groups and communities.\n",
      "---------------------------------------------\n",
      "The running time is 4.23  seconds.\n",
      "---------------------------------------------\n"
     ]
    },
    {
     "name": "stderr",
     "output_type": "stream",
     "text": [
      "\r",
      " 18%|███████████████████                                                                                       | 18/100 [01:53<07:22,  5.40s/it]"
     ]
    },
    {
     "name": "stdout",
     "output_type": "stream",
     "text": [
      "The completed version is: Jeffrey Long and Rick Kittles give a long critique of the application of FST to human populations in their 2003 paper `` Human Genetic Diversity and the Nonexistence of Biological Cl ines '' .  They note that the most commonly quoted number for human genetic diversity is the `` global mean related ness ``, a measure they define as `` the number of nucle otide base pairs in the average gene of the human genome per generation. These base- pair numbers are commonly presented in the context of a rate of mutation, expressed as the number of mutations per nucle otide base pair per generation, or `` rate.\n",
      "---------------------------------------------\n",
      "The running time is 5.0  seconds.\n",
      "---------------------------------------------\n"
     ]
    },
    {
     "name": "stderr",
     "output_type": "stream",
     "text": [
      "\r",
      " 19%|████████████████████▏                                                                                     | 19/100 [02:00<07:50,  5.81s/it]"
     ]
    },
    {
     "name": "stdout",
     "output_type": "stream",
     "text": [
      "The completed version is: The book was widely translated in Darwin 's lifetime , but problems arose with translating concepts and metaphors , and some translations were biased by the translator 's own agenda. Darwin' s theories were, however, widely and easily supported by an army of scholars who did not find him to be guilty of over- interpret ive bias, and often his ideas were developed by others after his death. He is often regarded as an early proponent of evolution by natural selection.  The idea that species evolve over time also known as the natural selection of evolution, was developed by Darwin in the mid- 19 th century( 18 35) while reading the Natural ist Philosophy of J.\n",
      "---------------------------------------------\n",
      "The running time is 6.74  seconds.\n",
      "---------------------------------------------\n"
     ]
    },
    {
     "name": "stderr",
     "output_type": "stream",
     "text": [
      "\r",
      " 20%|█████████████████████▏                                                                                    | 20/100 [02:07<08:14,  6.18s/it]"
     ]
    },
    {
     "name": "stdout",
     "output_type": "stream",
     "text": [
      "The completed version is: Hegel certainly intends to preserve what he takes to be true of German idealism , in particular Kant 's insistence that ethical reason can and does go beyond finite inclinations and desires. And yet a `` c ri t i c i a l s t a b l i e n c e t f i g h t s'' can do any amount of harm on its own. The most dangerous error of the school of Sche lling and its adherents is that of equ ating, in order to justify its positions, a c r i t i c i a l r e s u l t a b l e t s e a l t s c a l c i e n c s.\n",
      "---------------------------------------------\n",
      "The running time is 7.01  seconds.\n",
      "---------------------------------------------\n"
     ]
    },
    {
     "name": "stderr",
     "output_type": "stream",
     "text": [
      "\r",
      " 21%|██████████████████████▎                                                                                   | 21/100 [02:13<07:53,  5.99s/it]"
     ]
    },
    {
     "name": "stdout",
     "output_type": "stream",
     "text": [
      "The completed version is: Israelites enjoyed political independence twice in ancient history , first during the periods of the Biblical judges followed by the United Monarchy . [ disputed – discuss ] After the conquest of Jude a s by the Romans in 70 CE they enjoyed great privileges under the monarchy. In 80 CE the Jews were even formally allowed to celebrate Pass over[ c. 70] on the Feast of the New Moon and to serve pagan temples in Jerusalem.    The Roman authority was strong..  In 98 CE Caesar came to the kingdom of Jud a s he demanded, under threat, and forced on the Roman governor.\n",
      "---------------------------------------------\n",
      "The running time is 5.52  seconds.\n",
      "---------------------------------------------\n"
     ]
    },
    {
     "name": "stderr",
     "output_type": "stream",
     "text": [
      "\r",
      " 22%|███████████████████████▎                                                                                  | 22/100 [02:49<19:43, 15.18s/it]"
     ]
    },
    {
     "name": "stdout",
     "output_type": "stream",
     "text": [
      "The completed version is: In September 2012 at the Tokyo Game Show , Sony announced that a new , slimmer PS3 redesign ( CECH-4000 ) was due for release in late 2012 and that the name had changed to `` Play Station 3 `` for short. The new slim PS 3( C ECH- 4000) retains much of the previous console hardware specifications and is expected to become available at the end of the year as a `` Play Station 3 Lite ``.  Â  Â  Â   Â  Â  Â  Â   Â  Â   Â   Â  Â  Â   Â   Â  Â   Â   Â   Â   Â   Â    Â     Â    Â     Â    Â     Â      Â     Â     Â      Â       Â       Â      Â        Â         Â           Â            Â     ]   Â]   Â   Â   Â   Â        Â              ________________________ ________ _______  ____  _______   ____  ________ _____  ________________________ _____    ____  ______  _____    _______  _____   __ ___| ______  _____  _____   ________  _____ \n",
      "---------------------------------------------\n",
      "The running time is 36.58  seconds.\n",
      "---------------------------------------------\n"
     ]
    },
    {
     "name": "stderr",
     "output_type": "stream",
     "text": [
      "\r",
      " 23%|████████████████████████▍                                                                                 | 23/100 [02:56<16:13, 12.64s/it]"
     ]
    },
    {
     "name": "stdout",
     "output_type": "stream",
     "text": [
      "The completed version is: In 1919 , following the Treaty of Versailles , the city was restituted to France in accordance with U.S. President Woodrow Wilson 's `` Fourteen Points '' without a referendum. At the same time, the German section of the city, the Kre is t ing District, was annexed to the district of W ies., where upon the city of W  ies grew.  W ies  city council has     . This area is.. now part of the W  ies district, but is still part of the city of W  ies.  W   ies district seat of city council has  .. ...  name of former mayor Walter Sche uren.\n",
      "---------------------------------------------\n",
      "The running time is 6.7  seconds.\n",
      "---------------------------------------------\n"
     ]
    },
    {
     "name": "stderr",
     "output_type": "stream",
     "text": [
      "\r",
      " 24%|█████████████████████████▍                                                                                | 24/100 [03:04<14:08, 11.16s/it]"
     ]
    },
    {
     "name": "stdout",
     "output_type": "stream",
     "text": [
      "The completed version is: Zhejiang 's main manufacturing sectors are electromechanical industries , textiles , chemical industries , food , and construction materials . In recent years Zhejiang has followed its own development model, from a province- wide economy with no market competition to become a region- wide market, from a manufacturing industry with high fixed costs to low fixed costs. Z he jiang have established many enterprises in the sectors of low end goods production, high end goods production, and service sectors. Most enterprises own factories( about 60 % ) of steel for their production, textile for textile, food and beverage for sale, chemicals for sales, and pharmaceutical activities( about 30% ) : about 70 enterprises in Z he j iang province have industrial scale production capacity of more than 20 million tons and are exporting goods with export volumes exceeding\n",
      "---------------------------------------------\n",
      "The running time is 7.69  seconds.\n",
      "---------------------------------------------\n"
     ]
    },
    {
     "name": "stderr",
     "output_type": "stream",
     "text": [
      "\r",
      " 25%|██████████████████████████▌                                                                               | 25/100 [03:15<13:54, 11.12s/it]"
     ]
    },
    {
     "name": "stdout",
     "output_type": "stream",
     "text": [
      "The completed version is: During the early years , MCA also manufactured discs for other companies including Paramount , Disney and Warner Bros . Some of them added their own names to the disc, like The Music of MGM( which included many classical selections). The best of these discs can still be found today, such as Elvis Pres ley at 20( which also included the best of his other hits from that era ) .                                                                  M CA Records was founded in 1971 by the American composer, who felt that many of the greatest albums of the 1970 s, if not all of them, were too expensive, too obscure and too expensive to reach a large audience.\n",
      "---------------------------------------------\n",
      "The running time is 11.01  seconds.\n",
      "---------------------------------------------\n"
     ]
    },
    {
     "name": "stderr",
     "output_type": "stream",
     "text": [
      "\r",
      " 26%|███████████████████████████▌                                                                              | 26/100 [03:20<11:39,  9.45s/it]"
     ]
    },
    {
     "name": "stdout",
     "output_type": "stream",
     "text": [
      "The completed version is: In southeast Europe agrarian societies first appeared in the 7th millennium BC , attested by one of the earliest farming sites of Europe , discovered in Vashtëmi , southeastern Albania. After the onset of the Ne olithic the Indo- Europe ans the Baltic ste pp ed into the eastern Mediterranean( in the Ae ge an region), and then onto the continent of Asia. The first A GR IC ED SOC IE L I t y was created in the Bronze Age, and was centered in the Near and Middle East. It was composed of farmers and herd ers, and it is known as the Middle Bronze Age.\n",
      "---------------------------------------------\n",
      "The running time is 5.54  seconds.\n",
      "---------------------------------------------\n"
     ]
    },
    {
     "name": "stderr",
     "output_type": "stream",
     "text": [
      "\r",
      " 27%|████████████████████████████▌                                                                             | 27/100 [03:25<09:46,  8.04s/it]"
     ]
    },
    {
     "name": "stdout",
     "output_type": "stream",
     "text": [
      "The completed version is: Knowledge , for Popper , was objective , both in the sense that it is objectively true ( or truthlike ) , and also in the sense that knowledge has to do with the relationship between the concept itself and its object.. In order to have `` objective truth `` knowledge, we actually need to know that our concept and our object of knowledge are consistent with reality in a certain way.   It is important to notice that Po pper was not the first to use the term object ivity, and it certainly does not do the concept justice to think of it as a coherent unit.\n",
      "---------------------------------------------\n",
      "The running time is 4.7  seconds.\n",
      "---------------------------------------------\n"
     ]
    },
    {
     "name": "stderr",
     "output_type": "stream",
     "text": [
      "\r",
      " 28%|█████████████████████████████▋                                                                            | 28/100 [03:30<08:27,  7.05s/it]"
     ]
    },
    {
     "name": "stdout",
     "output_type": "stream",
     "text": [
      "The completed version is: Strict separation of powers did not operate in The United Kingdom , the political structure of which served in most instances [ citation needed ] as a model for the one in the US. The separation of powers was not complete, there were a number of instances in which parliament did not have a veto on certain legislation that had been passed by the Crown in the Crown. However, these were not as frequent as the American variety, in part because there was only one monarch and the king and queen cons ort to approve parliamentary legislation that involved the monarch and the House of Lords.\n",
      "---------------------------------------------\n",
      "The running time is 4.72  seconds.\n",
      "---------------------------------------------\n"
     ]
    },
    {
     "name": "stderr",
     "output_type": "stream",
     "text": [
      "\r",
      " 29%|██████████████████████████████▋                                                                           | 29/100 [03:35<07:38,  6.45s/it]"
     ]
    },
    {
     "name": "stdout",
     "output_type": "stream",
     "text": [
      "The completed version is: Although Ottoman madaris had a number of different branches of study , such as calligraphic sciences , oral sciences , and intellectual sciences , they primarily served the function of educational reform.  Students at mad ras il m ak z ih q al am r i t s i l ay n  ā n was the largest educational body in all the world in the 9 th and 10 th centuries. The mad ris im al am r il  ī i q n  ā n was especially known for promoting the spread of learning in the region and especially in the Arab world.\n",
      "---------------------------------------------\n",
      "The running time is 5.04  seconds.\n",
      "---------------------------------------------\n"
     ]
    },
    {
     "name": "stderr",
     "output_type": "stream",
     "text": [
      "\r",
      " 30%|███████████████████████████████▊                                                                          | 30/100 [03:41<07:30,  6.43s/it]"
     ]
    },
    {
     "name": "stdout",
     "output_type": "stream",
     "text": [
      "The completed version is: The landscapes of Thuringia are quite diverse . The far north is occupied by the Harz mountains , followed by the Goldene Aue , a fertile floodplain around Nordhausen with a high plateau at the mouth of L ages. The south of Th uring ia is formed by the sandy, densely veget ated sand and gravel plains. The country of the Th uring ian Lake lands and the Th uring ian Plate au s able are on the eastern side of the country. In the south of Th  uring  ia the E ms  river is joined by the El be i t ter, and in the north by the El be i t ter n( ? ).\n",
      "---------------------------------------------\n",
      "The running time is 6.36  seconds.\n",
      "---------------------------------------------\n"
     ]
    },
    {
     "name": "stderr",
     "output_type": "stream",
     "text": [
      "\r",
      " 31%|████████████████████████████████▊                                                                         | 31/100 [03:46<06:49,  5.93s/it]"
     ]
    },
    {
     "name": "stdout",
     "output_type": "stream",
     "text": [
      "The completed version is: Throughout the 14th century , French kings sought to expand their influence at the expense of the territorial holdings of the nobility . They ran into difficulties when attempting to control the nobility, whose political power was expressed in the support it offered to local noble men, or g end ors. In the south, kings tried to create a centralized authority that allowed them to impose a feudal system and impose a system of nobility on these areas, to expand their power. They also established their own power, such as the rule of law and the legal institutions that were used to suppress the traditional aristocracy with.\n",
      "---------------------------------------------\n",
      "The running time is 4.74  seconds.\n",
      "---------------------------------------------\n"
     ]
    },
    {
     "name": "stderr",
     "output_type": "stream",
     "text": [
      "\r",
      " 32%|█████████████████████████████████▉                                                                        | 32/100 [03:52<06:34,  5.80s/it]"
     ]
    },
    {
     "name": "stdout",
     "output_type": "stream",
     "text": [
      "The completed version is: The Jurassic Period extends from about 201.3 ± 0.2 to 145.0 Ma . During the early Jurassic , the supercontinent Pangaea broke up into the northern supercontinent Laurasia and the southern super cont inent G ond ina, which would later break up again into G ond in a. This gave way to the formation of a number of smaller, isolated islands, with a gradual increase in sea levels. The land m on tains a variety of environments over the period, such as volcan oes, flood plains, and ar id coast d. One of the most conspicuous differences between the environments is the presence of different kinds of fossils.\n",
      "---------------------------------------------\n",
      "The running time is 5.46  seconds.\n",
      "---------------------------------------------\n"
     ]
    },
    {
     "name": "stderr",
     "output_type": "stream",
     "text": [
      "\r",
      " 33%|██████████████████████████████████▉                                                                       | 33/100 [03:58<06:46,  6.07s/it]"
     ]
    },
    {
     "name": "stdout",
     "output_type": "stream",
     "text": [
      "The completed version is: Many ground crew at the airport work at the aircraft . A tow tractor pulls the aircraft to one of the airbridges , The ground power unit is plugged in to the aircraft 's electrical system. A ground staff member operates a' power unit to' remove any unwanted electric charge that is' built up.   Source: www. vis ing. n asa. u d. ra r y < /s >  Seriously, not very likely. And this would be on top of a previous charge of' over charging.   Source: Air line ticket sales man `` **' and airline ticket sales man said they would always go over- charge their charges even if passengers didn 't complain.\n",
      "---------------------------------------------\n",
      "The running time is 6.67  seconds.\n",
      "---------------------------------------------\n"
     ]
    },
    {
     "name": "stderr",
     "output_type": "stream",
     "text": [
      "\r",
      " 34%|████████████████████████████████████                                                                      | 34/100 [04:03<06:16,  5.71s/it]"
     ]
    },
    {
     "name": "stdout",
     "output_type": "stream",
     "text": [
      "The completed version is: The highest position in Islam , caliphate , was claimed by the sultans starting since Murad I , which was established as Ottoman Caliphate . The Ottoman sultan , pâdişâh, was the king of the Ottoman Empire, and the Cal iph of the Ottoman Cal iphate( K â � h ü r s i ) , after the s ult ima, was al m  ı l n, i t s ruler( m  s li) and the prime minister of the Ottoman Empire. He held it for 18 years until his deposition by Sultan Sel im in 18 23.\n",
      "---------------------------------------------\n",
      "The running time is 4.85  seconds.\n",
      "---------------------------------------------\n"
     ]
    },
    {
     "name": "stderr",
     "output_type": "stream",
     "text": [
      "\r",
      " 35%|█████████████████████████████████████                                                                     | 35/100 [04:08<05:50,  5.39s/it]"
     ]
    },
    {
     "name": "stdout",
     "output_type": "stream",
     "text": [
      "The completed version is: After gaining the Master Sword , Link is cleansed of the magic that kept him in wolf form , obtaining the Shadow Crystal . Now able to use it to cut through any obstacle in his path, he returns the sword to his Master Zelda. The wolf form is given up, and by the end of the game, an adult Link emerges. He joins Princess Zelda 's party.        In other games, this moment is sometimes called `` I have come home. I have a happy ending ``, a reference to the game 's happy ending.\n",
      "---------------------------------------------\n",
      "The running time is 4.62  seconds.\n",
      "---------------------------------------------\n"
     ]
    },
    {
     "name": "stderr",
     "output_type": "stream",
     "text": [
      "\r",
      " 36%|██████████████████████████████████████▏                                                                   | 36/100 [04:24<09:12,  8.63s/it]"
     ]
    },
    {
     "name": "stdout",
     "output_type": "stream",
     "text": [
      "The completed version is: The city of Jerusalem is of special importance to Jews , Muslims and Christians as it is the home of sites that are pivotal to their religious beliefs , such as the al- A q iy ara mosque and the city � s historic syn agog ic synagogue. In the past, many religious pilgrims would turn up in large numbers to visit the area, a number of which are included in the city � s population statistics, including Jews, Muslims and Christians. < |endoftext| >  ________________________________  ____<| title|>|   _______|_|_|_| __|  ___|  _______|  ____| _______ || ______ || _________|<| title|>|  ________________________________   ____ ```<|_|_|_|>| ''`|_|_|_|<|_|_|| _____|_|_|_|<|_|_ ||||_|_|_ -|_| ___|  _______| ___|   _______|| ____ || __ || ||_- o ||| ___|   ____ || __ || ___ || ___|\n",
      "---------------------------------------------\n",
      "The running time is 16.16  seconds.\n",
      "---------------------------------------------\n"
     ]
    },
    {
     "name": "stderr",
     "output_type": "stream",
     "text": [
      "\r",
      " 37%|███████████████████████████████████████▏                                                                  | 37/100 [04:28<07:39,  7.29s/it]"
     ]
    },
    {
     "name": "stdout",
     "output_type": "stream",
     "text": [
      "The completed version is: Notre Dame 's conference affiliations for all of its sports except football and fencing changed in July 2013 as a result of major conference realignment , and its fencing affiliation remained the same The football team and all of its athletic programs are affiliated with the Big East Conference. For football, Notre Dame compet es in the Big East 's Football Championship Sub division( 5 ) , which is part of the Big East Conference. Notre Dame' s athletics teams have a home field and an away game in one of four designated areas in South Bend.\n",
      "---------------------------------------------\n",
      "The running time is 4.14  seconds.\n",
      "---------------------------------------------\n"
     ]
    },
    {
     "name": "stderr",
     "output_type": "stream",
     "text": [
      "\r",
      " 38%|████████████████████████████████████████▎                                                                 | 38/100 [04:33<06:44,  6.53s/it]"
     ]
    },
    {
     "name": "stdout",
     "output_type": "stream",
     "text": [
      "The completed version is: In 1718 , at the behest of either Rector Samuel Andrew or the colony 's Governor Gurdon Saltonstall , Cotton Mather contacted a successful businessman named Elihu Yale , who became the founding father of Yale University. By 17 51, after the death of his older brother, David, by 17 51, the two brothers( and their family) had established quite a lucrative enterprise in the new settlement of New Haven, Connecticut. By 17 52, their new' son and heir, Samuel, Yale' apprentice, had married Sarah Sal ton stall in 17 52.\n",
      "---------------------------------------------\n",
      "The running time is 4.73  seconds.\n",
      "---------------------------------------------\n"
     ]
    },
    {
     "name": "stderr",
     "output_type": "stream",
     "text": [
      "\r",
      " 39%|█████████████████████████████████████████▎                                                                | 39/100 [04:38<06:10,  6.07s/it]"
     ]
    },
    {
     "name": "stdout",
     "output_type": "stream",
     "text": [
      "The completed version is: Despite efforts to revive Hebrew as the national language of the Jewish people , knowledge of the language is not commonly possessed by Jews worldwide and English has emerged as the ling ua that people with little or no knowledge of Hebrew speak( p. s. ) . `` I 'm not a Jew.'` A student asked a rabbi,`` Are you circumcised?. She answered, `` No, I' m a pagan Jew. I am a Jew with a lot of problems with language and religion. I don '' t know how to speak, write, pray or do anything.\n",
      "---------------------------------------------\n",
      "The running time is 4.98  seconds.\n",
      "---------------------------------------------\n"
     ]
    },
    {
     "name": "stderr",
     "output_type": "stream",
     "text": [
      "\r",
      " 40%|██████████████████████████████████████████▍                                                               | 40/100 [04:42<05:32,  5.55s/it]"
     ]
    },
    {
     "name": "stdout",
     "output_type": "stream",
     "text": [
      "The completed version is: The area now called Galicia was first inhabited by humans during the Middle Paleolithic period , and it takes its name from the Gallaeci , the Celtic peoples living north of the Py rene ge. The oldest known stone artifacts are from the Cue va la p ied el, which dates back to 43. 000 BC. Later the I ber ians arrived in the region when the Mediterranean was filled with islands and the coast lines of Spain and of the I ber i ans in the southern I ber i an area were still connected.\n",
      "---------------------------------------------\n",
      "The running time is 4.3  seconds.\n",
      "---------------------------------------------\n"
     ]
    },
    {
     "name": "stderr",
     "output_type": "stream",
     "text": [
      "\r",
      " 41%|███████████████████████████████████████████▍                                                              | 41/100 [04:50<06:09,  6.26s/it]"
     ]
    },
    {
     "name": "stdout",
     "output_type": "stream",
     "text": [
      "The completed version is: Birds have a very efficient system for diffusing oxygen into the blood ; birds have a ten times greater surface area to gas exchange volume than mammals . As a result, the bird 's hem oglobin system is responsible for a large part of the oxygen ation carried by hem oglobin; the system works at a rate 100 times faster than the mammalian hem oglobin system. < /s >  What is also very interesting is the fact that the he me ogl obin is a hem op  ers um  izing protein which can actually act as an oxygen exchange transport protein! This is due to the fact that this protein is an oxygen- transfer protein( like the hem oglobin is) which is much more efficient at doing its job compared to the hem o gl obin protein.\n",
      "---------------------------------------------\n",
      "The running time is 7.88  seconds.\n",
      "---------------------------------------------\n"
     ]
    },
    {
     "name": "stderr",
     "output_type": "stream",
     "text": [
      "\r",
      " 42%|████████████████████████████████████████████▌                                                             | 42/100 [04:59<06:44,  6.98s/it]"
     ]
    },
    {
     "name": "stdout",
     "output_type": "stream",
     "text": [
      "The completed version is: The College Dropout was eventually issued by Roc-A-Fella in February 2004 , shooting to number two on the Billboard 200 as his debut single , `` Through the Wire '' went past the$ 14, 09 6 million mark.  But before then, Jay did drop a self- p ro per for his debut album.  It was a 45 rpm single on his band, `` The Family 's label, Roc- A- Lee Records.  The single was called, `` The College Drop out ``( Jay actually did the drop out in front of the audience, but after Jay found out the fans wanted the rhy ming on `` The College Drop Out' s music video, the drop out was replaced by an entire drop of water . ) A week later, the single finally reached America, opening at number\n",
      "---------------------------------------------\n",
      "The running time is 8.65  seconds.\n",
      "---------------------------------------------\n"
     ]
    },
    {
     "name": "stderr",
     "output_type": "stream",
     "text": [
      "\r",
      " 43%|█████████████████████████████████████████████▌                                                            | 43/100 [05:04<06:05,  6.42s/it]"
     ]
    },
    {
     "name": "stdout",
     "output_type": "stream",
     "text": [
      "The completed version is: As anticipated by Nimitz , the Japanese fleet arrived off Midway on 4 June and was spotted by PBY patrol aircraft . Nagumo executed a first strike against Midway , with two of the four sort ies. The attack was not as successful as was expected- the Americans had expected 3 fighter squad rons and instead found more or less a single squadron of the dreaded P- 51 s. Two of these P- 51 s had been in the harbor with their wing men aft; the rest of the squadron appeared shortly after landing and was sent out to the air field.\n",
      "---------------------------------------------\n",
      "The running time is 5.07  seconds.\n",
      "---------------------------------------------\n"
     ]
    },
    {
     "name": "stderr",
     "output_type": "stream",
     "text": [
      "\r",
      " 44%|██████████████████████████████████████████████▋                                                           | 44/100 [05:09<05:35,  5.99s/it]"
     ]
    },
    {
     "name": "stdout",
     "output_type": "stream",
     "text": [
      "The completed version is: Vladimir had been prince of Novgorod when his father Sviatoslav I died in 972 . He was forced to flee to Scandinavia in 976 after his half-brother Yaropolk had murdered Sv iat oslav. Vladimir was captured by the Swedish king, Ol of Denmark, and forced to marry his daughter Princess O l ud ov r sk a 1. Sv iat o sl ava was succeeded as Prince of Nov gor od by his cousin, V se st od. His death took place in 9 96, probably at the battle of Gr ank ors k( e.\n",
      "---------------------------------------------\n",
      "The running time is 4.98  seconds.\n",
      "---------------------------------------------\n"
     ]
    },
    {
     "name": "stderr",
     "output_type": "stream",
     "text": [
      "\r",
      " 45%|███████████████████████████████████████████████▋                                                          | 45/100 [05:14<05:10,  5.65s/it]"
     ]
    },
    {
     "name": "stdout",
     "output_type": "stream",
     "text": [
      "The completed version is: Identity development is a stage in the adolescent life cycle . For most , the search for identity begins in the adolescent years . During these years , adolescents are in a process of discovering their identities. The identity becomes established by the teens while they are being formed. In the search for identity, the adolescent is very conscious of the changes which are taking place within him. The teen is trying to find out the truth in many different ways. Identity development includes the search for the truth. The teens seek truth in religious, political, social and academic issues.\n",
      "---------------------------------------------\n",
      "The running time is 4.81  seconds.\n",
      "---------------------------------------------\n"
     ]
    },
    {
     "name": "stderr",
     "output_type": "stream",
     "text": [
      "\r",
      " 46%|████████████████████████████████████████████████▊                                                         | 46/100 [05:18<04:46,  5.30s/it]"
     ]
    },
    {
     "name": "stdout",
     "output_type": "stream",
     "text": [
      "The completed version is: Athanasius recounts being a student , as well as being educated by the Martyrs of the Great ( tenth ) and last persecution of Christianity by pagan Rome . [ 3]    And also that he was educated by the Mart yrs of the great and last persecution( t enth ) , which began in Rome and which continued unt w e re and ended in the persecution of the Catholics, and the last persecution of Christianity by pagan Rome. This is the first place where he mentions the Great per sec ution by the Emperor Di oc umen us.\n",
      "---------------------------------------------\n",
      "The running time is 4.46  seconds.\n",
      "---------------------------------------------\n"
     ]
    },
    {
     "name": "stderr",
     "output_type": "stream",
     "text": [
      "\r",
      " 47%|█████████████████████████████████████████████████▊                                                        | 47/100 [05:24<04:43,  5.34s/it]"
     ]
    },
    {
     "name": "stdout",
     "output_type": "stream",
     "text": [
      "The completed version is: Egocentrism in adolescents forms a self-conscious desire to feel important in their peer groups and enjoy social acceptance . Unlike the conflicting aspects of self-concept , identity represents a coherent, cohesive system of self- directed, self- reflect ively perceived meanings. When adolescents learn to incorporate self- image goals into a self- concept based on the internal ized body, their social identity is more tightly bound with their physical body. This has serious implications for the self- esteem and development of young women. Our work is now examining the role that the internal ized body may have in the construction of adolescent identity.\n",
      "---------------------------------------------\n",
      "The running time is 5.42  seconds.\n",
      "---------------------------------------------\n"
     ]
    },
    {
     "name": "stderr",
     "output_type": "stream",
     "text": [
      "\r",
      " 48%|██████████████████████████████████████████████████▉                                                       | 48/100 [05:29<04:33,  5.25s/it]"
     ]
    },
    {
     "name": "stdout",
     "output_type": "stream",
     "text": [
      "The completed version is: Stanley Schachter formulated his theory on the earlier work of a Spanish physician , Gregorio Marañón , who injected patients with epinephrine and subsequently asked them how they felt . But Sch ach ter also found one of Mara ñ n on 's studies impl ausible to be true. So, why do we continue to accept this strange treatment?   He also found that the same procedure was used by surgeons to cut blood vessels that were dying.   He theor ized that this was why many of these patients survived.   He called this phenomenon the blood cure.\n",
      "---------------------------------------------\n",
      "The running time is 5.01  seconds.\n",
      "---------------------------------------------\n"
     ]
    },
    {
     "name": "stderr",
     "output_type": "stream",
     "text": [
      "\r",
      " 49%|███████████████████████████████████████████████████▉                                                      | 49/100 [05:34<04:23,  5.16s/it]"
     ]
    },
    {
     "name": "stdout",
     "output_type": "stream",
     "text": [
      "The completed version is: Hong Taiji 's bureaucracy was staffed with many Han Chinese , including many newly surrendered Ming officials . The Manchus ' continued dominance was ensured by an ethnic quota for Man ch us i ns and other Han Chinese- Chinese Han( Ch' ins h) were reduced to an ab ys of one per cent. The Man ch u i ns at the top level were given high salaries( in this case, the highest of any nationality) and the majority of local officials were Han Chinese.  * * * * * * * * * * * * * * * *** To learn more about China, see: http : // www.\n",
      "---------------------------------------------\n",
      "The running time is 4.94  seconds.\n",
      "---------------------------------------------\n"
     ]
    },
    {
     "name": "stderr",
     "output_type": "stream",
     "text": [
      "\r",
      " 50%|█████████████████████████████████████████████████████                                                     | 50/100 [05:38<04:04,  4.89s/it]"
     ]
    },
    {
     "name": "stdout",
     "output_type": "stream",
     "text": [
      "The completed version is: Tech media website CNET gave new Super Slim 4 out of 5 stars ( `` Excellent '' ) , saying `` The Super Slim PlayStation 3 shrinks a powerful gaming system into a compact form factor. Sony has taken a more compact approach to its slim line PlayStation 3, and it shows in this product. ``  The console is extremely powerful for a slim unit, and it 's one of those rare consoles that' a Sony slim console gives you access to all of the features of Sony 's popular PS 3 console at a very, very reasonable cost.\n",
      "---------------------------------------------\n",
      "The running time is 4.24  seconds.\n",
      "---------------------------------------------\n"
     ]
    },
    {
     "name": "stderr",
     "output_type": "stream",
     "text": [
      "\r",
      " 51%|██████████████████████████████████████████████████████                                                    | 51/100 [05:44<04:14,  5.19s/it]"
     ]
    },
    {
     "name": "stdout",
     "output_type": "stream",
     "text": [
      "The completed version is: Y DNA studies tend to imply a small number of founders in an old population whose members parted and followed different migration paths . In most Jewish populations , these differences are pretty small and usually can not be detected by most modern populations, because of their large number of hapl og ene gen otypes.  The reason the Ash ken az im has such a long history is that only one of the two founding Jewish groups( s and e) left. And the reason you don 't see much difference among the others is that many still practice Judaism and its main rites while many who are not affiliated with Judaism are not going to adopt them just because of their differences.\n",
      "---------------------------------------------\n",
      "The running time is 5.87  seconds.\n",
      "---------------------------------------------\n"
     ]
    },
    {
     "name": "stderr",
     "output_type": "stream",
     "text": [
      "\r",
      " 52%|███████████████████████████████████████████████████████                                                   | 52/100 [05:49<04:10,  5.22s/it]"
     ]
    },
    {
     "name": "stdout",
     "output_type": "stream",
     "text": [
      "The completed version is: The state united behind the Plan of Ayutla and ratified the new constitution in 1855 . The state was able to survive through the Reform War with minimal damage due to its strategic location( s ) . It was largely due to its proximity to the Gulf of California which acted as a natural buffer against the northern coastal areas of the nation which were being encro ached by neighboring nations. During 18 53, the State was dominated by military officers who supported Juan de O ñ o. After an agreement was established with the Mexican army, the state was able to sustain itself largely un af lected to.\n",
      "---------------------------------------------\n",
      "The running time is 5.25  seconds.\n",
      "---------------------------------------------\n"
     ]
    },
    {
     "name": "stderr",
     "output_type": "stream",
     "text": [
      "\r",
      " 53%|████████████████████████████████████████████████████████▏                                                 | 53/100 [05:54<03:58,  5.07s/it]"
     ]
    },
    {
     "name": "stdout",
     "output_type": "stream",
     "text": [
      "The completed version is: In contemporary society , adolescents also face some risks as their sexuality begins to transform . While some of these , such as emotional distress ( fear of abuse or of getting out of control ) , can be easily aver ted, the others need a lot more consideration. There are a lot of teens who are struggling with their sexuality without understanding its full dimensions, sometimes even trying to change the way they experience it. Although the adolescent period is a very positive opportunity to enjoy life to the fullest, many teens miss the opportunity because of this lack of understanding and knowledge.\n",
      "---------------------------------------------\n",
      "The running time is 4.7  seconds.\n",
      "---------------------------------------------\n"
     ]
    },
    {
     "name": "stderr",
     "output_type": "stream",
     "text": [
      "\r",
      " 54%|█████████████████████████████████████████████████████████▏                                                | 54/100 [06:00<04:10,  5.45s/it]"
     ]
    },
    {
     "name": "stdout",
     "output_type": "stream",
     "text": [
      "The completed version is: The deeper ancestral demography of Bermuda 's population has been obscured by the ethnic homogenisation of the last four centuries . There is effectively no ethnic distinction between black and coloured people.., and there is a similar hom ogen isation ... it is possible for a relatively primitive group of people to assimil ate into a white ethnicity ... ' . He concludes that' it is more likely than ... not that the ancestors of today' s Bermuda people were the original indigenous settlers from Africa ... It is not clear how, with that in mind, the author is going to develop his thesis of biological inferior ity, or' what the conclusion of this thesis will be'.\n",
      "---------------------------------------------\n",
      "The running time is 6.31  seconds.\n",
      "---------------------------------------------\n"
     ]
    },
    {
     "name": "stderr",
     "output_type": "stream",
     "text": [
      "\r",
      " 55%|██████████████████████████████████████████████████████████▎                                               | 55/100 [06:08<04:42,  6.27s/it]"
     ]
    },
    {
     "name": "stdout",
     "output_type": "stream",
     "text": [
      "The completed version is: The body ’ s capability to react to antigen depends on a person 's age , antigen type , maternal factors and the area where the antigen is presented . The first step to control or prevent the all er gen ot oxic- antigen react ivity is to define, describe or recognize the antigen and the response associated with it. Ant ig ens can be produced ex p ensive ly by path ogenic b e aut d m ers that cause illness in the host.          .    .   ..   ..  .   .. .   ..     .    ...   ..    .    ! 2 ..  .\n",
      "---------------------------------------------\n",
      "The running time is 8.14  seconds.\n",
      "---------------------------------------------\n"
     ]
    },
    {
     "name": "stderr",
     "output_type": "stream",
     "text": [
      "\r",
      " 56%|███████████████████████████████████████████████████████████▎                                              | 56/100 [06:14<04:20,  5.93s/it]"
     ]
    },
    {
     "name": "stdout",
     "output_type": "stream",
     "text": [
      "The completed version is: Some established acts continued to enjoy commercial success , such as Aerosmith , with their number one multi-platinum albums : Get a Grip ( 1993 ) , which produced four major- label singles, and. In a move that would have far- reaching implications in the future course of rock, the band broke into new territory with. With the release of their album, the band 's. In 1993, MTV launched the `` G. While that might have seemed like a great idea at the time, it would be easy to see such an effort as a step backwards for the genre.\n",
      "---------------------------------------------\n",
      "The running time is 5.12  seconds.\n",
      "---------------------------------------------\n"
     ]
    },
    {
     "name": "stderr",
     "output_type": "stream",
     "text": [
      "\r",
      " 57%|████████████████████████████████████████████████████████████▍                                             | 57/100 [06:25<05:32,  7.74s/it]"
     ]
    },
    {
     "name": "stdout",
     "output_type": "stream",
     "text": [
      "The completed version is: A government report covered by the Guardian in 2002 indicates that between 1940 and 1979 , the Ministry of Defence `` turned large parts of the country into a giant military machine.'          With a military machine in place, a national security state was born with the creation of the army 's three branches- Air force, navy and army- within which there were different grades and special isation levels.          The report found that these separate departments were responsible for the security of different regions.          `` There are no borders among the security forces. Security forces are located in every village, each one a potential mine- field . '          One of its most extreme examples was the division 's operation in  January 1948 in southern Punjab called `` Operation Blue Jay `` where it burned to the ground a population of 400, 000 Christians\n",
      "---------------------------------------------\n",
      "The running time is 11.92  seconds.\n",
      "---------------------------------------------\n"
     ]
    },
    {
     "name": "stderr",
     "output_type": "stream",
     "text": [
      "\r",
      " 58%|█████████████████████████████████████████████████████████████▍                                            | 58/100 [06:31<04:59,  7.13s/it]"
     ]
    },
    {
     "name": "stdout",
     "output_type": "stream",
     "text": [
      "The completed version is: Like the reptiles , birds are primarily uricotelic , that is , their kidneys extract nitrogenous waste from their bloodstream and excrete it as uric acid instead of urea or other nitrogen ous ide as in mammals like us. This is an excellent way to conserve nitrogen ous, but they need to have a blood meal from a bird to exc rete that d na. The best nitrogen ous id ear- n ers that d re ate nitrogen o us from their v en t is that n u g n ur is in ur ic e on the u n ip r ate s of an at r het or the bird.\n",
      "---------------------------------------------\n",
      "The running time is 5.67  seconds.\n",
      "---------------------------------------------\n"
     ]
    },
    {
     "name": "stderr",
     "output_type": "stream",
     "text": [
      "\r",
      " 59%|██████████████████████████████████████████████████████████████▌                                           | 59/100 [06:36<04:29,  6.58s/it]"
     ]
    },
    {
     "name": "stdout",
     "output_type": "stream",
     "text": [
      "The completed version is: Regarding the timing of German rapprochement , many historians agree that the dismissal of Maxim Litvinov , whose Jewish ethnicity was viewed unfavorably by Nazi Germany , removed an obstacle to r appro che ment. However, it turns out that after the war, there was not much reason to question the new status of Germany which emerged from the ashes of its defeat. The Allies, although they did not consider Germany their enemies anymore, did not trust the government after the purge of German communists in June 1933. Yet, the Allies trusted that the Germans would get a chance to prove that they were not a threat anymore.\n",
      "---------------------------------------------\n",
      "The running time is 5.3  seconds.\n",
      "---------------------------------------------\n"
     ]
    },
    {
     "name": "stderr",
     "output_type": "stream",
     "text": [
      "\r",
      " 60%|███████████████████████████████████████████████████████████████▌                                          | 60/100 [06:45<04:44,  7.12s/it]"
     ]
    },
    {
     "name": "stdout",
     "output_type": "stream",
     "text": [
      "The completed version is: The Guangxu Emperor died on November 14 , 1908 , and on November 15 , 1908 , Cixi also died . Rumors held that she or Yuan Shikai ordered trusted servants poisoned. In September 1900, the Qing Empress and the Prince cons ort held in prison secretly made a decision to ab d icate and to give up their powers to a select group of trusted e un rs. The ab d c ec t was formally completed the next month, but the new government was never given formal powers at the end of 1910. As Qing rulers had ab d  isted before, they made the new government( s) a `` c ont in c i a s t s( s) `` called the C in c id e m e n t of V i c an u a l\n",
      "---------------------------------------------\n",
      "The running time is 8.33  seconds.\n",
      "---------------------------------------------\n"
     ]
    },
    {
     "name": "stderr",
     "output_type": "stream",
     "text": [
      "\r",
      " 61%|████████████████████████████████████████████████████████████████▋                                         | 61/100 [06:49<04:05,  6.29s/it]"
     ]
    },
    {
     "name": "stdout",
     "output_type": "stream",
     "text": [
      "The completed version is: As a boy , Schwarzenegger played several sports , heavily influenced by his father . He picked up his first barbell in 1960 , when his soccer coach took his family to a local gym nas the nearby university.   As a baby, he was born with a congen ital birth mark on his face, something his father could not have helped, but it later led the body builder to become a big star. His first amateur win came at an age of 13, when he finished in second place at the 1964 Mr Europe competition.\n",
      "---------------------------------------------\n",
      "The running time is 4.33  seconds.\n",
      "---------------------------------------------\n"
     ]
    },
    {
     "name": "stderr",
     "output_type": "stream",
     "text": [
      "\r",
      " 62%|█████████████████████████████████████████████████████████████████▋                                        | 62/100 [06:55<03:58,  6.29s/it]"
     ]
    },
    {
     "name": "stdout",
     "output_type": "stream",
     "text": [
      "The completed version is: During the 1930s , the first two motorways were built across the Land , the A4 motorway as an important east-west connection in central Germany and the main link between Munich and Berlin on Autob ahn enf. They had to compete against each other so they were built in different parts of the country.  One was built on the main railway line that ran along the coast of Bav aria on it 's north west, to Ne us, in Bad en fin.  The other motor way went south, by the A l ber- We i n n e, and is known as the R und d er W er n e.\n",
      "---------------------------------------------\n",
      "The running time is 6.25  seconds.\n",
      "---------------------------------------------\n"
     ]
    },
    {
     "name": "stderr",
     "output_type": "stream",
     "text": [
      "\r",
      " 63%|██████████████████████████████████████████████████████████████████▊                                       | 63/100 [07:02<03:55,  6.37s/it]"
     ]
    },
    {
     "name": "stdout",
     "output_type": "stream",
     "text": [
      "The completed version is: Public priests were appointed by the collegia . Once elected , a priest held permanent religious authority from the eternal divine , which offered him lifetime influence , privilege and rights over his flock.  Pope S ixt arius was the last man elected by the colleg ia. In the first half of the 2 nd century C. E .. new priests would be elected through popular con clave rs hip.  A popular con Cl ave rs hip would involve a con clave- elect i o se of candidates followed by a c o r d of i c  ers and a con cl ave rs hip would then be conv oked i t with a con cl a ve rs hip.\n",
      "---------------------------------------------\n",
      "The running time is 6.55  seconds.\n",
      "---------------------------------------------\n"
     ]
    },
    {
     "name": "stderr",
     "output_type": "stream",
     "text": [
      "\r",
      " 64%|███████████████████████████████████████████████████████████████████▊                                      | 64/100 [07:06<03:26,  5.73s/it]"
     ]
    },
    {
     "name": "stdout",
     "output_type": "stream",
     "text": [
      "The completed version is: When Nintendo released the NES in the US , the design styling was deliberately different from that of other game consoles . Nintendo wanted to distinguish its product from those that had come before it by using its characteristic red and white colours. Though many modern consoles have adopted the red and yellow colours for their logos, Nintendo 's logo, for example, is black and white.    Nintendo' S early designs were in fact completely unrelated to that of subsequent titles.    However, as they became more successful the team began to borrow from other industries.\n",
      "---------------------------------------------\n",
      "The running time is 4.2  seconds.\n",
      "---------------------------------------------\n"
     ]
    },
    {
     "name": "stderr",
     "output_type": "stream",
     "text": [
      "\r",
      " 65%|████████████████████████████████████████████████████████████████████▉                                     | 65/100 [07:11<03:14,  5.55s/it]"
     ]
    },
    {
     "name": "stdout",
     "output_type": "stream",
     "text": [
      "The completed version is: In Homer 's Iliad , the names Danaans ( or Danaoi : Δαναοί ) and Argives ( Argives : Αργείοι ) are used to designate the Greek forces opposed to the Trojan War. Dana ans are used in Homer' s Odyssey as a syn onym for Od ys ai. Dana' s( s) are often conf lated with' s Greek name Od ys a i, even if Dana may not refer to the same warrior( s) as Od' y s a i. The two( s) of d in Dana and Od ys i are sometimes regarded as interchangeable.\n",
      "---------------------------------------------\n",
      "The running time is 5.11  seconds.\n",
      "---------------------------------------------\n"
     ]
    },
    {
     "name": "stderr",
     "output_type": "stream",
     "text": [
      "\r",
      " 66%|█████████████████████████████████████████████████████████████████████▉                                    | 66/100 [07:18<03:18,  5.83s/it]"
     ]
    },
    {
     "name": "stdout",
     "output_type": "stream",
     "text": [
      "The completed version is: Anthropologists such as C. Loring Brace , the philosophers Jonathan Kaplan and Rasmus Winther , and the geneticist Joseph Graves , [ page needed ] have argued that while there can be a strong sense of self in animals and humans respectively, there is little sense of self in insects, and hence insects feel no urge to be social, to group together to survive, or to form a species.   and they argue from this that while humans are a soc iable species, the insect is not. This book will explore the arguments and issues surrounding this issue to suggest further evidence of human- super- s soc iability in humans and support[ edit] of Br ace 's view.\n",
      "---------------------------------------------\n",
      "The running time is 6.46  seconds.\n",
      "---------------------------------------------\n"
     ]
    },
    {
     "name": "stderr",
     "output_type": "stream",
     "text": [
      "\r",
      " 67%|███████████████████████████████████████████████████████████████████████                                   | 67/100 [07:24<03:18,  6.02s/it]"
     ]
    },
    {
     "name": "stdout",
     "output_type": "stream",
     "text": [
      "The completed version is: Unlike the Spanish milled dollar the U.S. dollar is based upon a decimal system of values . In addition to the dollar the coinage act officially established monetary units of cent, dollar, quarter- dollar, dime, half- dollar, nick le y er( for$ 30 ) . In addition the denomination is also specified for notes, a dollar bill is defined by the monetary text as the sum of all of the smallest pieces of currency that fit into a$ 50 cents.  This definition is the basis of the current legal tender and is the standard used by the United States, China, Singapore, Canada and Argentina to define the denomination of their denomination of currency.\n",
      "---------------------------------------------\n",
      "The running time is 6.43  seconds.\n",
      "---------------------------------------------\n"
     ]
    },
    {
     "name": "stderr",
     "output_type": "stream",
     "text": [
      "\r",
      " 68%|████████████████████████████████████████████████████████████████████████                                  | 68/100 [07:39<04:36,  8.64s/it]"
     ]
    },
    {
     "name": "stdout",
     "output_type": "stream",
     "text": [
      "The completed version is: Of the 80 torch-bearers in London , Sir Steve Redgrave , who started the relay , mentioned to the media that he had received e-mailed pleas to boycott the event because `` of the lack of visibility for black Britain.  Â » < |endoftext| ><| end of|| text } }|} |}|} < |endoftext| >|>+|<| end of text}|}|} < |endoftext| >|+|<| end of text}|}|}<|>+|<| end of  _______|  ________||  _________________| ______ ||   ________________ ____  ________________________________ ______ ||  |* |||| ___   ________`|| ______| ______ ||| || |||| _____ \\\\\\/ \\\\_\\|/ ___/ _______ || || || ||  _____\\\\_\\\\/ / \\\\ ___ ||// ______ || || || ||  ____ \\\\ \\\\_/  _______ < <|\\ ___ ||||  _____ \\\\ \\\\_\n",
      "---------------------------------------------\n",
      "The running time is 14.74  seconds.\n",
      "---------------------------------------------\n"
     ]
    },
    {
     "name": "stderr",
     "output_type": "stream",
     "text": [
      "\r",
      " 69%|█████████████████████████████████████████████████████████████████████████▏                                | 69/100 [07:44<03:50,  7.42s/it]"
     ]
    },
    {
     "name": "stdout",
     "output_type": "stream",
     "text": [
      "The completed version is: A few hard rock bands from the 1970s and 1980s managed to sustain highly successful recording careers . Bon Jovi were still able to achieve a commercial hit with `` Sl ippery Kiss es e with the Police in a song the Police themselves couldn � t have written. Although one of the band members is dying at the moment I still believe that the Police is a great recording album. The next time I would like to see them perform is when they tour Canada in April, 1995 as opposed to the next time when they tour Canada in April, 1996.\n",
      "---------------------------------------------\n",
      "The running time is 4.55  seconds.\n",
      "---------------------------------------------\n"
     ]
    },
    {
     "name": "stderr",
     "output_type": "stream",
     "text": [
      "\r",
      " 70%|██████████████████████████████████████████████████████████████████████████▏                               | 70/100 [07:50<03:36,  7.23s/it]"
     ]
    },
    {
     "name": "stdout",
     "output_type": "stream",
     "text": [
      "The completed version is: Many modern specialty matches have been devised , with unique winning conditions . The most common of these is the ladder match . In the basic ladder match , the `` cl ippers `` of the two teams compete for first to seven points by winning a series of matches consisting of elimination matches. The first to seven points earned by the two teams are then matched by points gained in the elimination match, with the two remaining members of the two teams meeting in a finals match to determine the winner. In a standard ladder match, each elimination match follows the same rules:  ________ ____  ____  _____  ______ ______  ________  ____  ________  ____  ______  ____ ______  < |endoftext| >.\n",
      "---------------------------------------------\n",
      "The running time is 6.74  seconds.\n",
      "---------------------------------------------\n"
     ]
    },
    {
     "name": "stderr",
     "output_type": "stream",
     "text": [
      "\r",
      " 71%|███████████████████████████████████████████████████████████████████████████▎                              | 71/100 [08:13<05:42, 11.82s/it]"
     ]
    },
    {
     "name": "stdout",
     "output_type": "stream",
     "text": [
      "The completed version is: By March 2011 , the market share of OS X in North America had increased to slightly over 14 % . Whether the size of the Mac 's market share can be sustained in the present economic climate is still to be seen. However, the recent market trends clearly show that this number is not as large as Apple, nor Apple alone, would like it to be.  ________________ __  ________________ __   ________ __    _________   _____  _________    ________    ________ ___ __ __   _______    ________ __     ________      ______     __ __ __ __ __ __    _____     ________   __ _______ __ __  __      _______ ___    ________  ______  _____     ________  ___ __ __ __     _______ __ __ __     __      _______ _  _  _ __  _ __  __ __ __ __ _ __    __   _______ _ __     ________     ________ ______ __   ________ ____   ________   _______  _ _ ___.\n",
      "---------------------------------------------\n",
      "The running time is 22.49  seconds.\n",
      "---------------------------------------------\n"
     ]
    },
    {
     "name": "stderr",
     "output_type": "stream",
     "text": [
      "\r",
      " 72%|████████████████████████████████████████████████████████████████████████████▎                             | 72/100 [08:19<04:39,  9.99s/it]"
     ]
    },
    {
     "name": "stdout",
     "output_type": "stream",
     "text": [
      "The completed version is: The '98 season would begin on a somber note with the death of legendary broadcaster Harry Caray . After the retirement of Sandberg and the trade of Dunston , the Cubs would be without an analyst on the night of Friday, May 11 at Kau ff man. To add insult to injury, Car ay 's voice was to be the first at W rig ley 's new stadium. But Car ay was struck down just before the start of the week 's first game against the Pittsburgh Pirates. He died a short time later.  ____ Car ay would be missed, but a promising young man was born on May 14.\n",
      "---------------------------------------------\n",
      "The running time is 5.71  seconds.\n",
      "---------------------------------------------\n"
     ]
    },
    {
     "name": "stderr",
     "output_type": "stream",
     "text": [
      "\r",
      " 73%|█████████████████████████████████████████████████████████████████████████████▍                            | 73/100 [08:24<03:49,  8.48s/it]"
     ]
    },
    {
     "name": "stdout",
     "output_type": "stream",
     "text": [
      "The completed version is: Since the construction of its oldest buildings , the university 's physical plant has grown substantially . Over the years 29 residence halls have been built to accommodate students and to accommodate the growth of the university over the years. While the campus has undergone a change in appearance over the years, these buildings are reminders of the development of physical plant at the university at the beginning of the 20 th Century, by George Washington Cust is t.  ers, Robert H. and Mrs. R. D. Be all was a graduate of the law school and of the university.\n",
      "---------------------------------------------\n",
      "The running time is 4.93  seconds.\n",
      "---------------------------------------------\n"
     ]
    },
    {
     "name": "stderr",
     "output_type": "stream",
     "text": [
      "\r",
      " 74%|██████████████████████████████████████████████████████████████████████████████▍                           | 74/100 [08:31<03:32,  8.18s/it]"
     ]
    },
    {
     "name": "stdout",
     "output_type": "stream",
     "text": [
      "The completed version is: American comic books have adopted the character type for stories of their own like the mutant-villain Silver Samurai of Marvel Comics . The design of this character preserves the samurai traditions, with his bow and sword, but his body is a strange mixture of metal, wires, and a human shape. The character looks at yp like he 's a mutant in general- the body is entirely metal, though it is more like cy borg or the b ion suit in the Terminator universe. The design of the figure itself in the body gives the samurai feel, but if he were in Marvel Comics, he would likely be dressed all in black and blue, with a black trench coat hiding his armor and he would probably be in another dimension.\n",
      "---------------------------------------------\n",
      "The running time is 7.44  seconds.\n",
      "---------------------------------------------\n"
     ]
    },
    {
     "name": "stderr",
     "output_type": "stream",
     "text": [
      "\r",
      " 75%|███████████████████████████████████████████████████████████████████████████████▌                          | 75/100 [08:58<05:47, 13.90s/it]"
     ]
    },
    {
     "name": "stdout",
     "output_type": "stream",
     "text": [
      "The completed version is: A true predator can commonly be known as one that kills and eats another living thing . Whereas other types of predator all harm their prey in some way , these animals kill prey by being killed. There are five types of true predators:  ich thy re ich the   ich thy  ich the    ich the     ich     ich     ich a      ich the        ich the        ich      ich       ich   there are another nine types you can find out about them at your local library   ich the            ich the        ich        ich         ich        ich the          ich the           ich the           ich       ich the              ich the              ich the               ich                ich the       .\n",
      "---------------------------------------------\n",
      "The running time is 27.23  seconds.\n",
      "---------------------------------------------\n"
     ]
    },
    {
     "name": "stderr",
     "output_type": "stream",
     "text": [
      "\r",
      " 76%|████████████████████████████████████████████████████████████████████████████████▌                         | 76/100 [09:05<04:38, 11.60s/it]"
     ]
    },
    {
     "name": "stdout",
     "output_type": "stream",
     "text": [
      "The completed version is: In 680 Ibn al-Zubayr fled Medina for Mecca . Hearing about Husayn 's opposition to Yazid I , the people of Kufa sent to Husayn asking him to take over the leadership of the caliphate.[ 31] Al- R ida, also known as a `` S adiq, who had become famous during the reign of Abu Bakr, recommended Hus ayn as cal iph. Al- R  ida reported that` U mar al- Z abi``, the grandson of al- Har ith Kh a. i, the third cal iph( al- Mu` min a ) , had asked Hus ayn to take the leadership of the k uf a n.\n",
      "---------------------------------------------\n",
      "The running time is 6.2  seconds.\n",
      "---------------------------------------------\n"
     ]
    },
    {
     "name": "stderr",
     "output_type": "stream",
     "text": [
      "\r",
      " 77%|█████████████████████████████████████████████████████████████████████████████████▌                        | 77/100 [09:10<03:43,  9.70s/it]"
     ]
    },
    {
     "name": "stdout",
     "output_type": "stream",
     "text": [
      "The completed version is: The Treaty of Guadalupe Hidalgo , signed on February 2 , 1848 , by American diplomat Nicholas Trist and Mexican plenipotentiary representatives Luis G. Cuevas , Bernardo Couto , and others established that all of the territory of modern- day New Mexico was to be the United States:  The southern most point being named by the Mexican government as Cap illa Sac aj ada.  The treaty established the border between New Mexico and the U. S.  However, it also allowed a strip approximately 70 miles wide, or about a third of the territory, to remain independent of the U.\n",
      "---------------------------------------------\n",
      "The running time is 5.24  seconds.\n",
      "---------------------------------------------\n"
     ]
    },
    {
     "name": "stderr",
     "output_type": "stream",
     "text": [
      "\r",
      " 78%|██████████████████████████████████████████████████████████████████████████████████▋                       | 78/100 [09:20<03:32,  9.67s/it]"
     ]
    },
    {
     "name": "stdout",
     "output_type": "stream",
     "text": [
      "The completed version is: In December 2015 , West released a song titled `` Facts '' . He announced in January 2016 on Twitter that SWISH would be released on February 11 , after first tweeting its release date two days earlier. In March 2016, a leaked version of SW ISH- F AN T was leaked on the social media website Vine. By May, both the leaked leaked and the final version of SW ISH- F AN T had been released. In May, West was accused of plagiar izing the beat from the song `` C udi ``, which was originally a song by British singer/ song writer S ia N ( pre- released by her as a single on her  s t ud g e' s  C ul tu n d s in the U n  ers t o f  A r a m a)\n",
      "---------------------------------------------\n",
      "The running time is 9.57  seconds.\n",
      "---------------------------------------------\n"
     ]
    },
    {
     "name": "stderr",
     "output_type": "stream",
     "text": [
      "\r",
      " 79%|███████████████████████████████████████████████████████████████████████████████████▋                      | 79/100 [09:26<03:04,  8.78s/it]"
     ]
    },
    {
     "name": "stdout",
     "output_type": "stream",
     "text": [
      "The completed version is: On the other hand , the lack of an effective royal justice system in the Kingdom led to the social conflict known as the Guerras Irmandiñas ( 'Wars of the Indian Trib es ' ) , in which hundreds of thousands of indigenous peoples from the Hu all o Valley in Bolivia fought for land, territory, political and cultural rights. They were also known for being brutally subjug ated by the royal government.         During the civil wars, the new political leader of Morales is Jose `` El T arc s ``  A an s from the Map uc e N ati on al( of an d S o o p) O, known at that time as R.\n",
      "---------------------------------------------\n",
      "The running time is 6.68  seconds.\n",
      "---------------------------------------------\n"
     ]
    },
    {
     "name": "stderr",
     "output_type": "stream",
     "text": [
      "\r",
      " 80%|████████████████████████████████████████████████████████████████████████████████████▊                     | 80/100 [09:31<02:32,  7.63s/it]"
     ]
    },
    {
     "name": "stdout",
     "output_type": "stream",
     "text": [
      "The completed version is: Terry Eastland , the author who wrote From Ending Affirmative Action : The Case for Colorblind Justice states , `` Most arguments for affirmative action fall into two categories : those claiming color blind ness is a desirable goal, or those attempting to justify it. I contend that neither of these two approaches can succeed, and that at some point along the way an important distinction gets lost. The first category is composed of those who want to promote racial equality in ways that achieve n ess and dignity that they feel are a prec ond ary end s o far t o do with their objectives.\n",
      "---------------------------------------------\n",
      "The running time is 4.9  seconds.\n",
      "---------------------------------------------\n"
     ]
    },
    {
     "name": "stderr",
     "output_type": "stream",
     "text": [
      "\r",
      " 81%|█████████████████████████████████████████████████████████████████████████████████████▊                    | 81/100 [09:41<02:37,  8.28s/it]"
     ]
    },
    {
     "name": "stdout",
     "output_type": "stream",
     "text": [
      "The completed version is: The Royal Assent ceremony takes place in the Senate , as the sovereign is traditionally barred from the House of Commons . On the day of the event , the sovereign is addressed( as in, the sovereign is given a second reading on the relevant legislation, a third reading and finally a final approval ) .   I think that 's the best that can be said about the Sovereign s absence  ! ! !  !  That 's all ! !!  You 're welcome. ! !! ! < |endoftext| >^-^ <^-^><| end of text message|>  ! ! !! | end of text message|> !!>^-^<!>^-^<!>^-^<!>^-^:)      This doesn 't seem to show up in the transcript.\n",
      "---------------------------------------------\n",
      "The running time is 9.77  seconds.\n",
      "---------------------------------------------\n"
     ]
    },
    {
     "name": "stderr",
     "output_type": "stream",
     "text": [
      "\r",
      " 82%|██████████████████████████████████████████████████████████████████████████████████████▉                   | 82/100 [09:46<02:13,  7.40s/it]"
     ]
    },
    {
     "name": "stdout",
     "output_type": "stream",
     "text": [
      "The completed version is: The early and mid-1980s saw economic trouble for Libya ; from 1982 to 1986 , the country 's annual oil revenues dropped from $ 21 billion to $ 5.4 billion.  During this period from 1982 through 1984, the regime was held together by the United States `` as a means to isolate and weaken both Libya( in which the U. S. had a deep interest after the 1979 overthrow of the pro- Soviet government in Iran) and Mu am mar Gaddafi. Gaddafi 's policy toward U. S . , for example in Libya, he supported the overthrow of the government of Chile, for which U.\n",
      "---------------------------------------------\n",
      "The running time is 5.33  seconds.\n",
      "---------------------------------------------\n"
     ]
    },
    {
     "name": "stderr",
     "output_type": "stream",
     "text": [
      "\r",
      " 83%|███████████████████████████████████████████████████████████████████████████████████████▉                  | 83/100 [09:53<02:02,  7.21s/it]"
     ]
    },
    {
     "name": "stdout",
     "output_type": "stream",
     "text": [
      "The completed version is: Sound could be stored in either analog or digital format and in a variety of surround sound formats ; NTSC discs could carry two analog audio tracks , plus two more when using Dol by Dol( by Dol by Dol) on compatible systems, and a Dol by Dol by Dol( by Dol by Dol by Dol) track on a non- compatible system. This means sound can now be played in stereo systems in four formats( Dol by Dol on select systems ) . It could also carry the Dol by Dol L yrics by Dol by Dol( By Dol By By Dol) track to play two L y ric hes( By L Y Ric By L Y Y Ric) and, at a later date.\n",
      "---------------------------------------------\n",
      "The running time is 6.73  seconds.\n",
      "---------------------------------------------\n"
     ]
    },
    {
     "name": "stderr",
     "output_type": "stream",
     "text": [
      "\r",
      " 84%|█████████████████████████████████████████████████████████████████████████████████████████                 | 84/100 [09:58<01:45,  6.59s/it]"
     ]
    },
    {
     "name": "stdout",
     "output_type": "stream",
     "text": [
      "The completed version is: From his diagrams of a small number of particles interacting in spacetime , Feynman could then model all of physics in terms of the spins of those particles and the magnetic fields they create to interact with each other. The result: the theory of relativity is essentially a description. It � describes the world as it can be prob ed. It assumes that the world is really just a bunch of tiny bits bouncing around. All of the universe is connected in ways that can not be seen. All of the laws of physics are just the `` gu ises `` of these tiny bits.\n",
      "---------------------------------------------\n",
      "The running time is 5.11  seconds.\n",
      "---------------------------------------------\n"
     ]
    },
    {
     "name": "stderr",
     "output_type": "stream",
     "text": [
      "\r",
      " 85%|██████████████████████████████████████████████████████████████████████████████████████████                | 85/100 [10:07<01:49,  7.29s/it]"
     ]
    },
    {
     "name": "stdout",
     "output_type": "stream",
     "text": [
      "The completed version is: In late 1203 , John attempted to relieve Château Gaillard , which although besieged by Philip was guarding the eastern flank of Normandy . John attempted a synchronised operation involving some of his other leading knights, including Richard of Cornwall at T ast, Guy of D orset at La F ert ule and Alan of D on don. He took his men in their hundreds onto Normandy and captured towns along the way. The first of these towns was L i é de Se in, and John then marched into D o rent. Although the English held their position in the face of a concerted Norman and Ange vin assault, John was frustrated that the French had not been ousted by the arrival of French troops under Henry of Val ence ' s son B aud de W or ld re and the Count\n",
      "---------------------------------------------\n",
      "The running time is 8.88  seconds.\n",
      "---------------------------------------------\n"
     ]
    },
    {
     "name": "stderr",
     "output_type": "stream",
     "text": [
      "\r",
      " 86%|███████████████████████████████████████████████████████████████████████████████████████████▏              | 86/100 [10:12<01:30,  6.48s/it]"
     ]
    },
    {
     "name": "stdout",
     "output_type": "stream",
     "text": [
      "The completed version is: In 2013 , however , a study of Ashkenazi mitochondrial DNA by a team led by Martin B. Richards of the University of Huddersfield in England reached different conclusions , finding that Ash ken az im ut was genetically closer to European Jews than to African ones. < /s >, which is consistent with our findings and indicates the relative importance of genetic drift in shaping the genetic makeup of Jews. � The mitochondrial genome, which origin ates a sperm, is typically inherited unchanged from the male ancestor to the offspring. This results in a single � cl ade.\n",
      "---------------------------------------------\n",
      "The running time is 4.57  seconds.\n",
      "---------------------------------------------\n"
     ]
    },
    {
     "name": "stderr",
     "output_type": "stream",
     "text": [
      "\r",
      " 87%|████████████████████████████████████████████████████████████████████████████████████████████▏             | 87/100 [10:18<01:23,  6.43s/it]"
     ]
    },
    {
     "name": "stdout",
     "output_type": "stream",
     "text": [
      "The completed version is: At the 1912 Salon d'Automne an architectural installation was exhibited that quickly became known as Maison Cubiste ( Cubist House ) , signed Raymond Duchamp-Villon and André Mare along with painter Am é r ée Be aul at.    The house, situated in the r ue of the Luxembourg gardens, contained a series of paintings where various elements of Cub ism  ers were combined. In an initial experiment the architect, And ré a m  ère, had used two rectangular sections of wood and had painted them blue. D uch amp had then painted the wood white and had placed figures in the space between the lines.\n",
      "---------------------------------------------\n",
      "The running time is 6.28  seconds.\n",
      "---------------------------------------------\n"
     ]
    },
    {
     "name": "stderr",
     "output_type": "stream",
     "text": [
      "\r",
      " 88%|█████████████████████████████████████████████████████████████████████████████████████████████▎            | 88/100 [10:24<01:14,  6.17s/it]"
     ]
    },
    {
     "name": "stdout",
     "output_type": "stream",
     "text": [
      "The completed version is: Some rock musicians today use mandolins , often single-stringed electric models rather than double-stringed acoustic mandolins . One example is Tim Brennan of the Irish-American punk rock band Dropkick Murphys . He uses mand ol ins from his youth with the double- string ed electric model. However, Brennan has used mand ol ins in its original double- string acoustic form. Tim Brennan has also replaced steel string sets with nylon, and plays the original double- string mand olin with steel in tune. He explained to me what he does, and this gives context for the other examples I will hear later on in his interview.\n",
      "---------------------------------------------\n",
      "The running time is 5.53  seconds.\n",
      "---------------------------------------------\n"
     ]
    },
    {
     "name": "stderr",
     "output_type": "stream",
     "text": [
      "\r",
      " 89%|██████████████████████████████████████████████████████████████████████████████████████████████▎           | 89/100 [10:28<01:03,  5.73s/it]"
     ]
    },
    {
     "name": "stdout",
     "output_type": "stream",
     "text": [
      "The completed version is: President Truman , symbolizing a broad-based desire for an Eisenhower candidacy for president , again in 1951 pressed him to run for the office as a Democrat . It was one of his final speeches.  Eisenhower replied.  The following year he gave a speech to the Veterans of Foreign Wars in which he outlined his military, domestic and foreign policies.  He was asked again in September 1953 by The Republican Tribune of May 22 for a presidential bid.   Eisenhower said he had `` no intention of seeking the presidency '' even when asked about it.\n",
      "---------------------------------------------\n",
      "The running time is 4.69  seconds.\n",
      "---------------------------------------------\n"
     ]
    },
    {
     "name": "stderr",
     "output_type": "stream",
     "text": [
      "\r",
      " 90%|███████████████████████████████████████████████████████████████████████████████████████████████▍          | 90/100 [10:33<00:54,  5.45s/it]"
     ]
    },
    {
     "name": "stdout",
     "output_type": "stream",
     "text": [
      "The completed version is: In 2006 , Morgan Stanley purchased 20 acres ( 8.1 ha ) directly north of the Showboat Atlantic City Hotel and Casino for a new $ 2 billion plus casino complex, with an estimated revenue capacity of$ 2 billion per ann um. Morgan Stanley announced the plans for the two new hotels and the casino in April of 2006. Morgan Stanley has now acquired two more resort complexes that will make up the Show boat and other casinos on the Cape May peninsula, and also the Board walk( s) and adjoining shopping and dining area that connects the Atlantic City and Cape May casinos.\n",
      "---------------------------------------------\n",
      "The running time is 4.77  seconds.\n",
      "---------------------------------------------\n"
     ]
    },
    {
     "name": "stderr",
     "output_type": "stream",
     "text": [
      "\r",
      " 91%|████████████████████████████████████████████████████████████████████████████████████████████████▍         | 91/100 [10:38<00:47,  5.24s/it]"
     ]
    },
    {
     "name": "stdout",
     "output_type": "stream",
     "text": [
      "The completed version is: The final major aspect of identity formation is self-esteem . Self-esteem is defined as one 's thoughts and feelings about one 's self-concept and identity . Most theories on self-esteem state that self- esteem is an internal process developed to judge one 's level of accomplishment and relative status with regard to other people. Another factor believed to have significant impact on self- esteem is one' s social background during early age. One of the factors considered as part of the early developmental path from childhood to adulthood is the psychological relationship one has with other peers.\n",
      "---------------------------------------------\n",
      "The running time is 4.73  seconds.\n",
      "---------------------------------------------\n"
     ]
    },
    {
     "name": "stderr",
     "output_type": "stream",
     "text": [
      "\r",
      " 92%|█████████████████████████████████████████████████████████████████████████████████████████████████▌        | 92/100 [10:43<00:41,  5.25s/it]"
     ]
    },
    {
     "name": "stdout",
     "output_type": "stream",
     "text": [
      "The completed version is: For its complete North American release , the Nintendo Entertainment System was progressively released over the ensuing years in four different bundles : the Deluxe Set , the Control Deck Set, which included a game pad on a custom- m ated cardboard base, with a second Game Controller in the box, the Turbo Set, with a turbo button to be inserted into a slot, and the Super NES Classic Edition, with the game cartridge as the only item to come packaged with.  Nintendo would continue to release standalone bundles with no other game than the Super NES Classic Edition or Super NES Classic Edition itself throughout 2016, 2017 and 2018.\n",
      "---------------------------------------------\n",
      "The running time is 5.22  seconds.\n",
      "---------------------------------------------\n"
     ]
    },
    {
     "name": "stderr",
     "output_type": "stream",
     "text": [
      "\r",
      " 93%|██████████████████████████████████████████████████████████████████████████████████████████████████▌       | 93/100 [10:48<00:35,  5.04s/it]"
     ]
    },
    {
     "name": "stdout",
     "output_type": "stream",
     "text": [
      "The completed version is: A period of division for the Liberals followed , with former Treasurer John Howard competing with former Foreign Minister Andrew Peacock for supremacy . The Australian economy was facing the effects of the credit crisis that started about this time in the US, and the Howard government 's tax cuts and deregulation would only contribute to this. By September 2008, the government was faced with a deficit of two per cent of GDP, with large unemployment projections and further cuts in federal spending.  Following the federal election of, the incoming leadership team led by  included Mr.\n",
      "---------------------------------------------\n",
      "The running time is 4.53  seconds.\n",
      "---------------------------------------------\n"
     ]
    },
    {
     "name": "stderr",
     "output_type": "stream",
     "text": [
      "\r",
      " 94%|███████████████████████████████████████████████████████████████████████████████████████████████████▋      | 94/100 [10:53<00:30,  5.05s/it]"
     ]
    },
    {
     "name": "stdout",
     "output_type": "stream",
     "text": [
      "The completed version is: Constantius , ordered Liberius into exile in 356 giving him , then , three days to comply . He was ordered into banishment to Beroea , in Thrace ; Beroea is. some distance from the city, where it was to. be two days journey from the city. He there died.    This was a mild way of punishing those who did not obey. He sent other orders to his soldiers. They should have set upon him and killed him to a quick end.  But    The death of Liber ius was too much for the other members of the community.\n",
      "---------------------------------------------\n",
      "The running time is 5.06  seconds.\n",
      "---------------------------------------------\n"
     ]
    },
    {
     "name": "stderr",
     "output_type": "stream",
     "text": [
      "\r",
      " 95%|████████████████████████████████████████████████████████████████████████████████████████████████████▋     | 95/100 [10:58<00:26,  5.21s/it]"
     ]
    },
    {
     "name": "stdout",
     "output_type": "stream",
     "text": [
      "The completed version is: The Montana Territory was formed on April 26 , 1864 , when the U.S. passed the Organic Act . Schools started forming in the area before it was officially a territory on May 1. The first school in the territory was a log building by the name of Big Sandy High School.  The school has been located at the current location of the First National Bank Tower since 1905.  It was the first high school ever to open in Montana. During its early years the school had only one teacher, and over time was expanded to the current building which boasts facilities now used by the high school and the freshman orientation center.\n",
      "---------------------------------------------\n",
      "The running time is 5.55  seconds.\n",
      "---------------------------------------------\n"
     ]
    },
    {
     "name": "stderr",
     "output_type": "stream",
     "text": [
      "\r",
      " 96%|█████████████████████████████████████████████████████████████████████████████████████████████████████▊    | 96/100 [11:04<00:21,  5.29s/it]"
     ]
    },
    {
     "name": "stdout",
     "output_type": "stream",
     "text": [
      "The completed version is: On 20 June 1794 , Burke received a vote of thanks from the Commons for his services in the Hastings Trial and he immediately resigned his seat , being replaced by Sir William D enn ett.  The following year, Burke held the seat again, becoming Speaker. He stood down as Speaker in May 18 02 and was replaced by Sir Frederick B rough, Lord Lyon King of Arms, who was also Keeper of the Pri vy Seal of the King.  The following summer, in 18 03, Burke � ret ook ed in a by- election for the vacancy arising from the elevation of the Earl of Har borough of the previous year.\n",
      "---------------------------------------------\n",
      "The running time is 5.43  seconds.\n",
      "---------------------------------------------\n"
     ]
    },
    {
     "name": "stderr",
     "output_type": "stream",
     "text": [
      "\r",
      " 97%|██████████████████████████████████████████████████████████████████████████████████████████████████████▊   | 97/100 [11:10<00:16,  5.59s/it]"
     ]
    },
    {
     "name": "stdout",
     "output_type": "stream",
     "text": [
      "The completed version is: The nation almost immediately fell into civil war that involved various factions fighting one another ; these factions were often distinguished by clan loyalties . More than 500,000 residents fled. Most went to other regions.   The National ist Government, while still standing, was dissolved and replaced by a coalition government of the National ist party, the Democratic Progressive Party, under T ade ok ud inn and the Party of Independence and Progress, led by O sk er i. i   The military campaign to seize power in the capital continued and resulted in heavy casualties on both sides, a number of which were recorded in the journal of Col.\n",
      "---------------------------------------------\n",
      "The running time is 6.26  seconds.\n",
      "---------------------------------------------\n"
     ]
    },
    {
     "name": "stderr",
     "output_type": "stream",
     "text": [
      "\r",
      " 98%|███████████████████████████████████████████████████████████████████████████████████████████████████████▉  | 98/100 [11:14<00:10,  5.21s/it]"
     ]
    },
    {
     "name": "stdout",
     "output_type": "stream",
     "text": [
      "The completed version is: Several explanations have been offered for Yale ’ s representation in national elections since the end of the Vietnam War . Various sources note the spirit of campus activism that took over the country during this era. According to professor Paul Gott fried enberg �` It could be that the Yale students felt that if they stayed silent, we weren � ° s not going to support you. In order to counter this idea, two students formed the Y al ies for America. The other source is that Yale was selected by the Republican Party.\n",
      "---------------------------------------------\n",
      "The running time is 4.3  seconds.\n",
      "---------------------------------------------\n"
     ]
    },
    {
     "name": "stderr",
     "output_type": "stream",
     "text": [
      "\r",
      " 99%|████████████████████████████████████████████████████████████████████████████████████████████████████████▉ | 99/100 [11:19<00:04,  5.00s/it]"
     ]
    },
    {
     "name": "stdout",
     "output_type": "stream",
     "text": [
      "The completed version is: The last major building work took place during the reign of King George V when , in 1913 , Sir Aston Webb redesigned Blore 's 1850 East Front to resemble a grand Norman church. After the First World War, Bl ore and St Michael 's, two of the finest medieval churches in Britain, were severely damaged by bombs and the new church and clo isters had to be pulled down and rebuilt during the 1920 s. A magnificent, three- story stained glass window was specially commissioned to replace the destroyed one in 1960- 61 which still stands on the West Front.\n",
      "---------------------------------------------\n",
      "The running time is 4.47  seconds.\n",
      "---------------------------------------------\n"
     ]
    },
    {
     "name": "stderr",
     "output_type": "stream",
     "text": [
      "100%|█████████████████████████████████████████████████████████████████████████████████████████████████████████| 100/100 [11:24<00:00,  6.85s/it]"
     ]
    },
    {
     "name": "stdout",
     "output_type": "stream",
     "text": [
      "The completed version is: The departures of Núñez and van Gaal were hardly noticed by the fans when compared to that of Luís Figo , then club vice-captain . Figo had become a cult figure during the 1998 World Cup in France, in which Portugal lifted the trophy, and was expected to be at the heart of the club 's strategy in the coming season. But, as with a good deal of Portugal' a post- t ren era, it turned out a different story. Fig o had been involved in an altercation during a training session that night at the Est á p ode, and a broken leg had hampered him throughout the season.\n",
      "---------------------------------------------\n",
      "The running time is 5.25  seconds.\n",
      "---------------------------------------------\n"
     ]
    },
    {
     "name": "stderr",
     "output_type": "stream",
     "text": [
      "\n"
     ]
    }
   ],
   "source": [
    "%%capture cap\n",
    "\n",
    "start_it = 0\n",
    "end_it = 100\n",
    "\n",
    "max_new_tokens = 1\n",
    "\n",
    "import pandas as pd\n",
    "import numpy as np\n",
    "df = df[:100]\n",
    "df.to_csv('datasets/suqad-one-token.csv', index=False)\n",
    "\n",
    "for i in tqdm(range(start_it, end_it)):\n",
    "    original = df.loc[i,'original']\n",
    "    token_list = word_tokenize(original) \n",
    "    tokens = token_list[:30]\n",
    "    incomplete = \" \".join(tokens)\n",
    "    flag_completion = False\n",
    "    \n",
    "    prompt = f'{incomplete}'\n",
    "    \n",
    "    T1 = time.time()\n",
    "\n",
    "    while(flag_completion is False):\n",
    "        \n",
    "        T3 = time.time()\n",
    "        \n",
    "        model_name, tokenizer, model = select_model_random_loaded(model_info_list)\n",
    "\n",
    "        inputs = tokenizer([prompt], return_tensors=\"pt\").to(cuda_name)\n",
    "        \n",
    "        outputs = model.generate(**inputs, max_new_tokens=max_new_tokens, num_return_sequences=1, min_length=1, do_sample=True,\n",
    "                                                   pad_token_id=tokenizer.eos_token_id,\n",
    "                                                   eos_token_id=tokenizer.eos_token_id,\n",
    "                                                   return_dict_in_generate=True, output_scores=True)\n",
    "    \n",
    "        input_length = 1 if model.config.is_encoder_decoder else inputs.input_ids.shape[1]\n",
    "        generated_tokens = outputs.sequences[:, input_length:]\n",
    "        temp_output = tokenizer.decode(generated_tokens[0])\n",
    "    \n",
    "        cut_token_number = 0 \n",
    "        temp_token_list = word_tokenize(temp_output) \n",
    "        temp_tokens = temp_token_list[cut_token_number:]\n",
    "        cut_answer = \" \".join(temp_tokens)\n",
    "        \n",
    "        flag_completion = completion_judgement(prompt, cut_answer)\n",
    "        \n",
    "        if cut_answer in list(string.punctuation):\n",
    "            prompt = prompt + cut_answer\n",
    "        else: \n",
    "            prompt = \" \".join([prompt, cut_answer])\n",
    "\n",
    "        T4 = time.time()\n",
    "        time_span = np.round((T4 - T3),2)\n",
    "\n",
    "    print('The completed version is:', prompt)\n",
    "    df.loc[i, 'one-token'] = prompt\n",
    "\n",
    "    T2 = time.time()\n",
    "    time_span = np.round((T2 - T1),2)\n",
    "    df.loc[i, 'time-4-one-token'] = time_span\n",
    "    \n",
    "    print('---------------------------------------------')\n",
    "    print('The running time is', (time_span), ' seconds.')\n",
    "    print('---------------------------------------------')\n",
    "\n",
    "    df.to_csv('datasets/squad-4-one-token-fast-gpu.csv', index=False)\n",
    "\n",
    "with open('output/squad-4-one-token-fast-gpu.txt', 'w') as file:\n",
    "    file.write(cap.stdout)\n",
    "    \n",
    "torch.cuda.empty_cache()"
   ]
  },
  {
   "cell_type": "code",
   "execution_count": null,
   "metadata": {},
   "outputs": [],
   "source": [
    "torch.cuda.empty_cache()"
   ]
  },
  {
   "cell_type": "code",
   "execution_count": null,
   "metadata": {},
   "outputs": [],
   "source": [
    "# save as json file\n",
    "\n",
    "df = pd.read_csv('datasets/squad-4-one-token-fast-gpu.csv')\n",
    "df_temp = df[['original', 'one-token']]\n",
    "df_temp = df_temp.rename(columns={'one-token':'sampled'})\n",
    "\n",
    "dict_temp = {'original':[], 'sampled':[]}\n",
    "df_temp"
   ]
  },
  {
   "cell_type": "code",
   "execution_count": 62,
   "metadata": {},
   "outputs": [],
   "source": [
    "for i in range(len(df_temp)):\n",
    "    dict_temp['original'].append(df_temp.loc[i,'original'])\n",
    "    dict_temp['sampled'].append(df_temp.loc[i,'sampled'])\n",
    "    \n",
    "out_file = open('datasets/squad_4-one-token-fast-gpu.raw_data.json', 'w') \n",
    "json.dump(dict_temp, out_file, indent = 4)\n",
    "out_file.close() "
   ]
  },
  {
   "cell_type": "code",
   "execution_count": 16,
   "metadata": {},
   "outputs": [],
   "source": [
    "# !conda env export > example_saving.yml"
   ]
  }
 ],
 "metadata": {
  "accelerator": "GPU",
  "colab": {
   "collapsed_sections": [],
   "name": "Easy test_model.ipynb",
   "provenance": []
  },
  "kernelspec": {
   "display_name": "Python 3 (ipykernel)",
   "language": "python",
   "name": "python3"
  },
  "language_info": {
   "codemirror_mode": {
    "name": "ipython",
    "version": 3
   },
   "file_extension": ".py",
   "mimetype": "text/x-python",
   "name": "python",
   "nbconvert_exporter": "python",
   "pygments_lexer": "ipython3",
   "version": "3.9.7"
  },
  "widgets": {
   "application/vnd.jupyter.widget-state+json": {
    "018d9126b5e54d1ebd52ad0533c87389": {
     "model_module": "@jupyter-widgets/controls",
     "model_module_version": "1.5.0",
     "model_name": "HBoxModel",
     "state": {
      "_dom_classes": [],
      "_model_module": "@jupyter-widgets/controls",
      "_model_module_version": "1.5.0",
      "_model_name": "HBoxModel",
      "_view_count": null,
      "_view_module": "@jupyter-widgets/controls",
      "_view_module_version": "1.5.0",
      "_view_name": "HBoxView",
      "box_style": "",
      "children": [
       "IPY_MODEL_8bde1425a6074656a4364ac754cc4cab",
       "IPY_MODEL_876e83e1f8674fce88038206e63b6388",
       "IPY_MODEL_55323f9e1021415bba71c765cb7eb4c1"
      ],
      "layout": "IPY_MODEL_d85fac44d81546aea70a07d055cd068b"
     }
    },
    "02eb07a772a34494baf17d90622b1dc3": {
     "model_module": "@jupyter-widgets/controls",
     "model_module_version": "1.5.0",
     "model_name": "HBoxModel",
     "state": {
      "_dom_classes": [],
      "_model_module": "@jupyter-widgets/controls",
      "_model_module_version": "1.5.0",
      "_model_name": "HBoxModel",
      "_view_count": null,
      "_view_module": "@jupyter-widgets/controls",
      "_view_module_version": "1.5.0",
      "_view_name": "HBoxView",
      "box_style": "",
      "children": [
       "IPY_MODEL_ceef197760f2418e8e32138546e7f0c6",
       "IPY_MODEL_d9435981385345058a7916df9f7277c5",
       "IPY_MODEL_794a456f469c419b9029353e021dd672"
      ],
      "layout": "IPY_MODEL_71876819be9548039e4a59525622c6d6"
     }
    },
    "0627c711e976465ea6188dd3a1aa00f1": {
     "model_module": "@jupyter-widgets/controls",
     "model_module_version": "1.5.0",
     "model_name": "HTMLModel",
     "state": {
      "_dom_classes": [],
      "_model_module": "@jupyter-widgets/controls",
      "_model_module_version": "1.5.0",
      "_model_name": "HTMLModel",
      "_view_count": null,
      "_view_module": "@jupyter-widgets/controls",
      "_view_module_version": "1.5.0",
      "_view_name": "HTMLView",
      "description": "",
      "description_tooltip": null,
      "layout": "IPY_MODEL_297122978d224d67a9f7066fd78c2461",
      "placeholder": "​",
      "style": "IPY_MODEL_a10f9ec340ea4fe89991853d8499e62a",
      "value": "Downloading: 100%"
     }
    },
    "08fe2d18e86d4d2aa0f896ee4b88eb10": {
     "model_module": "@jupyter-widgets/base",
     "model_module_version": "1.2.0",
     "model_name": "LayoutModel",
     "state": {
      "_model_module": "@jupyter-widgets/base",
      "_model_module_version": "1.2.0",
      "_model_name": "LayoutModel",
      "_view_count": null,
      "_view_module": "@jupyter-widgets/base",
      "_view_module_version": "1.2.0",
      "_view_name": "LayoutView",
      "align_content": null,
      "align_items": null,
      "align_self": null,
      "border": null,
      "bottom": null,
      "display": null,
      "flex": null,
      "flex_flow": null,
      "grid_area": null,
      "grid_auto_columns": null,
      "grid_auto_flow": null,
      "grid_auto_rows": null,
      "grid_column": null,
      "grid_gap": null,
      "grid_row": null,
      "grid_template_areas": null,
      "grid_template_columns": null,
      "grid_template_rows": null,
      "height": null,
      "justify_content": null,
      "justify_items": null,
      "left": null,
      "margin": null,
      "max_height": null,
      "max_width": null,
      "min_height": null,
      "min_width": null,
      "object_fit": null,
      "object_position": null,
      "order": null,
      "overflow": null,
      "overflow_x": null,
      "overflow_y": null,
      "padding": null,
      "right": null,
      "top": null,
      "visibility": null,
      "width": null
     }
    },
    "0af3d16033204183be3120fc2799bc12": {
     "model_module": "@jupyter-widgets/controls",
     "model_module_version": "1.5.0",
     "model_name": "HBoxModel",
     "state": {
      "_dom_classes": [],
      "_model_module": "@jupyter-widgets/controls",
      "_model_module_version": "1.5.0",
      "_model_name": "HBoxModel",
      "_view_count": null,
      "_view_module": "@jupyter-widgets/controls",
      "_view_module_version": "1.5.0",
      "_view_name": "HBoxView",
      "box_style": "",
      "children": [
       "IPY_MODEL_f9b8fe1a51d849aba1a85c5c07acc04d",
       "IPY_MODEL_8222aab48367496f8a4aa0a9b4507a0b",
       "IPY_MODEL_5db98804e4e34beb80d5ea551701b476"
      ],
      "layout": "IPY_MODEL_43183520abd8444e8a69a1639ec414cb"
     }
    },
    "0de899811c8546daa89a38e103805506": {
     "model_module": "@jupyter-widgets/base",
     "model_module_version": "1.2.0",
     "model_name": "LayoutModel",
     "state": {
      "_model_module": "@jupyter-widgets/base",
      "_model_module_version": "1.2.0",
      "_model_name": "LayoutModel",
      "_view_count": null,
      "_view_module": "@jupyter-widgets/base",
      "_view_module_version": "1.2.0",
      "_view_name": "LayoutView",
      "align_content": null,
      "align_items": null,
      "align_self": null,
      "border": null,
      "bottom": null,
      "display": null,
      "flex": null,
      "flex_flow": null,
      "grid_area": null,
      "grid_auto_columns": null,
      "grid_auto_flow": null,
      "grid_auto_rows": null,
      "grid_column": null,
      "grid_gap": null,
      "grid_row": null,
      "grid_template_areas": null,
      "grid_template_columns": null,
      "grid_template_rows": null,
      "height": null,
      "justify_content": null,
      "justify_items": null,
      "left": null,
      "margin": null,
      "max_height": null,
      "max_width": null,
      "min_height": null,
      "min_width": null,
      "object_fit": null,
      "object_position": null,
      "order": null,
      "overflow": null,
      "overflow_x": null,
      "overflow_y": null,
      "padding": null,
      "right": null,
      "top": null,
      "visibility": null,
      "width": null
     }
    },
    "11f7e6a5c2f046639a059d9935f01f3c": {
     "model_module": "@jupyter-widgets/controls",
     "model_module_version": "1.5.0",
     "model_name": "HBoxModel",
     "state": {
      "_dom_classes": [],
      "_model_module": "@jupyter-widgets/controls",
      "_model_module_version": "1.5.0",
      "_model_name": "HBoxModel",
      "_view_count": null,
      "_view_module": "@jupyter-widgets/controls",
      "_view_module_version": "1.5.0",
      "_view_name": "HBoxView",
      "box_style": "",
      "children": [
       "IPY_MODEL_0627c711e976465ea6188dd3a1aa00f1",
       "IPY_MODEL_e695283e0e0b43fcbc2b89c203156a8e",
       "IPY_MODEL_44cc838f988341acac90c423264d3eaf"
      ],
      "layout": "IPY_MODEL_a346477670d54bf3aa29f13402b7cadb"
     }
    },
    "126ba60ab3144e48881e87442cb0cecb": {
     "model_module": "@jupyter-widgets/base",
     "model_module_version": "1.2.0",
     "model_name": "LayoutModel",
     "state": {
      "_model_module": "@jupyter-widgets/base",
      "_model_module_version": "1.2.0",
      "_model_name": "LayoutModel",
      "_view_count": null,
      "_view_module": "@jupyter-widgets/base",
      "_view_module_version": "1.2.0",
      "_view_name": "LayoutView",
      "align_content": null,
      "align_items": null,
      "align_self": null,
      "border": null,
      "bottom": null,
      "display": null,
      "flex": null,
      "flex_flow": null,
      "grid_area": null,
      "grid_auto_columns": null,
      "grid_auto_flow": null,
      "grid_auto_rows": null,
      "grid_column": null,
      "grid_gap": null,
      "grid_row": null,
      "grid_template_areas": null,
      "grid_template_columns": null,
      "grid_template_rows": null,
      "height": null,
      "justify_content": null,
      "justify_items": null,
      "left": null,
      "margin": null,
      "max_height": null,
      "max_width": null,
      "min_height": null,
      "min_width": null,
      "object_fit": null,
      "object_position": null,
      "order": null,
      "overflow": null,
      "overflow_x": null,
      "overflow_y": null,
      "padding": null,
      "right": null,
      "top": null,
      "visibility": null,
      "width": null
     }
    },
    "1afcd5ed55dc401798e8d8a39a6063a0": {
     "model_module": "@jupyter-widgets/base",
     "model_module_version": "1.2.0",
     "model_name": "LayoutModel",
     "state": {
      "_model_module": "@jupyter-widgets/base",
      "_model_module_version": "1.2.0",
      "_model_name": "LayoutModel",
      "_view_count": null,
      "_view_module": "@jupyter-widgets/base",
      "_view_module_version": "1.2.0",
      "_view_name": "LayoutView",
      "align_content": null,
      "align_items": null,
      "align_self": null,
      "border": null,
      "bottom": null,
      "display": null,
      "flex": null,
      "flex_flow": null,
      "grid_area": null,
      "grid_auto_columns": null,
      "grid_auto_flow": null,
      "grid_auto_rows": null,
      "grid_column": null,
      "grid_gap": null,
      "grid_row": null,
      "grid_template_areas": null,
      "grid_template_columns": null,
      "grid_template_rows": null,
      "height": null,
      "justify_content": null,
      "justify_items": null,
      "left": null,
      "margin": null,
      "max_height": null,
      "max_width": null,
      "min_height": null,
      "min_width": null,
      "object_fit": null,
      "object_position": null,
      "order": null,
      "overflow": null,
      "overflow_x": null,
      "overflow_y": null,
      "padding": null,
      "right": null,
      "top": null,
      "visibility": null,
      "width": null
     }
    },
    "1b0a3850011342e783a59fe7762c0070": {
     "model_module": "@jupyter-widgets/base",
     "model_module_version": "1.2.0",
     "model_name": "LayoutModel",
     "state": {
      "_model_module": "@jupyter-widgets/base",
      "_model_module_version": "1.2.0",
      "_model_name": "LayoutModel",
      "_view_count": null,
      "_view_module": "@jupyter-widgets/base",
      "_view_module_version": "1.2.0",
      "_view_name": "LayoutView",
      "align_content": null,
      "align_items": null,
      "align_self": null,
      "border": null,
      "bottom": null,
      "display": null,
      "flex": null,
      "flex_flow": null,
      "grid_area": null,
      "grid_auto_columns": null,
      "grid_auto_flow": null,
      "grid_auto_rows": null,
      "grid_column": null,
      "grid_gap": null,
      "grid_row": null,
      "grid_template_areas": null,
      "grid_template_columns": null,
      "grid_template_rows": null,
      "height": null,
      "justify_content": null,
      "justify_items": null,
      "left": null,
      "margin": null,
      "max_height": null,
      "max_width": null,
      "min_height": null,
      "min_width": null,
      "object_fit": null,
      "object_position": null,
      "order": null,
      "overflow": null,
      "overflow_x": null,
      "overflow_y": null,
      "padding": null,
      "right": null,
      "top": null,
      "visibility": null,
      "width": null
     }
    },
    "1d58ed79ba3c4750b0db062834853e83": {
     "model_module": "@jupyter-widgets/controls",
     "model_module_version": "1.5.0",
     "model_name": "HBoxModel",
     "state": {
      "_dom_classes": [],
      "_model_module": "@jupyter-widgets/controls",
      "_model_module_version": "1.5.0",
      "_model_name": "HBoxModel",
      "_view_count": null,
      "_view_module": "@jupyter-widgets/controls",
      "_view_module_version": "1.5.0",
      "_view_name": "HBoxView",
      "box_style": "",
      "children": [
       "IPY_MODEL_da29d1cc5aa74ccbac1915104e651234",
       "IPY_MODEL_4112dfc5bc624d46a0b9d0a12a2f7922",
       "IPY_MODEL_c8a3a61db6934fae88851517ed3f7b16"
      ],
      "layout": "IPY_MODEL_55bcb79d5e134ba59c5a1c748adf6652"
     }
    },
    "1ff82f780342408cac44cfa811fc694e": {
     "model_module": "@jupyter-widgets/base",
     "model_module_version": "1.2.0",
     "model_name": "LayoutModel",
     "state": {
      "_model_module": "@jupyter-widgets/base",
      "_model_module_version": "1.2.0",
      "_model_name": "LayoutModel",
      "_view_count": null,
      "_view_module": "@jupyter-widgets/base",
      "_view_module_version": "1.2.0",
      "_view_name": "LayoutView",
      "align_content": null,
      "align_items": null,
      "align_self": null,
      "border": null,
      "bottom": null,
      "display": null,
      "flex": null,
      "flex_flow": null,
      "grid_area": null,
      "grid_auto_columns": null,
      "grid_auto_flow": null,
      "grid_auto_rows": null,
      "grid_column": null,
      "grid_gap": null,
      "grid_row": null,
      "grid_template_areas": null,
      "grid_template_columns": null,
      "grid_template_rows": null,
      "height": null,
      "justify_content": null,
      "justify_items": null,
      "left": null,
      "margin": null,
      "max_height": null,
      "max_width": null,
      "min_height": null,
      "min_width": null,
      "object_fit": null,
      "object_position": null,
      "order": null,
      "overflow": null,
      "overflow_x": null,
      "overflow_y": null,
      "padding": null,
      "right": null,
      "top": null,
      "visibility": null,
      "width": null
     }
    },
    "297122978d224d67a9f7066fd78c2461": {
     "model_module": "@jupyter-widgets/base",
     "model_module_version": "1.2.0",
     "model_name": "LayoutModel",
     "state": {
      "_model_module": "@jupyter-widgets/base",
      "_model_module_version": "1.2.0",
      "_model_name": "LayoutModel",
      "_view_count": null,
      "_view_module": "@jupyter-widgets/base",
      "_view_module_version": "1.2.0",
      "_view_name": "LayoutView",
      "align_content": null,
      "align_items": null,
      "align_self": null,
      "border": null,
      "bottom": null,
      "display": null,
      "flex": null,
      "flex_flow": null,
      "grid_area": null,
      "grid_auto_columns": null,
      "grid_auto_flow": null,
      "grid_auto_rows": null,
      "grid_column": null,
      "grid_gap": null,
      "grid_row": null,
      "grid_template_areas": null,
      "grid_template_columns": null,
      "grid_template_rows": null,
      "height": null,
      "justify_content": null,
      "justify_items": null,
      "left": null,
      "margin": null,
      "max_height": null,
      "max_width": null,
      "min_height": null,
      "min_width": null,
      "object_fit": null,
      "object_position": null,
      "order": null,
      "overflow": null,
      "overflow_x": null,
      "overflow_y": null,
      "padding": null,
      "right": null,
      "top": null,
      "visibility": null,
      "width": null
     }
    },
    "2a5379c582dd4328bc0a5ded63e594ed": {
     "model_module": "@jupyter-widgets/controls",
     "model_module_version": "1.5.0",
     "model_name": "FloatProgressModel",
     "state": {
      "_dom_classes": [],
      "_model_module": "@jupyter-widgets/controls",
      "_model_module_version": "1.5.0",
      "_model_name": "FloatProgressModel",
      "_view_count": null,
      "_view_module": "@jupyter-widgets/controls",
      "_view_module_version": "1.5.0",
      "_view_name": "ProgressView",
      "bar_style": "success",
      "description": "",
      "description_tooltip": null,
      "layout": "IPY_MODEL_5cdcff9b443d44bdb469241729075521",
      "max": 2,
      "min": 0,
      "orientation": "horizontal",
      "style": "IPY_MODEL_d581aeb5add746a79be2150520856258",
      "value": 2
     }
    },
    "2a6bd74b5b764d098084c41f943598e4": {
     "model_module": "@jupyter-widgets/base",
     "model_module_version": "1.2.0",
     "model_name": "LayoutModel",
     "state": {
      "_model_module": "@jupyter-widgets/base",
      "_model_module_version": "1.2.0",
      "_model_name": "LayoutModel",
      "_view_count": null,
      "_view_module": "@jupyter-widgets/base",
      "_view_module_version": "1.2.0",
      "_view_name": "LayoutView",
      "align_content": null,
      "align_items": null,
      "align_self": null,
      "border": null,
      "bottom": null,
      "display": null,
      "flex": null,
      "flex_flow": null,
      "grid_area": null,
      "grid_auto_columns": null,
      "grid_auto_flow": null,
      "grid_auto_rows": null,
      "grid_column": null,
      "grid_gap": null,
      "grid_row": null,
      "grid_template_areas": null,
      "grid_template_columns": null,
      "grid_template_rows": null,
      "height": null,
      "justify_content": null,
      "justify_items": null,
      "left": null,
      "margin": null,
      "max_height": null,
      "max_width": null,
      "min_height": null,
      "min_width": null,
      "object_fit": null,
      "object_position": null,
      "order": null,
      "overflow": null,
      "overflow_x": null,
      "overflow_y": null,
      "padding": null,
      "right": null,
      "top": null,
      "visibility": null,
      "width": null
     }
    },
    "2b7a2ca9249e4e62a0e1b701be42b64a": {
     "model_module": "@jupyter-widgets/base",
     "model_module_version": "1.2.0",
     "model_name": "LayoutModel",
     "state": {
      "_model_module": "@jupyter-widgets/base",
      "_model_module_version": "1.2.0",
      "_model_name": "LayoutModel",
      "_view_count": null,
      "_view_module": "@jupyter-widgets/base",
      "_view_module_version": "1.2.0",
      "_view_name": "LayoutView",
      "align_content": null,
      "align_items": null,
      "align_self": null,
      "border": null,
      "bottom": null,
      "display": null,
      "flex": null,
      "flex_flow": null,
      "grid_area": null,
      "grid_auto_columns": null,
      "grid_auto_flow": null,
      "grid_auto_rows": null,
      "grid_column": null,
      "grid_gap": null,
      "grid_row": null,
      "grid_template_areas": null,
      "grid_template_columns": null,
      "grid_template_rows": null,
      "height": null,
      "justify_content": null,
      "justify_items": null,
      "left": null,
      "margin": null,
      "max_height": null,
      "max_width": null,
      "min_height": null,
      "min_width": null,
      "object_fit": null,
      "object_position": null,
      "order": null,
      "overflow": null,
      "overflow_x": null,
      "overflow_y": null,
      "padding": null,
      "right": null,
      "top": null,
      "visibility": null,
      "width": null
     }
    },
    "2d401f88d57d44ecb8b8bcc192fa069f": {
     "model_module": "@jupyter-widgets/controls",
     "model_module_version": "1.5.0",
     "model_name": "ProgressStyleModel",
     "state": {
      "_model_module": "@jupyter-widgets/controls",
      "_model_module_version": "1.5.0",
      "_model_name": "ProgressStyleModel",
      "_view_count": null,
      "_view_module": "@jupyter-widgets/base",
      "_view_module_version": "1.2.0",
      "_view_name": "StyleView",
      "bar_color": null,
      "description_width": ""
     }
    },
    "30be44b72cb341aeb51d7696950de6c0": {
     "model_module": "@jupyter-widgets/controls",
     "model_module_version": "1.5.0",
     "model_name": "HBoxModel",
     "state": {
      "_dom_classes": [],
      "_model_module": "@jupyter-widgets/controls",
      "_model_module_version": "1.5.0",
      "_model_name": "HBoxModel",
      "_view_count": null,
      "_view_module": "@jupyter-widgets/controls",
      "_view_module_version": "1.5.0",
      "_view_name": "HBoxView",
      "box_style": "",
      "children": [
       "IPY_MODEL_9101b1b6032e486c90e473313705fe3e",
       "IPY_MODEL_9b46de3f76fa45a2a90f86f5c75667a1",
       "IPY_MODEL_ea53fa1e60694114bb260fb93c639ced"
      ],
      "layout": "IPY_MODEL_e9688c4a85594f3db1ef81f14260af23"
     }
    },
    "3307ff49c8bf41b3b8e5c93efad23486": {
     "model_module": "@jupyter-widgets/base",
     "model_module_version": "1.2.0",
     "model_name": "LayoutModel",
     "state": {
      "_model_module": "@jupyter-widgets/base",
      "_model_module_version": "1.2.0",
      "_model_name": "LayoutModel",
      "_view_count": null,
      "_view_module": "@jupyter-widgets/base",
      "_view_module_version": "1.2.0",
      "_view_name": "LayoutView",
      "align_content": null,
      "align_items": null,
      "align_self": null,
      "border": null,
      "bottom": null,
      "display": null,
      "flex": null,
      "flex_flow": null,
      "grid_area": null,
      "grid_auto_columns": null,
      "grid_auto_flow": null,
      "grid_auto_rows": null,
      "grid_column": null,
      "grid_gap": null,
      "grid_row": null,
      "grid_template_areas": null,
      "grid_template_columns": null,
      "grid_template_rows": null,
      "height": null,
      "justify_content": null,
      "justify_items": null,
      "left": null,
      "margin": null,
      "max_height": null,
      "max_width": null,
      "min_height": null,
      "min_width": null,
      "object_fit": null,
      "object_position": null,
      "order": null,
      "overflow": null,
      "overflow_x": null,
      "overflow_y": null,
      "padding": null,
      "right": null,
      "top": null,
      "visibility": null,
      "width": null
     }
    },
    "36fcda38ed514314b570cb19d41986d4": {
     "model_module": "@jupyter-widgets/controls",
     "model_module_version": "1.5.0",
     "model_name": "DescriptionStyleModel",
     "state": {
      "_model_module": "@jupyter-widgets/controls",
      "_model_module_version": "1.5.0",
      "_model_name": "DescriptionStyleModel",
      "_view_count": null,
      "_view_module": "@jupyter-widgets/base",
      "_view_module_version": "1.2.0",
      "_view_name": "StyleView",
      "description_width": ""
     }
    },
    "3832438b9b4b4c699c74541daac2962d": {
     "model_module": "@jupyter-widgets/controls",
     "model_module_version": "1.5.0",
     "model_name": "DescriptionStyleModel",
     "state": {
      "_model_module": "@jupyter-widgets/controls",
      "_model_module_version": "1.5.0",
      "_model_name": "DescriptionStyleModel",
      "_view_count": null,
      "_view_module": "@jupyter-widgets/base",
      "_view_module_version": "1.2.0",
      "_view_name": "StyleView",
      "description_width": ""
     }
    },
    "396d97a964aa483c9a6d1b6587f7e20f": {
     "model_module": "@jupyter-widgets/controls",
     "model_module_version": "1.5.0",
     "model_name": "DescriptionStyleModel",
     "state": {
      "_model_module": "@jupyter-widgets/controls",
      "_model_module_version": "1.5.0",
      "_model_name": "DescriptionStyleModel",
      "_view_count": null,
      "_view_module": "@jupyter-widgets/base",
      "_view_module_version": "1.2.0",
      "_view_name": "StyleView",
      "description_width": ""
     }
    },
    "39fc725ff6c14f3db29ae30485616b90": {
     "model_module": "@jupyter-widgets/base",
     "model_module_version": "1.2.0",
     "model_name": "LayoutModel",
     "state": {
      "_model_module": "@jupyter-widgets/base",
      "_model_module_version": "1.2.0",
      "_model_name": "LayoutModel",
      "_view_count": null,
      "_view_module": "@jupyter-widgets/base",
      "_view_module_version": "1.2.0",
      "_view_name": "LayoutView",
      "align_content": null,
      "align_items": null,
      "align_self": null,
      "border": null,
      "bottom": null,
      "display": null,
      "flex": null,
      "flex_flow": null,
      "grid_area": null,
      "grid_auto_columns": null,
      "grid_auto_flow": null,
      "grid_auto_rows": null,
      "grid_column": null,
      "grid_gap": null,
      "grid_row": null,
      "grid_template_areas": null,
      "grid_template_columns": null,
      "grid_template_rows": null,
      "height": null,
      "justify_content": null,
      "justify_items": null,
      "left": null,
      "margin": null,
      "max_height": null,
      "max_width": null,
      "min_height": null,
      "min_width": null,
      "object_fit": null,
      "object_position": null,
      "order": null,
      "overflow": null,
      "overflow_x": null,
      "overflow_y": null,
      "padding": null,
      "right": null,
      "top": null,
      "visibility": null,
      "width": null
     }
    },
    "3b7b2f0df350435f9e46a26af996f1d1": {
     "model_module": "@jupyter-widgets/controls",
     "model_module_version": "1.5.0",
     "model_name": "FloatProgressModel",
     "state": {
      "_dom_classes": [],
      "_model_module": "@jupyter-widgets/controls",
      "_model_module_version": "1.5.0",
      "_model_name": "FloatProgressModel",
      "_view_count": null,
      "_view_module": "@jupyter-widgets/controls",
      "_view_module_version": "1.5.0",
      "_view_name": "ProgressView",
      "bar_style": "success",
      "description": "",
      "description_tooltip": null,
      "layout": "IPY_MODEL_1afcd5ed55dc401798e8d8a39a6063a0",
      "max": 28,
      "min": 0,
      "orientation": "horizontal",
      "style": "IPY_MODEL_488ed6de564d4bdc96c0cbaf0c572cef",
      "value": 28
     }
    },
    "4112dfc5bc624d46a0b9d0a12a2f7922": {
     "model_module": "@jupyter-widgets/controls",
     "model_module_version": "1.5.0",
     "model_name": "FloatProgressModel",
     "state": {
      "_dom_classes": [],
      "_model_module": "@jupyter-widgets/controls",
      "_model_module_version": "1.5.0",
      "_model_name": "FloatProgressModel",
      "_view_count": null,
      "_view_module": "@jupyter-widgets/controls",
      "_view_module_version": "1.5.0",
      "_view_name": "ProgressView",
      "bar_style": "success",
      "description": "",
      "description_tooltip": null,
      "layout": "IPY_MODEL_f5b542e4da7b4dca9af310e4ea959254",
      "max": 4,
      "min": 0,
      "orientation": "horizontal",
      "style": "IPY_MODEL_4f247ae7793048e79bf4496b9d7a59ae",
      "value": 4
     }
    },
    "43183520abd8444e8a69a1639ec414cb": {
     "model_module": "@jupyter-widgets/base",
     "model_module_version": "1.2.0",
     "model_name": "LayoutModel",
     "state": {
      "_model_module": "@jupyter-widgets/base",
      "_model_module_version": "1.2.0",
      "_model_name": "LayoutModel",
      "_view_count": null,
      "_view_module": "@jupyter-widgets/base",
      "_view_module_version": "1.2.0",
      "_view_name": "LayoutView",
      "align_content": null,
      "align_items": null,
      "align_self": null,
      "border": null,
      "bottom": null,
      "display": null,
      "flex": null,
      "flex_flow": null,
      "grid_area": null,
      "grid_auto_columns": null,
      "grid_auto_flow": null,
      "grid_auto_rows": null,
      "grid_column": null,
      "grid_gap": null,
      "grid_row": null,
      "grid_template_areas": null,
      "grid_template_columns": null,
      "grid_template_rows": null,
      "height": null,
      "justify_content": null,
      "justify_items": null,
      "left": null,
      "margin": null,
      "max_height": null,
      "max_width": null,
      "min_height": null,
      "min_width": null,
      "object_fit": null,
      "object_position": null,
      "order": null,
      "overflow": null,
      "overflow_x": null,
      "overflow_y": null,
      "padding": null,
      "right": null,
      "top": null,
      "visibility": null,
      "width": null
     }
    },
    "44cc838f988341acac90c423264d3eaf": {
     "model_module": "@jupyter-widgets/controls",
     "model_module_version": "1.5.0",
     "model_name": "HTMLModel",
     "state": {
      "_dom_classes": [],
      "_model_module": "@jupyter-widgets/controls",
      "_model_module_version": "1.5.0",
      "_model_name": "HTMLModel",
      "_view_count": null,
      "_view_module": "@jupyter-widgets/controls",
      "_view_module_version": "1.5.0",
      "_view_name": "HTMLView",
      "description": "",
      "description_tooltip": null,
      "layout": "IPY_MODEL_c7d034d63fb048d386e7921c72d7c202",
      "placeholder": "​",
      "style": "IPY_MODEL_e3595bbe3aca46918a79c668e3b50446",
      "value": " 570/570 [00:00&lt;00:00, 16.9kB/s]"
     }
    },
    "45866eea5fdb4779bbc87da67f79a038": {
     "model_module": "@jupyter-widgets/controls",
     "model_module_version": "1.5.0",
     "model_name": "ProgressStyleModel",
     "state": {
      "_model_module": "@jupyter-widgets/controls",
      "_model_module_version": "1.5.0",
      "_model_name": "ProgressStyleModel",
      "_view_count": null,
      "_view_module": "@jupyter-widgets/base",
      "_view_module_version": "1.2.0",
      "_view_name": "StyleView",
      "bar_color": null,
      "description_width": ""
     }
    },
    "46b8bc6bada942eab45b37599a90374e": {
     "model_module": "@jupyter-widgets/controls",
     "model_module_version": "1.5.0",
     "model_name": "ProgressStyleModel",
     "state": {
      "_model_module": "@jupyter-widgets/controls",
      "_model_module_version": "1.5.0",
      "_model_name": "ProgressStyleModel",
      "_view_count": null,
      "_view_module": "@jupyter-widgets/base",
      "_view_module_version": "1.2.0",
      "_view_name": "StyleView",
      "bar_color": null,
      "description_width": ""
     }
    },
    "488ed6de564d4bdc96c0cbaf0c572cef": {
     "model_module": "@jupyter-widgets/controls",
     "model_module_version": "1.5.0",
     "model_name": "ProgressStyleModel",
     "state": {
      "_model_module": "@jupyter-widgets/controls",
      "_model_module_version": "1.5.0",
      "_model_name": "ProgressStyleModel",
      "_view_count": null,
      "_view_module": "@jupyter-widgets/base",
      "_view_module_version": "1.2.0",
      "_view_name": "StyleView",
      "bar_color": null,
      "description_width": ""
     }
    },
    "4aa0450bd39840e8bbc707fa18de6e22": {
     "model_module": "@jupyter-widgets/base",
     "model_module_version": "1.2.0",
     "model_name": "LayoutModel",
     "state": {
      "_model_module": "@jupyter-widgets/base",
      "_model_module_version": "1.2.0",
      "_model_name": "LayoutModel",
      "_view_count": null,
      "_view_module": "@jupyter-widgets/base",
      "_view_module_version": "1.2.0",
      "_view_name": "LayoutView",
      "align_content": null,
      "align_items": null,
      "align_self": null,
      "border": null,
      "bottom": null,
      "display": null,
      "flex": null,
      "flex_flow": null,
      "grid_area": null,
      "grid_auto_columns": null,
      "grid_auto_flow": null,
      "grid_auto_rows": null,
      "grid_column": null,
      "grid_gap": null,
      "grid_row": null,
      "grid_template_areas": null,
      "grid_template_columns": null,
      "grid_template_rows": null,
      "height": null,
      "justify_content": null,
      "justify_items": null,
      "left": null,
      "margin": null,
      "max_height": null,
      "max_width": null,
      "min_height": null,
      "min_width": null,
      "object_fit": null,
      "object_position": null,
      "order": null,
      "overflow": null,
      "overflow_x": null,
      "overflow_y": null,
      "padding": null,
      "right": null,
      "top": null,
      "visibility": null,
      "width": null
     }
    },
    "4f247ae7793048e79bf4496b9d7a59ae": {
     "model_module": "@jupyter-widgets/controls",
     "model_module_version": "1.5.0",
     "model_name": "ProgressStyleModel",
     "state": {
      "_model_module": "@jupyter-widgets/controls",
      "_model_module_version": "1.5.0",
      "_model_name": "ProgressStyleModel",
      "_view_count": null,
      "_view_module": "@jupyter-widgets/base",
      "_view_module_version": "1.2.0",
      "_view_name": "StyleView",
      "bar_color": null,
      "description_width": ""
     }
    },
    "50e8435da4dc49699d6a628ab06b7954": {
     "model_module": "@jupyter-widgets/base",
     "model_module_version": "1.2.0",
     "model_name": "LayoutModel",
     "state": {
      "_model_module": "@jupyter-widgets/base",
      "_model_module_version": "1.2.0",
      "_model_name": "LayoutModel",
      "_view_count": null,
      "_view_module": "@jupyter-widgets/base",
      "_view_module_version": "1.2.0",
      "_view_name": "LayoutView",
      "align_content": null,
      "align_items": null,
      "align_self": null,
      "border": null,
      "bottom": null,
      "display": null,
      "flex": null,
      "flex_flow": null,
      "grid_area": null,
      "grid_auto_columns": null,
      "grid_auto_flow": null,
      "grid_auto_rows": null,
      "grid_column": null,
      "grid_gap": null,
      "grid_row": null,
      "grid_template_areas": null,
      "grid_template_columns": null,
      "grid_template_rows": null,
      "height": null,
      "justify_content": null,
      "justify_items": null,
      "left": null,
      "margin": null,
      "max_height": null,
      "max_width": null,
      "min_height": null,
      "min_width": null,
      "object_fit": null,
      "object_position": null,
      "order": null,
      "overflow": null,
      "overflow_x": null,
      "overflow_y": null,
      "padding": null,
      "right": null,
      "top": null,
      "visibility": null,
      "width": null
     }
    },
    "528be2b480a942559779764ea524979d": {
     "model_module": "@jupyter-widgets/base",
     "model_module_version": "1.2.0",
     "model_name": "LayoutModel",
     "state": {
      "_model_module": "@jupyter-widgets/base",
      "_model_module_version": "1.2.0",
      "_model_name": "LayoutModel",
      "_view_count": null,
      "_view_module": "@jupyter-widgets/base",
      "_view_module_version": "1.2.0",
      "_view_name": "LayoutView",
      "align_content": null,
      "align_items": null,
      "align_self": null,
      "border": null,
      "bottom": null,
      "display": null,
      "flex": null,
      "flex_flow": null,
      "grid_area": null,
      "grid_auto_columns": null,
      "grid_auto_flow": null,
      "grid_auto_rows": null,
      "grid_column": null,
      "grid_gap": null,
      "grid_row": null,
      "grid_template_areas": null,
      "grid_template_columns": null,
      "grid_template_rows": null,
      "height": null,
      "justify_content": null,
      "justify_items": null,
      "left": null,
      "margin": null,
      "max_height": null,
      "max_width": null,
      "min_height": null,
      "min_width": null,
      "object_fit": null,
      "object_position": null,
      "order": null,
      "overflow": null,
      "overflow_x": null,
      "overflow_y": null,
      "padding": null,
      "right": null,
      "top": null,
      "visibility": null,
      "width": null
     }
    },
    "52c85f89b42a43b08172ea1ee904630d": {
     "model_module": "@jupyter-widgets/controls",
     "model_module_version": "1.5.0",
     "model_name": "DescriptionStyleModel",
     "state": {
      "_model_module": "@jupyter-widgets/controls",
      "_model_module_version": "1.5.0",
      "_model_name": "DescriptionStyleModel",
      "_view_count": null,
      "_view_module": "@jupyter-widgets/base",
      "_view_module_version": "1.2.0",
      "_view_name": "StyleView",
      "description_width": ""
     }
    },
    "52d8103f9de04842950b4a79652cbccc": {
     "model_module": "@jupyter-widgets/controls",
     "model_module_version": "1.5.0",
     "model_name": "ProgressStyleModel",
     "state": {
      "_model_module": "@jupyter-widgets/controls",
      "_model_module_version": "1.5.0",
      "_model_name": "ProgressStyleModel",
      "_view_count": null,
      "_view_module": "@jupyter-widgets/base",
      "_view_module_version": "1.2.0",
      "_view_name": "StyleView",
      "bar_color": null,
      "description_width": ""
     }
    },
    "5320946c43ad46b79e126626586b14ab": {
     "model_module": "@jupyter-widgets/base",
     "model_module_version": "1.2.0",
     "model_name": "LayoutModel",
     "state": {
      "_model_module": "@jupyter-widgets/base",
      "_model_module_version": "1.2.0",
      "_model_name": "LayoutModel",
      "_view_count": null,
      "_view_module": "@jupyter-widgets/base",
      "_view_module_version": "1.2.0",
      "_view_name": "LayoutView",
      "align_content": null,
      "align_items": null,
      "align_self": null,
      "border": null,
      "bottom": null,
      "display": null,
      "flex": null,
      "flex_flow": null,
      "grid_area": null,
      "grid_auto_columns": null,
      "grid_auto_flow": null,
      "grid_auto_rows": null,
      "grid_column": null,
      "grid_gap": null,
      "grid_row": null,
      "grid_template_areas": null,
      "grid_template_columns": null,
      "grid_template_rows": null,
      "height": null,
      "justify_content": null,
      "justify_items": null,
      "left": null,
      "margin": null,
      "max_height": null,
      "max_width": null,
      "min_height": null,
      "min_width": null,
      "object_fit": null,
      "object_position": null,
      "order": null,
      "overflow": null,
      "overflow_x": null,
      "overflow_y": null,
      "padding": null,
      "right": null,
      "top": null,
      "visibility": null,
      "width": null
     }
    },
    "55323f9e1021415bba71c765cb7eb4c1": {
     "model_module": "@jupyter-widgets/controls",
     "model_module_version": "1.5.0",
     "model_name": "HTMLModel",
     "state": {
      "_dom_classes": [],
      "_model_module": "@jupyter-widgets/controls",
      "_model_module_version": "1.5.0",
      "_model_name": "HTMLModel",
      "_view_count": null,
      "_view_module": "@jupyter-widgets/controls",
      "_view_module_version": "1.5.0",
      "_view_name": "HTMLView",
      "description": "",
      "description_tooltip": null,
      "layout": "IPY_MODEL_126ba60ab3144e48881e87442cb0cecb",
      "placeholder": "​",
      "style": "IPY_MODEL_396d97a964aa483c9a6d1b6587f7e20f",
      "value": " 420M/420M [00:11&lt;00:00, 45.9MB/s]"
     }
    },
    "55bcb79d5e134ba59c5a1c748adf6652": {
     "model_module": "@jupyter-widgets/base",
     "model_module_version": "1.2.0",
     "model_name": "LayoutModel",
     "state": {
      "_model_module": "@jupyter-widgets/base",
      "_model_module_version": "1.2.0",
      "_model_name": "LayoutModel",
      "_view_count": null,
      "_view_module": "@jupyter-widgets/base",
      "_view_module_version": "1.2.0",
      "_view_name": "LayoutView",
      "align_content": null,
      "align_items": null,
      "align_self": null,
      "border": null,
      "bottom": null,
      "display": null,
      "flex": null,
      "flex_flow": null,
      "grid_area": null,
      "grid_auto_columns": null,
      "grid_auto_flow": null,
      "grid_auto_rows": null,
      "grid_column": null,
      "grid_gap": null,
      "grid_row": null,
      "grid_template_areas": null,
      "grid_template_columns": null,
      "grid_template_rows": null,
      "height": null,
      "justify_content": null,
      "justify_items": null,
      "left": null,
      "margin": null,
      "max_height": null,
      "max_width": null,
      "min_height": null,
      "min_width": null,
      "object_fit": null,
      "object_position": null,
      "order": null,
      "overflow": null,
      "overflow_x": null,
      "overflow_y": null,
      "padding": null,
      "right": null,
      "top": null,
      "visibility": null,
      "width": null
     }
    },
    "582f8b658332462c906b12a8c90c8408": {
     "model_module": "@jupyter-widgets/controls",
     "model_module_version": "1.5.0",
     "model_name": "ProgressStyleModel",
     "state": {
      "_model_module": "@jupyter-widgets/controls",
      "_model_module_version": "1.5.0",
      "_model_name": "ProgressStyleModel",
      "_view_count": null,
      "_view_module": "@jupyter-widgets/base",
      "_view_module_version": "1.2.0",
      "_view_name": "StyleView",
      "bar_color": null,
      "description_width": ""
     }
    },
    "5cdcff9b443d44bdb469241729075521": {
     "model_module": "@jupyter-widgets/base",
     "model_module_version": "1.2.0",
     "model_name": "LayoutModel",
     "state": {
      "_model_module": "@jupyter-widgets/base",
      "_model_module_version": "1.2.0",
      "_model_name": "LayoutModel",
      "_view_count": null,
      "_view_module": "@jupyter-widgets/base",
      "_view_module_version": "1.2.0",
      "_view_name": "LayoutView",
      "align_content": null,
      "align_items": null,
      "align_self": null,
      "border": null,
      "bottom": null,
      "display": null,
      "flex": null,
      "flex_flow": null,
      "grid_area": null,
      "grid_auto_columns": null,
      "grid_auto_flow": null,
      "grid_auto_rows": null,
      "grid_column": null,
      "grid_gap": null,
      "grid_row": null,
      "grid_template_areas": null,
      "grid_template_columns": null,
      "grid_template_rows": null,
      "height": null,
      "justify_content": null,
      "justify_items": null,
      "left": null,
      "margin": null,
      "max_height": null,
      "max_width": null,
      "min_height": null,
      "min_width": null,
      "object_fit": null,
      "object_position": null,
      "order": null,
      "overflow": null,
      "overflow_x": null,
      "overflow_y": null,
      "padding": null,
      "right": null,
      "top": null,
      "visibility": null,
      "width": null
     }
    },
    "5db98804e4e34beb80d5ea551701b476": {
     "model_module": "@jupyter-widgets/controls",
     "model_module_version": "1.5.0",
     "model_name": "HTMLModel",
     "state": {
      "_dom_classes": [],
      "_model_module": "@jupyter-widgets/controls",
      "_model_module_version": "1.5.0",
      "_model_name": "HTMLModel",
      "_view_count": null,
      "_view_module": "@jupyter-widgets/controls",
      "_view_module_version": "1.5.0",
      "_view_name": "HTMLView",
      "description": "",
      "description_tooltip": null,
      "layout": "IPY_MODEL_2a6bd74b5b764d098084c41f943598e4",
      "placeholder": "​",
      "style": "IPY_MODEL_36fcda38ed514314b570cb19d41986d4",
      "value": " 455k/455k [00:00&lt;00:00, 945kB/s]"
     }
    },
    "6014a705c1cb49f9a1528afe7a79d5d9": {
     "model_module": "@jupyter-widgets/base",
     "model_module_version": "1.2.0",
     "model_name": "LayoutModel",
     "state": {
      "_model_module": "@jupyter-widgets/base",
      "_model_module_version": "1.2.0",
      "_model_name": "LayoutModel",
      "_view_count": null,
      "_view_module": "@jupyter-widgets/base",
      "_view_module_version": "1.2.0",
      "_view_name": "LayoutView",
      "align_content": null,
      "align_items": null,
      "align_self": null,
      "border": null,
      "bottom": null,
      "display": null,
      "flex": null,
      "flex_flow": null,
      "grid_area": null,
      "grid_auto_columns": null,
      "grid_auto_flow": null,
      "grid_auto_rows": null,
      "grid_column": null,
      "grid_gap": null,
      "grid_row": null,
      "grid_template_areas": null,
      "grid_template_columns": null,
      "grid_template_rows": null,
      "height": null,
      "justify_content": null,
      "justify_items": null,
      "left": null,
      "margin": null,
      "max_height": null,
      "max_width": null,
      "min_height": null,
      "min_width": null,
      "object_fit": null,
      "object_position": null,
      "order": null,
      "overflow": null,
      "overflow_x": null,
      "overflow_y": null,
      "padding": null,
      "right": null,
      "top": null,
      "visibility": null,
      "width": null
     }
    },
    "60fac97ce69c462980fb65426343f1cc": {
     "model_module": "@jupyter-widgets/controls",
     "model_module_version": "1.5.0",
     "model_name": "HTMLModel",
     "state": {
      "_dom_classes": [],
      "_model_module": "@jupyter-widgets/controls",
      "_model_module_version": "1.5.0",
      "_model_name": "HTMLModel",
      "_view_count": null,
      "_view_module": "@jupyter-widgets/controls",
      "_view_module_version": "1.5.0",
      "_view_name": "HTMLView",
      "description": "",
      "description_tooltip": null,
      "layout": "IPY_MODEL_67c741424204493893ee1a607b24dee6",
      "placeholder": "​",
      "style": "IPY_MODEL_6bf16aa8f2b1421da4895911eaed94c8",
      "value": " 10/10 [00:01&lt;00:00,  8.13ba/s]"
     }
    },
    "67c741424204493893ee1a607b24dee6": {
     "model_module": "@jupyter-widgets/base",
     "model_module_version": "1.2.0",
     "model_name": "LayoutModel",
     "state": {
      "_model_module": "@jupyter-widgets/base",
      "_model_module_version": "1.2.0",
      "_model_name": "LayoutModel",
      "_view_count": null,
      "_view_module": "@jupyter-widgets/base",
      "_view_module_version": "1.2.0",
      "_view_name": "LayoutView",
      "align_content": null,
      "align_items": null,
      "align_self": null,
      "border": null,
      "bottom": null,
      "display": null,
      "flex": null,
      "flex_flow": null,
      "grid_area": null,
      "grid_auto_columns": null,
      "grid_auto_flow": null,
      "grid_auto_rows": null,
      "grid_column": null,
      "grid_gap": null,
      "grid_row": null,
      "grid_template_areas": null,
      "grid_template_columns": null,
      "grid_template_rows": null,
      "height": null,
      "justify_content": null,
      "justify_items": null,
      "left": null,
      "margin": null,
      "max_height": null,
      "max_width": null,
      "min_height": null,
      "min_width": null,
      "object_fit": null,
      "object_position": null,
      "order": null,
      "overflow": null,
      "overflow_x": null,
      "overflow_y": null,
      "padding": null,
      "right": null,
      "top": null,
      "visibility": null,
      "width": null
     }
    },
    "6a0c518802444a5d9185527838382c15": {
     "model_module": "@jupyter-widgets/controls",
     "model_module_version": "1.5.0",
     "model_name": "ProgressStyleModel",
     "state": {
      "_model_module": "@jupyter-widgets/controls",
      "_model_module_version": "1.5.0",
      "_model_name": "ProgressStyleModel",
      "_view_count": null,
      "_view_module": "@jupyter-widgets/base",
      "_view_module_version": "1.2.0",
      "_view_name": "StyleView",
      "bar_color": null,
      "description_width": ""
     }
    },
    "6bf16aa8f2b1421da4895911eaed94c8": {
     "model_module": "@jupyter-widgets/controls",
     "model_module_version": "1.5.0",
     "model_name": "DescriptionStyleModel",
     "state": {
      "_model_module": "@jupyter-widgets/controls",
      "_model_module_version": "1.5.0",
      "_model_name": "DescriptionStyleModel",
      "_view_count": null,
      "_view_module": "@jupyter-widgets/base",
      "_view_module_version": "1.2.0",
      "_view_name": "StyleView",
      "description_width": ""
     }
    },
    "6bfff4aea74147a4b6b593e1f0ad78b5": {
     "model_module": "@jupyter-widgets/base",
     "model_module_version": "1.2.0",
     "model_name": "LayoutModel",
     "state": {
      "_model_module": "@jupyter-widgets/base",
      "_model_module_version": "1.2.0",
      "_model_name": "LayoutModel",
      "_view_count": null,
      "_view_module": "@jupyter-widgets/base",
      "_view_module_version": "1.2.0",
      "_view_name": "LayoutView",
      "align_content": null,
      "align_items": null,
      "align_self": null,
      "border": null,
      "bottom": null,
      "display": null,
      "flex": null,
      "flex_flow": null,
      "grid_area": null,
      "grid_auto_columns": null,
      "grid_auto_flow": null,
      "grid_auto_rows": null,
      "grid_column": null,
      "grid_gap": null,
      "grid_row": null,
      "grid_template_areas": null,
      "grid_template_columns": null,
      "grid_template_rows": null,
      "height": null,
      "justify_content": null,
      "justify_items": null,
      "left": null,
      "margin": null,
      "max_height": null,
      "max_width": null,
      "min_height": null,
      "min_width": null,
      "object_fit": null,
      "object_position": null,
      "order": null,
      "overflow": null,
      "overflow_x": null,
      "overflow_y": null,
      "padding": null,
      "right": null,
      "top": null,
      "visibility": null,
      "width": null
     }
    },
    "70428c8ee68a44efa349b724eeddb2b8": {
     "model_module": "@jupyter-widgets/base",
     "model_module_version": "1.2.0",
     "model_name": "LayoutModel",
     "state": {
      "_model_module": "@jupyter-widgets/base",
      "_model_module_version": "1.2.0",
      "_model_name": "LayoutModel",
      "_view_count": null,
      "_view_module": "@jupyter-widgets/base",
      "_view_module_version": "1.2.0",
      "_view_name": "LayoutView",
      "align_content": null,
      "align_items": null,
      "align_self": null,
      "border": null,
      "bottom": null,
      "display": null,
      "flex": null,
      "flex_flow": null,
      "grid_area": null,
      "grid_auto_columns": null,
      "grid_auto_flow": null,
      "grid_auto_rows": null,
      "grid_column": null,
      "grid_gap": null,
      "grid_row": null,
      "grid_template_areas": null,
      "grid_template_columns": null,
      "grid_template_rows": null,
      "height": null,
      "justify_content": null,
      "justify_items": null,
      "left": null,
      "margin": null,
      "max_height": null,
      "max_width": null,
      "min_height": null,
      "min_width": null,
      "object_fit": null,
      "object_position": null,
      "order": null,
      "overflow": null,
      "overflow_x": null,
      "overflow_y": null,
      "padding": null,
      "right": null,
      "top": null,
      "visibility": null,
      "width": null
     }
    },
    "71876819be9548039e4a59525622c6d6": {
     "model_module": "@jupyter-widgets/base",
     "model_module_version": "1.2.0",
     "model_name": "LayoutModel",
     "state": {
      "_model_module": "@jupyter-widgets/base",
      "_model_module_version": "1.2.0",
      "_model_name": "LayoutModel",
      "_view_count": null,
      "_view_module": "@jupyter-widgets/base",
      "_view_module_version": "1.2.0",
      "_view_name": "LayoutView",
      "align_content": null,
      "align_items": null,
      "align_self": null,
      "border": null,
      "bottom": null,
      "display": null,
      "flex": null,
      "flex_flow": null,
      "grid_area": null,
      "grid_auto_columns": null,
      "grid_auto_flow": null,
      "grid_auto_rows": null,
      "grid_column": null,
      "grid_gap": null,
      "grid_row": null,
      "grid_template_areas": null,
      "grid_template_columns": null,
      "grid_template_rows": null,
      "height": null,
      "justify_content": null,
      "justify_items": null,
      "left": null,
      "margin": null,
      "max_height": null,
      "max_width": null,
      "min_height": null,
      "min_width": null,
      "object_fit": null,
      "object_position": null,
      "order": null,
      "overflow": null,
      "overflow_x": null,
      "overflow_y": null,
      "padding": null,
      "right": null,
      "top": null,
      "visibility": null,
      "width": null
     }
    },
    "7345337ad8064f7783ed93b9ff3ccf76": {
     "model_module": "@jupyter-widgets/controls",
     "model_module_version": "1.5.0",
     "model_name": "HBoxModel",
     "state": {
      "_dom_classes": [],
      "_model_module": "@jupyter-widgets/controls",
      "_model_module_version": "1.5.0",
      "_model_name": "HBoxModel",
      "_view_count": null,
      "_view_module": "@jupyter-widgets/controls",
      "_view_module_version": "1.5.0",
      "_view_name": "HBoxView",
      "box_style": "",
      "children": [
       "IPY_MODEL_ac8ad39050f04668abd2796f9c631b43",
       "IPY_MODEL_2a5379c582dd4328bc0a5ded63e594ed",
       "IPY_MODEL_9dc358ce46dd4aa6a77d2bd481f44b13"
      ],
      "layout": "IPY_MODEL_fe9a7e283d694af79f72ef8b897e1bd1"
     }
    },
    "794a456f469c419b9029353e021dd672": {
     "model_module": "@jupyter-widgets/controls",
     "model_module_version": "1.5.0",
     "model_name": "HTMLModel",
     "state": {
      "_dom_classes": [],
      "_model_module": "@jupyter-widgets/controls",
      "_model_module_version": "1.5.0",
      "_model_name": "HTMLModel",
      "_view_count": null,
      "_view_module": "@jupyter-widgets/controls",
      "_view_module_version": "1.5.0",
      "_view_name": "HTMLView",
      "description": "",
      "description_tooltip": null,
      "layout": "IPY_MODEL_1ff82f780342408cac44cfa811fc694e",
      "placeholder": "​",
      "style": "IPY_MODEL_3832438b9b4b4c699c74541daac2962d",
      "value": " 226k/226k [00:00&lt;00:00, 834kB/s]"
     }
    },
    "796820462a9049fe91e59acca1f712e7": {
     "model_module": "@jupyter-widgets/controls",
     "model_module_version": "1.5.0",
     "model_name": "DescriptionStyleModel",
     "state": {
      "_model_module": "@jupyter-widgets/controls",
      "_model_module_version": "1.5.0",
      "_model_name": "DescriptionStyleModel",
      "_view_count": null,
      "_view_module": "@jupyter-widgets/base",
      "_view_module_version": "1.2.0",
      "_view_name": "StyleView",
      "description_width": ""
     }
    },
    "7f3eb795cf874678962223dc67362ed3": {
     "model_module": "@jupyter-widgets/base",
     "model_module_version": "1.2.0",
     "model_name": "LayoutModel",
     "state": {
      "_model_module": "@jupyter-widgets/base",
      "_model_module_version": "1.2.0",
      "_model_name": "LayoutModel",
      "_view_count": null,
      "_view_module": "@jupyter-widgets/base",
      "_view_module_version": "1.2.0",
      "_view_name": "LayoutView",
      "align_content": null,
      "align_items": null,
      "align_self": null,
      "border": null,
      "bottom": null,
      "display": null,
      "flex": null,
      "flex_flow": null,
      "grid_area": null,
      "grid_auto_columns": null,
      "grid_auto_flow": null,
      "grid_auto_rows": null,
      "grid_column": null,
      "grid_gap": null,
      "grid_row": null,
      "grid_template_areas": null,
      "grid_template_columns": null,
      "grid_template_rows": null,
      "height": null,
      "justify_content": null,
      "justify_items": null,
      "left": null,
      "margin": null,
      "max_height": null,
      "max_width": null,
      "min_height": null,
      "min_width": null,
      "object_fit": null,
      "object_position": null,
      "order": null,
      "overflow": null,
      "overflow_x": null,
      "overflow_y": null,
      "padding": null,
      "right": null,
      "top": null,
      "visibility": null,
      "width": null
     }
    },
    "7fe6a76b346c466a9c3a7b0b20de454b": {
     "model_module": "@jupyter-widgets/controls",
     "model_module_version": "1.5.0",
     "model_name": "DescriptionStyleModel",
     "state": {
      "_model_module": "@jupyter-widgets/controls",
      "_model_module_version": "1.5.0",
      "_model_name": "DescriptionStyleModel",
      "_view_count": null,
      "_view_module": "@jupyter-widgets/base",
      "_view_module_version": "1.2.0",
      "_view_name": "StyleView",
      "description_width": ""
     }
    },
    "8222aab48367496f8a4aa0a9b4507a0b": {
     "model_module": "@jupyter-widgets/controls",
     "model_module_version": "1.5.0",
     "model_name": "FloatProgressModel",
     "state": {
      "_dom_classes": [],
      "_model_module": "@jupyter-widgets/controls",
      "_model_module_version": "1.5.0",
      "_model_name": "FloatProgressModel",
      "_view_count": null,
      "_view_module": "@jupyter-widgets/controls",
      "_view_module_version": "1.5.0",
      "_view_name": "ProgressView",
      "bar_style": "success",
      "description": "",
      "description_tooltip": null,
      "layout": "IPY_MODEL_c0a4b6cfa426441ea7b3f9a6cf9f442e",
      "max": 466062,
      "min": 0,
      "orientation": "horizontal",
      "style": "IPY_MODEL_b2c2b40a62e444149361fc9952dbe74b",
      "value": 466062
     }
    },
    "82ffd4e5eb0d474e9b9ffe6fdc451199": {
     "model_module": "@jupyter-widgets/controls",
     "model_module_version": "1.5.0",
     "model_name": "DescriptionStyleModel",
     "state": {
      "_model_module": "@jupyter-widgets/controls",
      "_model_module_version": "1.5.0",
      "_model_name": "DescriptionStyleModel",
      "_view_count": null,
      "_view_module": "@jupyter-widgets/base",
      "_view_module_version": "1.2.0",
      "_view_name": "StyleView",
      "description_width": ""
     }
    },
    "84d5b2ea940a4f919386aaf8b7e31732": {
     "model_module": "@jupyter-widgets/base",
     "model_module_version": "1.2.0",
     "model_name": "LayoutModel",
     "state": {
      "_model_module": "@jupyter-widgets/base",
      "_model_module_version": "1.2.0",
      "_model_name": "LayoutModel",
      "_view_count": null,
      "_view_module": "@jupyter-widgets/base",
      "_view_module_version": "1.2.0",
      "_view_name": "LayoutView",
      "align_content": null,
      "align_items": null,
      "align_self": null,
      "border": null,
      "bottom": null,
      "display": null,
      "flex": null,
      "flex_flow": null,
      "grid_area": null,
      "grid_auto_columns": null,
      "grid_auto_flow": null,
      "grid_auto_rows": null,
      "grid_column": null,
      "grid_gap": null,
      "grid_row": null,
      "grid_template_areas": null,
      "grid_template_columns": null,
      "grid_template_rows": null,
      "height": null,
      "justify_content": null,
      "justify_items": null,
      "left": null,
      "margin": null,
      "max_height": null,
      "max_width": null,
      "min_height": null,
      "min_width": null,
      "object_fit": null,
      "object_position": null,
      "order": null,
      "overflow": null,
      "overflow_x": null,
      "overflow_y": null,
      "padding": null,
      "right": null,
      "top": null,
      "visibility": null,
      "width": null
     }
    },
    "876e83e1f8674fce88038206e63b6388": {
     "model_module": "@jupyter-widgets/controls",
     "model_module_version": "1.5.0",
     "model_name": "FloatProgressModel",
     "state": {
      "_dom_classes": [],
      "_model_module": "@jupyter-widgets/controls",
      "_model_module_version": "1.5.0",
      "_model_name": "FloatProgressModel",
      "_view_count": null,
      "_view_module": "@jupyter-widgets/controls",
      "_view_module_version": "1.5.0",
      "_view_name": "ProgressView",
      "bar_style": "success",
      "description": "",
      "description_tooltip": null,
      "layout": "IPY_MODEL_6bfff4aea74147a4b6b593e1f0ad78b5",
      "max": 440473133,
      "min": 0,
      "orientation": "horizontal",
      "style": "IPY_MODEL_52d8103f9de04842950b4a79652cbccc",
      "value": 440473133
     }
    },
    "8bde1425a6074656a4364ac754cc4cab": {
     "model_module": "@jupyter-widgets/controls",
     "model_module_version": "1.5.0",
     "model_name": "HTMLModel",
     "state": {
      "_dom_classes": [],
      "_model_module": "@jupyter-widgets/controls",
      "_model_module_version": "1.5.0",
      "_model_name": "HTMLModel",
      "_view_count": null,
      "_view_module": "@jupyter-widgets/controls",
      "_view_module_version": "1.5.0",
      "_view_name": "HTMLView",
      "description": "",
      "description_tooltip": null,
      "layout": "IPY_MODEL_39fc725ff6c14f3db29ae30485616b90",
      "placeholder": "​",
      "style": "IPY_MODEL_82ffd4e5eb0d474e9b9ffe6fdc451199",
      "value": "Downloading: 100%"
     }
    },
    "8e232e5617524153828a3b2546ee5f50": {
     "model_module": "@jupyter-widgets/base",
     "model_module_version": "1.2.0",
     "model_name": "LayoutModel",
     "state": {
      "_model_module": "@jupyter-widgets/base",
      "_model_module_version": "1.2.0",
      "_model_name": "LayoutModel",
      "_view_count": null,
      "_view_module": "@jupyter-widgets/base",
      "_view_module_version": "1.2.0",
      "_view_name": "LayoutView",
      "align_content": null,
      "align_items": null,
      "align_self": null,
      "border": null,
      "bottom": null,
      "display": null,
      "flex": null,
      "flex_flow": null,
      "grid_area": null,
      "grid_auto_columns": null,
      "grid_auto_flow": null,
      "grid_auto_rows": null,
      "grid_column": null,
      "grid_gap": null,
      "grid_row": null,
      "grid_template_areas": null,
      "grid_template_columns": null,
      "grid_template_rows": null,
      "height": null,
      "justify_content": null,
      "justify_items": null,
      "left": null,
      "margin": null,
      "max_height": null,
      "max_width": null,
      "min_height": null,
      "min_width": null,
      "object_fit": null,
      "object_position": null,
      "order": null,
      "overflow": null,
      "overflow_x": null,
      "overflow_y": null,
      "padding": null,
      "right": null,
      "top": null,
      "visibility": null,
      "width": null
     }
    },
    "90ab196e60084a16b619c99bfddc4f23": {
     "model_module": "@jupyter-widgets/base",
     "model_module_version": "1.2.0",
     "model_name": "LayoutModel",
     "state": {
      "_model_module": "@jupyter-widgets/base",
      "_model_module_version": "1.2.0",
      "_model_name": "LayoutModel",
      "_view_count": null,
      "_view_module": "@jupyter-widgets/base",
      "_view_module_version": "1.2.0",
      "_view_name": "LayoutView",
      "align_content": null,
      "align_items": null,
      "align_self": null,
      "border": null,
      "bottom": null,
      "display": null,
      "flex": null,
      "flex_flow": null,
      "grid_area": null,
      "grid_auto_columns": null,
      "grid_auto_flow": null,
      "grid_auto_rows": null,
      "grid_column": null,
      "grid_gap": null,
      "grid_row": null,
      "grid_template_areas": null,
      "grid_template_columns": null,
      "grid_template_rows": null,
      "height": null,
      "justify_content": null,
      "justify_items": null,
      "left": null,
      "margin": null,
      "max_height": null,
      "max_width": null,
      "min_height": null,
      "min_width": null,
      "object_fit": null,
      "object_position": null,
      "order": null,
      "overflow": null,
      "overflow_x": null,
      "overflow_y": null,
      "padding": null,
      "right": null,
      "top": null,
      "visibility": null,
      "width": null
     }
    },
    "9101b1b6032e486c90e473313705fe3e": {
     "model_module": "@jupyter-widgets/controls",
     "model_module_version": "1.5.0",
     "model_name": "HTMLModel",
     "state": {
      "_dom_classes": [],
      "_model_module": "@jupyter-widgets/controls",
      "_model_module_version": "1.5.0",
      "_model_name": "HTMLModel",
      "_view_count": null,
      "_view_module": "@jupyter-widgets/controls",
      "_view_module_version": "1.5.0",
      "_view_name": "HTMLView",
      "description": "",
      "description_tooltip": null,
      "layout": "IPY_MODEL_4aa0450bd39840e8bbc707fa18de6e22",
      "placeholder": "​",
      "style": "IPY_MODEL_52c85f89b42a43b08172ea1ee904630d",
      "value": "100%"
     }
    },
    "9824173296dd40b099b5079f4f5059d9": {
     "model_module": "@jupyter-widgets/base",
     "model_module_version": "1.2.0",
     "model_name": "LayoutModel",
     "state": {
      "_model_module": "@jupyter-widgets/base",
      "_model_module_version": "1.2.0",
      "_model_name": "LayoutModel",
      "_view_count": null,
      "_view_module": "@jupyter-widgets/base",
      "_view_module_version": "1.2.0",
      "_view_name": "LayoutView",
      "align_content": null,
      "align_items": null,
      "align_self": null,
      "border": null,
      "bottom": null,
      "display": null,
      "flex": null,
      "flex_flow": null,
      "grid_area": null,
      "grid_auto_columns": null,
      "grid_auto_flow": null,
      "grid_auto_rows": null,
      "grid_column": null,
      "grid_gap": null,
      "grid_row": null,
      "grid_template_areas": null,
      "grid_template_columns": null,
      "grid_template_rows": null,
      "height": null,
      "justify_content": null,
      "justify_items": null,
      "left": null,
      "margin": null,
      "max_height": null,
      "max_width": null,
      "min_height": null,
      "min_width": null,
      "object_fit": null,
      "object_position": null,
      "order": null,
      "overflow": null,
      "overflow_x": null,
      "overflow_y": null,
      "padding": null,
      "right": null,
      "top": null,
      "visibility": null,
      "width": null
     }
    },
    "9975a000d9624a46bb8f1e7f92a4b334": {
     "model_module": "@jupyter-widgets/base",
     "model_module_version": "1.2.0",
     "model_name": "LayoutModel",
     "state": {
      "_model_module": "@jupyter-widgets/base",
      "_model_module_version": "1.2.0",
      "_model_name": "LayoutModel",
      "_view_count": null,
      "_view_module": "@jupyter-widgets/base",
      "_view_module_version": "1.2.0",
      "_view_name": "LayoutView",
      "align_content": null,
      "align_items": null,
      "align_self": null,
      "border": null,
      "bottom": null,
      "display": null,
      "flex": null,
      "flex_flow": null,
      "grid_area": null,
      "grid_auto_columns": null,
      "grid_auto_flow": null,
      "grid_auto_rows": null,
      "grid_column": null,
      "grid_gap": null,
      "grid_row": null,
      "grid_template_areas": null,
      "grid_template_columns": null,
      "grid_template_rows": null,
      "height": null,
      "justify_content": null,
      "justify_items": null,
      "left": null,
      "margin": null,
      "max_height": null,
      "max_width": null,
      "min_height": null,
      "min_width": null,
      "object_fit": null,
      "object_position": null,
      "order": null,
      "overflow": null,
      "overflow_x": null,
      "overflow_y": null,
      "padding": null,
      "right": null,
      "top": null,
      "visibility": null,
      "width": null
     }
    },
    "9b46de3f76fa45a2a90f86f5c75667a1": {
     "model_module": "@jupyter-widgets/controls",
     "model_module_version": "1.5.0",
     "model_name": "FloatProgressModel",
     "state": {
      "_dom_classes": [],
      "_model_module": "@jupyter-widgets/controls",
      "_model_module_version": "1.5.0",
      "_model_name": "FloatProgressModel",
      "_view_count": null,
      "_view_module": "@jupyter-widgets/controls",
      "_view_module_version": "1.5.0",
      "_view_name": "ProgressView",
      "bar_style": "success",
      "description": "",
      "description_tooltip": null,
      "layout": "IPY_MODEL_0de899811c8546daa89a38e103805506",
      "max": 2,
      "min": 0,
      "orientation": "horizontal",
      "style": "IPY_MODEL_6a0c518802444a5d9185527838382c15",
      "value": 2
     }
    },
    "9dc358ce46dd4aa6a77d2bd481f44b13": {
     "model_module": "@jupyter-widgets/controls",
     "model_module_version": "1.5.0",
     "model_name": "HTMLModel",
     "state": {
      "_dom_classes": [],
      "_model_module": "@jupyter-widgets/controls",
      "_model_module_version": "1.5.0",
      "_model_name": "HTMLModel",
      "_view_count": null,
      "_view_module": "@jupyter-widgets/controls",
      "_view_module_version": "1.5.0",
      "_view_name": "HTMLView",
      "description": "",
      "description_tooltip": null,
      "layout": "IPY_MODEL_8e232e5617524153828a3b2546ee5f50",
      "placeholder": "​",
      "style": "IPY_MODEL_7fe6a76b346c466a9c3a7b0b20de454b",
      "value": " 2/2 [00:00&lt;00:00, 22.43it/s]"
     }
    },
    "9f3b09ac043d42b1ac035e3b4baa6ce3": {
     "model_module": "@jupyter-widgets/controls",
     "model_module_version": "1.5.0",
     "model_name": "DescriptionStyleModel",
     "state": {
      "_model_module": "@jupyter-widgets/controls",
      "_model_module_version": "1.5.0",
      "_model_name": "DescriptionStyleModel",
      "_view_count": null,
      "_view_module": "@jupyter-widgets/base",
      "_view_module_version": "1.2.0",
      "_view_name": "StyleView",
      "description_width": ""
     }
    },
    "a10f9ec340ea4fe89991853d8499e62a": {
     "model_module": "@jupyter-widgets/controls",
     "model_module_version": "1.5.0",
     "model_name": "DescriptionStyleModel",
     "state": {
      "_model_module": "@jupyter-widgets/controls",
      "_model_module_version": "1.5.0",
      "_model_name": "DescriptionStyleModel",
      "_view_count": null,
      "_view_module": "@jupyter-widgets/base",
      "_view_module_version": "1.2.0",
      "_view_name": "StyleView",
      "description_width": ""
     }
    },
    "a203de3f55e34e5488b402fa432df3fd": {
     "model_module": "@jupyter-widgets/controls",
     "model_module_version": "1.5.0",
     "model_name": "HTMLModel",
     "state": {
      "_dom_classes": [],
      "_model_module": "@jupyter-widgets/controls",
      "_model_module_version": "1.5.0",
      "_model_name": "HTMLModel",
      "_view_count": null,
      "_view_module": "@jupyter-widgets/controls",
      "_view_module_version": "1.5.0",
      "_view_name": "HTMLView",
      "description": "",
      "description_tooltip": null,
      "layout": "IPY_MODEL_528be2b480a942559779764ea524979d",
      "placeholder": "​",
      "style": "IPY_MODEL_cf65aa8ef8134ce0acd434fa7bad98b3",
      "value": "Downloading data files: 100%"
     }
    },
    "a346477670d54bf3aa29f13402b7cadb": {
     "model_module": "@jupyter-widgets/base",
     "model_module_version": "1.2.0",
     "model_name": "LayoutModel",
     "state": {
      "_model_module": "@jupyter-widgets/base",
      "_model_module_version": "1.2.0",
      "_model_name": "LayoutModel",
      "_view_count": null,
      "_view_module": "@jupyter-widgets/base",
      "_view_module_version": "1.2.0",
      "_view_name": "LayoutView",
      "align_content": null,
      "align_items": null,
      "align_self": null,
      "border": null,
      "bottom": null,
      "display": null,
      "flex": null,
      "flex_flow": null,
      "grid_area": null,
      "grid_auto_columns": null,
      "grid_auto_flow": null,
      "grid_auto_rows": null,
      "grid_column": null,
      "grid_gap": null,
      "grid_row": null,
      "grid_template_areas": null,
      "grid_template_columns": null,
      "grid_template_rows": null,
      "height": null,
      "justify_content": null,
      "justify_items": null,
      "left": null,
      "margin": null,
      "max_height": null,
      "max_width": null,
      "min_height": null,
      "min_width": null,
      "object_fit": null,
      "object_position": null,
      "order": null,
      "overflow": null,
      "overflow_x": null,
      "overflow_y": null,
      "padding": null,
      "right": null,
      "top": null,
      "visibility": null,
      "width": null
     }
    },
    "ac75850fb2a3440eba487d6cc7b63d4d": {
     "model_module": "@jupyter-widgets/controls",
     "model_module_version": "1.5.0",
     "model_name": "HTMLModel",
     "state": {
      "_dom_classes": [],
      "_model_module": "@jupyter-widgets/controls",
      "_model_module_version": "1.5.0",
      "_model_name": "HTMLModel",
      "_view_count": null,
      "_view_module": "@jupyter-widgets/controls",
      "_view_module_version": "1.5.0",
      "_view_name": "HTMLView",
      "description": "",
      "description_tooltip": null,
      "layout": "IPY_MODEL_9975a000d9624a46bb8f1e7f92a4b334",
      "placeholder": "​",
      "style": "IPY_MODEL_d3f04e6448b84687aca35973394ace72",
      "value": " 28.0/28.0 [00:00&lt;00:00, 246B/s]"
     }
    },
    "ac8ad39050f04668abd2796f9c631b43": {
     "model_module": "@jupyter-widgets/controls",
     "model_module_version": "1.5.0",
     "model_name": "HTMLModel",
     "state": {
      "_dom_classes": [],
      "_model_module": "@jupyter-widgets/controls",
      "_model_module_version": "1.5.0",
      "_model_name": "HTMLModel",
      "_view_count": null,
      "_view_module": "@jupyter-widgets/controls",
      "_view_module_version": "1.5.0",
      "_view_name": "HTMLView",
      "description": "",
      "description_tooltip": null,
      "layout": "IPY_MODEL_f3c87cecf3da4b2392053dac34d5cf88",
      "placeholder": "​",
      "style": "IPY_MODEL_e4af0cebb08242a4a82c005e8b063306",
      "value": "Extracting data files: 100%"
     }
    },
    "b2c2b40a62e444149361fc9952dbe74b": {
     "model_module": "@jupyter-widgets/controls",
     "model_module_version": "1.5.0",
     "model_name": "ProgressStyleModel",
     "state": {
      "_model_module": "@jupyter-widgets/controls",
      "_model_module_version": "1.5.0",
      "_model_name": "ProgressStyleModel",
      "_view_count": null,
      "_view_module": "@jupyter-widgets/base",
      "_view_module_version": "1.2.0",
      "_view_name": "StyleView",
      "bar_color": null,
      "description_width": ""
     }
    },
    "b4109a79c37247e6b3b21fb90ac66842": {
     "model_module": "@jupyter-widgets/controls",
     "model_module_version": "1.5.0",
     "model_name": "HBoxModel",
     "state": {
      "_dom_classes": [],
      "_model_module": "@jupyter-widgets/controls",
      "_model_module_version": "1.5.0",
      "_model_name": "HBoxModel",
      "_view_count": null,
      "_view_module": "@jupyter-widgets/controls",
      "_view_module_version": "1.5.0",
      "_view_name": "HBoxView",
      "box_style": "",
      "children": [
       "IPY_MODEL_cbf759e4e4554032868a988aaa0bdcc8",
       "IPY_MODEL_3b7b2f0df350435f9e46a26af996f1d1",
       "IPY_MODEL_ac75850fb2a3440eba487d6cc7b63d4d"
      ],
      "layout": "IPY_MODEL_50e8435da4dc49699d6a628ab06b7954"
     }
    },
    "b476f5c1a08043d59a470604ad607acd": {
     "model_module": "@jupyter-widgets/controls",
     "model_module_version": "1.5.0",
     "model_name": "HTMLModel",
     "state": {
      "_dom_classes": [],
      "_model_module": "@jupyter-widgets/controls",
      "_model_module_version": "1.5.0",
      "_model_name": "HTMLModel",
      "_view_count": null,
      "_view_module": "@jupyter-widgets/controls",
      "_view_module_version": "1.5.0",
      "_view_name": "HTMLView",
      "description": "",
      "description_tooltip": null,
      "layout": "IPY_MODEL_9824173296dd40b099b5079f4f5059d9",
      "placeholder": "​",
      "style": "IPY_MODEL_ea53bd3225a4442f9d6448a48617a969",
      "value": " 2/2 [00:00&lt;00:00, 22.73it/s]"
     }
    },
    "b4d8d5c942b849b08706bcf1a1efbcf1": {
     "model_module": "@jupyter-widgets/controls",
     "model_module_version": "1.5.0",
     "model_name": "DescriptionStyleModel",
     "state": {
      "_model_module": "@jupyter-widgets/controls",
      "_model_module_version": "1.5.0",
      "_model_name": "DescriptionStyleModel",
      "_view_count": null,
      "_view_module": "@jupyter-widgets/base",
      "_view_module_version": "1.2.0",
      "_view_name": "StyleView",
      "description_width": ""
     }
    },
    "ba6b30adf3c643188ce30ed42284cc88": {
     "model_module": "@jupyter-widgets/controls",
     "model_module_version": "1.5.0",
     "model_name": "DescriptionStyleModel",
     "state": {
      "_model_module": "@jupyter-widgets/controls",
      "_model_module_version": "1.5.0",
      "_model_name": "DescriptionStyleModel",
      "_view_count": null,
      "_view_module": "@jupyter-widgets/base",
      "_view_module_version": "1.2.0",
      "_view_name": "StyleView",
      "description_width": ""
     }
    },
    "bae519f08e154fd3ae3c154b4e46f03d": {
     "model_module": "@jupyter-widgets/controls",
     "model_module_version": "1.5.0",
     "model_name": "DescriptionStyleModel",
     "state": {
      "_model_module": "@jupyter-widgets/controls",
      "_model_module_version": "1.5.0",
      "_model_name": "DescriptionStyleModel",
      "_view_count": null,
      "_view_module": "@jupyter-widgets/base",
      "_view_module_version": "1.2.0",
      "_view_name": "StyleView",
      "description_width": ""
     }
    },
    "c0a4b6cfa426441ea7b3f9a6cf9f442e": {
     "model_module": "@jupyter-widgets/base",
     "model_module_version": "1.2.0",
     "model_name": "LayoutModel",
     "state": {
      "_model_module": "@jupyter-widgets/base",
      "_model_module_version": "1.2.0",
      "_model_name": "LayoutModel",
      "_view_count": null,
      "_view_module": "@jupyter-widgets/base",
      "_view_module_version": "1.2.0",
      "_view_name": "LayoutView",
      "align_content": null,
      "align_items": null,
      "align_self": null,
      "border": null,
      "bottom": null,
      "display": null,
      "flex": null,
      "flex_flow": null,
      "grid_area": null,
      "grid_auto_columns": null,
      "grid_auto_flow": null,
      "grid_auto_rows": null,
      "grid_column": null,
      "grid_gap": null,
      "grid_row": null,
      "grid_template_areas": null,
      "grid_template_columns": null,
      "grid_template_rows": null,
      "height": null,
      "justify_content": null,
      "justify_items": null,
      "left": null,
      "margin": null,
      "max_height": null,
      "max_width": null,
      "min_height": null,
      "min_width": null,
      "object_fit": null,
      "object_position": null,
      "order": null,
      "overflow": null,
      "overflow_x": null,
      "overflow_y": null,
      "padding": null,
      "right": null,
      "top": null,
      "visibility": null,
      "width": null
     }
    },
    "c5aec7fa5c3d428f8068535b066dc8de": {
     "model_module": "@jupyter-widgets/controls",
     "model_module_version": "1.5.0",
     "model_name": "HBoxModel",
     "state": {
      "_dom_classes": [],
      "_model_module": "@jupyter-widgets/controls",
      "_model_module_version": "1.5.0",
      "_model_name": "HBoxModel",
      "_view_count": null,
      "_view_module": "@jupyter-widgets/controls",
      "_view_module_version": "1.5.0",
      "_view_name": "HBoxView",
      "box_style": "",
      "children": [
       "IPY_MODEL_a203de3f55e34e5488b402fa432df3fd",
       "IPY_MODEL_d62a3df50ab54b969b14ab64d391d852",
       "IPY_MODEL_b476f5c1a08043d59a470604ad607acd"
      ],
      "layout": "IPY_MODEL_1b0a3850011342e783a59fe7762c0070"
     }
    },
    "c7809d1b6a2c42a1bcdb5518df877537": {
     "model_module": "@jupyter-widgets/controls",
     "model_module_version": "1.5.0",
     "model_name": "HTMLModel",
     "state": {
      "_dom_classes": [],
      "_model_module": "@jupyter-widgets/controls",
      "_model_module_version": "1.5.0",
      "_model_name": "HTMLModel",
      "_view_count": null,
      "_view_module": "@jupyter-widgets/controls",
      "_view_module_version": "1.5.0",
      "_view_name": "HTMLView",
      "description": "",
      "description_tooltip": null,
      "layout": "IPY_MODEL_efbbaf553f4d4a60a229515a9e780845",
      "placeholder": "​",
      "style": "IPY_MODEL_9f3b09ac043d42b1ac035e3b4baa6ce3",
      "value": "100%"
     }
    },
    "c7d034d63fb048d386e7921c72d7c202": {
     "model_module": "@jupyter-widgets/base",
     "model_module_version": "1.2.0",
     "model_name": "LayoutModel",
     "state": {
      "_model_module": "@jupyter-widgets/base",
      "_model_module_version": "1.2.0",
      "_model_name": "LayoutModel",
      "_view_count": null,
      "_view_module": "@jupyter-widgets/base",
      "_view_module_version": "1.2.0",
      "_view_name": "LayoutView",
      "align_content": null,
      "align_items": null,
      "align_self": null,
      "border": null,
      "bottom": null,
      "display": null,
      "flex": null,
      "flex_flow": null,
      "grid_area": null,
      "grid_auto_columns": null,
      "grid_auto_flow": null,
      "grid_auto_rows": null,
      "grid_column": null,
      "grid_gap": null,
      "grid_row": null,
      "grid_template_areas": null,
      "grid_template_columns": null,
      "grid_template_rows": null,
      "height": null,
      "justify_content": null,
      "justify_items": null,
      "left": null,
      "margin": null,
      "max_height": null,
      "max_width": null,
      "min_height": null,
      "min_width": null,
      "object_fit": null,
      "object_position": null,
      "order": null,
      "overflow": null,
      "overflow_x": null,
      "overflow_y": null,
      "padding": null,
      "right": null,
      "top": null,
      "visibility": null,
      "width": null
     }
    },
    "c8a3a61db6934fae88851517ed3f7b16": {
     "model_module": "@jupyter-widgets/controls",
     "model_module_version": "1.5.0",
     "model_name": "HTMLModel",
     "state": {
      "_dom_classes": [],
      "_model_module": "@jupyter-widgets/controls",
      "_model_module_version": "1.5.0",
      "_model_name": "HTMLModel",
      "_view_count": null,
      "_view_module": "@jupyter-widgets/controls",
      "_view_module_version": "1.5.0",
      "_view_name": "HTMLView",
      "description": "",
      "description_tooltip": null,
      "layout": "IPY_MODEL_2b7a2ca9249e4e62a0e1b701be42b64a",
      "placeholder": "​",
      "style": "IPY_MODEL_e1c7460ee1094a89bf73a9d3417ce0ae",
      "value": " 4/4 [00:00&lt;00:00,  8.83ba/s]"
     }
    },
    "cbf759e4e4554032868a988aaa0bdcc8": {
     "model_module": "@jupyter-widgets/controls",
     "model_module_version": "1.5.0",
     "model_name": "HTMLModel",
     "state": {
      "_dom_classes": [],
      "_model_module": "@jupyter-widgets/controls",
      "_model_module_version": "1.5.0",
      "_model_name": "HTMLModel",
      "_view_count": null,
      "_view_module": "@jupyter-widgets/controls",
      "_view_module_version": "1.5.0",
      "_view_name": "HTMLView",
      "description": "",
      "description_tooltip": null,
      "layout": "IPY_MODEL_cf0c0f36e57146d683ce0e9424acba89",
      "placeholder": "​",
      "style": "IPY_MODEL_ebb50bc9b24140d8ab0c33d703366c6f",
      "value": "Downloading: 100%"
     }
    },
    "ceef197760f2418e8e32138546e7f0c6": {
     "model_module": "@jupyter-widgets/controls",
     "model_module_version": "1.5.0",
     "model_name": "HTMLModel",
     "state": {
      "_dom_classes": [],
      "_model_module": "@jupyter-widgets/controls",
      "_model_module_version": "1.5.0",
      "_model_name": "HTMLModel",
      "_view_count": null,
      "_view_module": "@jupyter-widgets/controls",
      "_view_module_version": "1.5.0",
      "_view_name": "HTMLView",
      "description": "",
      "description_tooltip": null,
      "layout": "IPY_MODEL_90ab196e60084a16b619c99bfddc4f23",
      "placeholder": "​",
      "style": "IPY_MODEL_ba6b30adf3c643188ce30ed42284cc88",
      "value": "Downloading: 100%"
     }
    },
    "cf0c0f36e57146d683ce0e9424acba89": {
     "model_module": "@jupyter-widgets/base",
     "model_module_version": "1.2.0",
     "model_name": "LayoutModel",
     "state": {
      "_model_module": "@jupyter-widgets/base",
      "_model_module_version": "1.2.0",
      "_model_name": "LayoutModel",
      "_view_count": null,
      "_view_module": "@jupyter-widgets/base",
      "_view_module_version": "1.2.0",
      "_view_name": "LayoutView",
      "align_content": null,
      "align_items": null,
      "align_self": null,
      "border": null,
      "bottom": null,
      "display": null,
      "flex": null,
      "flex_flow": null,
      "grid_area": null,
      "grid_auto_columns": null,
      "grid_auto_flow": null,
      "grid_auto_rows": null,
      "grid_column": null,
      "grid_gap": null,
      "grid_row": null,
      "grid_template_areas": null,
      "grid_template_columns": null,
      "grid_template_rows": null,
      "height": null,
      "justify_content": null,
      "justify_items": null,
      "left": null,
      "margin": null,
      "max_height": null,
      "max_width": null,
      "min_height": null,
      "min_width": null,
      "object_fit": null,
      "object_position": null,
      "order": null,
      "overflow": null,
      "overflow_x": null,
      "overflow_y": null,
      "padding": null,
      "right": null,
      "top": null,
      "visibility": null,
      "width": null
     }
    },
    "cf65aa8ef8134ce0acd434fa7bad98b3": {
     "model_module": "@jupyter-widgets/controls",
     "model_module_version": "1.5.0",
     "model_name": "DescriptionStyleModel",
     "state": {
      "_model_module": "@jupyter-widgets/controls",
      "_model_module_version": "1.5.0",
      "_model_name": "DescriptionStyleModel",
      "_view_count": null,
      "_view_module": "@jupyter-widgets/base",
      "_view_module_version": "1.2.0",
      "_view_name": "StyleView",
      "description_width": ""
     }
    },
    "d3f04e6448b84687aca35973394ace72": {
     "model_module": "@jupyter-widgets/controls",
     "model_module_version": "1.5.0",
     "model_name": "DescriptionStyleModel",
     "state": {
      "_model_module": "@jupyter-widgets/controls",
      "_model_module_version": "1.5.0",
      "_model_name": "DescriptionStyleModel",
      "_view_count": null,
      "_view_module": "@jupyter-widgets/base",
      "_view_module_version": "1.2.0",
      "_view_name": "StyleView",
      "description_width": ""
     }
    },
    "d581aeb5add746a79be2150520856258": {
     "model_module": "@jupyter-widgets/controls",
     "model_module_version": "1.5.0",
     "model_name": "ProgressStyleModel",
     "state": {
      "_model_module": "@jupyter-widgets/controls",
      "_model_module_version": "1.5.0",
      "_model_name": "ProgressStyleModel",
      "_view_count": null,
      "_view_module": "@jupyter-widgets/base",
      "_view_module_version": "1.2.0",
      "_view_name": "StyleView",
      "bar_color": null,
      "description_width": ""
     }
    },
    "d62a3df50ab54b969b14ab64d391d852": {
     "model_module": "@jupyter-widgets/controls",
     "model_module_version": "1.5.0",
     "model_name": "FloatProgressModel",
     "state": {
      "_dom_classes": [],
      "_model_module": "@jupyter-widgets/controls",
      "_model_module_version": "1.5.0",
      "_model_name": "FloatProgressModel",
      "_view_count": null,
      "_view_module": "@jupyter-widgets/controls",
      "_view_module_version": "1.5.0",
      "_view_name": "ProgressView",
      "bar_style": "success",
      "description": "",
      "description_tooltip": null,
      "layout": "IPY_MODEL_3307ff49c8bf41b3b8e5c93efad23486",
      "max": 2,
      "min": 0,
      "orientation": "horizontal",
      "style": "IPY_MODEL_2d401f88d57d44ecb8b8bcc192fa069f",
      "value": 2
     }
    },
    "d7a7408e72e347d1a976f943aef047c5": {
     "model_module": "@jupyter-widgets/base",
     "model_module_version": "1.2.0",
     "model_name": "LayoutModel",
     "state": {
      "_model_module": "@jupyter-widgets/base",
      "_model_module_version": "1.2.0",
      "_model_name": "LayoutModel",
      "_view_count": null,
      "_view_module": "@jupyter-widgets/base",
      "_view_module_version": "1.2.0",
      "_view_name": "LayoutView",
      "align_content": null,
      "align_items": null,
      "align_self": null,
      "border": null,
      "bottom": null,
      "display": null,
      "flex": null,
      "flex_flow": null,
      "grid_area": null,
      "grid_auto_columns": null,
      "grid_auto_flow": null,
      "grid_auto_rows": null,
      "grid_column": null,
      "grid_gap": null,
      "grid_row": null,
      "grid_template_areas": null,
      "grid_template_columns": null,
      "grid_template_rows": null,
      "height": null,
      "justify_content": null,
      "justify_items": null,
      "left": null,
      "margin": null,
      "max_height": null,
      "max_width": null,
      "min_height": null,
      "min_width": null,
      "object_fit": null,
      "object_position": null,
      "order": null,
      "overflow": null,
      "overflow_x": null,
      "overflow_y": null,
      "padding": null,
      "right": null,
      "top": null,
      "visibility": null,
      "width": null
     }
    },
    "d85fac44d81546aea70a07d055cd068b": {
     "model_module": "@jupyter-widgets/base",
     "model_module_version": "1.2.0",
     "model_name": "LayoutModel",
     "state": {
      "_model_module": "@jupyter-widgets/base",
      "_model_module_version": "1.2.0",
      "_model_name": "LayoutModel",
      "_view_count": null,
      "_view_module": "@jupyter-widgets/base",
      "_view_module_version": "1.2.0",
      "_view_name": "LayoutView",
      "align_content": null,
      "align_items": null,
      "align_self": null,
      "border": null,
      "bottom": null,
      "display": null,
      "flex": null,
      "flex_flow": null,
      "grid_area": null,
      "grid_auto_columns": null,
      "grid_auto_flow": null,
      "grid_auto_rows": null,
      "grid_column": null,
      "grid_gap": null,
      "grid_row": null,
      "grid_template_areas": null,
      "grid_template_columns": null,
      "grid_template_rows": null,
      "height": null,
      "justify_content": null,
      "justify_items": null,
      "left": null,
      "margin": null,
      "max_height": null,
      "max_width": null,
      "min_height": null,
      "min_width": null,
      "object_fit": null,
      "object_position": null,
      "order": null,
      "overflow": null,
      "overflow_x": null,
      "overflow_y": null,
      "padding": null,
      "right": null,
      "top": null,
      "visibility": null,
      "width": null
     }
    },
    "d9435981385345058a7916df9f7277c5": {
     "model_module": "@jupyter-widgets/controls",
     "model_module_version": "1.5.0",
     "model_name": "FloatProgressModel",
     "state": {
      "_dom_classes": [],
      "_model_module": "@jupyter-widgets/controls",
      "_model_module_version": "1.5.0",
      "_model_name": "FloatProgressModel",
      "_view_count": null,
      "_view_module": "@jupyter-widgets/controls",
      "_view_module_version": "1.5.0",
      "_view_name": "ProgressView",
      "bar_style": "success",
      "description": "",
      "description_tooltip": null,
      "layout": "IPY_MODEL_6014a705c1cb49f9a1528afe7a79d5d9",
      "max": 231508,
      "min": 0,
      "orientation": "horizontal",
      "style": "IPY_MODEL_582f8b658332462c906b12a8c90c8408",
      "value": 231508
     }
    },
    "da29d1cc5aa74ccbac1915104e651234": {
     "model_module": "@jupyter-widgets/controls",
     "model_module_version": "1.5.0",
     "model_name": "HTMLModel",
     "state": {
      "_dom_classes": [],
      "_model_module": "@jupyter-widgets/controls",
      "_model_module_version": "1.5.0",
      "_model_name": "HTMLModel",
      "_view_count": null,
      "_view_module": "@jupyter-widgets/controls",
      "_view_module_version": "1.5.0",
      "_view_name": "HTMLView",
      "description": "",
      "description_tooltip": null,
      "layout": "IPY_MODEL_08fe2d18e86d4d2aa0f896ee4b88eb10",
      "placeholder": "​",
      "style": "IPY_MODEL_bae519f08e154fd3ae3c154b4e46f03d",
      "value": "100%"
     }
    },
    "dbdd05784acc4da4b6d67edb3fbfbdbe": {
     "model_module": "@jupyter-widgets/controls",
     "model_module_version": "1.5.0",
     "model_name": "FloatProgressModel",
     "state": {
      "_dom_classes": [],
      "_model_module": "@jupyter-widgets/controls",
      "_model_module_version": "1.5.0",
      "_model_name": "FloatProgressModel",
      "_view_count": null,
      "_view_module": "@jupyter-widgets/controls",
      "_view_module_version": "1.5.0",
      "_view_name": "ProgressView",
      "bar_style": "success",
      "description": "",
      "description_tooltip": null,
      "layout": "IPY_MODEL_84d5b2ea940a4f919386aaf8b7e31732",
      "max": 10,
      "min": 0,
      "orientation": "horizontal",
      "style": "IPY_MODEL_46b8bc6bada942eab45b37599a90374e",
      "value": 10
     }
    },
    "e1c7460ee1094a89bf73a9d3417ce0ae": {
     "model_module": "@jupyter-widgets/controls",
     "model_module_version": "1.5.0",
     "model_name": "DescriptionStyleModel",
     "state": {
      "_model_module": "@jupyter-widgets/controls",
      "_model_module_version": "1.5.0",
      "_model_name": "DescriptionStyleModel",
      "_view_count": null,
      "_view_module": "@jupyter-widgets/base",
      "_view_module_version": "1.2.0",
      "_view_name": "StyleView",
      "description_width": ""
     }
    },
    "e3595bbe3aca46918a79c668e3b50446": {
     "model_module": "@jupyter-widgets/controls",
     "model_module_version": "1.5.0",
     "model_name": "DescriptionStyleModel",
     "state": {
      "_model_module": "@jupyter-widgets/controls",
      "_model_module_version": "1.5.0",
      "_model_name": "DescriptionStyleModel",
      "_view_count": null,
      "_view_module": "@jupyter-widgets/base",
      "_view_module_version": "1.2.0",
      "_view_name": "StyleView",
      "description_width": ""
     }
    },
    "e4af0cebb08242a4a82c005e8b063306": {
     "model_module": "@jupyter-widgets/controls",
     "model_module_version": "1.5.0",
     "model_name": "DescriptionStyleModel",
     "state": {
      "_model_module": "@jupyter-widgets/controls",
      "_model_module_version": "1.5.0",
      "_model_name": "DescriptionStyleModel",
      "_view_count": null,
      "_view_module": "@jupyter-widgets/base",
      "_view_module_version": "1.2.0",
      "_view_name": "StyleView",
      "description_width": ""
     }
    },
    "e695283e0e0b43fcbc2b89c203156a8e": {
     "model_module": "@jupyter-widgets/controls",
     "model_module_version": "1.5.0",
     "model_name": "FloatProgressModel",
     "state": {
      "_dom_classes": [],
      "_model_module": "@jupyter-widgets/controls",
      "_model_module_version": "1.5.0",
      "_model_name": "FloatProgressModel",
      "_view_count": null,
      "_view_module": "@jupyter-widgets/controls",
      "_view_module_version": "1.5.0",
      "_view_name": "ProgressView",
      "bar_style": "success",
      "description": "",
      "description_tooltip": null,
      "layout": "IPY_MODEL_5320946c43ad46b79e126626586b14ab",
      "max": 570,
      "min": 0,
      "orientation": "horizontal",
      "style": "IPY_MODEL_45866eea5fdb4779bbc87da67f79a038",
      "value": 570
     }
    },
    "e9688c4a85594f3db1ef81f14260af23": {
     "model_module": "@jupyter-widgets/base",
     "model_module_version": "1.2.0",
     "model_name": "LayoutModel",
     "state": {
      "_model_module": "@jupyter-widgets/base",
      "_model_module_version": "1.2.0",
      "_model_name": "LayoutModel",
      "_view_count": null,
      "_view_module": "@jupyter-widgets/base",
      "_view_module_version": "1.2.0",
      "_view_name": "LayoutView",
      "align_content": null,
      "align_items": null,
      "align_self": null,
      "border": null,
      "bottom": null,
      "display": null,
      "flex": null,
      "flex_flow": null,
      "grid_area": null,
      "grid_auto_columns": null,
      "grid_auto_flow": null,
      "grid_auto_rows": null,
      "grid_column": null,
      "grid_gap": null,
      "grid_row": null,
      "grid_template_areas": null,
      "grid_template_columns": null,
      "grid_template_rows": null,
      "height": null,
      "justify_content": null,
      "justify_items": null,
      "left": null,
      "margin": null,
      "max_height": null,
      "max_width": null,
      "min_height": null,
      "min_width": null,
      "object_fit": null,
      "object_position": null,
      "order": null,
      "overflow": null,
      "overflow_x": null,
      "overflow_y": null,
      "padding": null,
      "right": null,
      "top": null,
      "visibility": null,
      "width": null
     }
    },
    "ea53bd3225a4442f9d6448a48617a969": {
     "model_module": "@jupyter-widgets/controls",
     "model_module_version": "1.5.0",
     "model_name": "DescriptionStyleModel",
     "state": {
      "_model_module": "@jupyter-widgets/controls",
      "_model_module_version": "1.5.0",
      "_model_name": "DescriptionStyleModel",
      "_view_count": null,
      "_view_module": "@jupyter-widgets/base",
      "_view_module_version": "1.2.0",
      "_view_name": "StyleView",
      "description_width": ""
     }
    },
    "ea53fa1e60694114bb260fb93c639ced": {
     "model_module": "@jupyter-widgets/controls",
     "model_module_version": "1.5.0",
     "model_name": "HTMLModel",
     "state": {
      "_dom_classes": [],
      "_model_module": "@jupyter-widgets/controls",
      "_model_module_version": "1.5.0",
      "_model_name": "HTMLModel",
      "_view_count": null,
      "_view_module": "@jupyter-widgets/controls",
      "_view_module_version": "1.5.0",
      "_view_name": "HTMLView",
      "description": "",
      "description_tooltip": null,
      "layout": "IPY_MODEL_d7a7408e72e347d1a976f943aef047c5",
      "placeholder": "​",
      "style": "IPY_MODEL_b4d8d5c942b849b08706bcf1a1efbcf1",
      "value": " 2/2 [00:00&lt;00:00, 24.46it/s]"
     }
    },
    "ebb50bc9b24140d8ab0c33d703366c6f": {
     "model_module": "@jupyter-widgets/controls",
     "model_module_version": "1.5.0",
     "model_name": "DescriptionStyleModel",
     "state": {
      "_model_module": "@jupyter-widgets/controls",
      "_model_module_version": "1.5.0",
      "_model_name": "DescriptionStyleModel",
      "_view_count": null,
      "_view_module": "@jupyter-widgets/base",
      "_view_module_version": "1.2.0",
      "_view_name": "StyleView",
      "description_width": ""
     }
    },
    "efbbaf553f4d4a60a229515a9e780845": {
     "model_module": "@jupyter-widgets/base",
     "model_module_version": "1.2.0",
     "model_name": "LayoutModel",
     "state": {
      "_model_module": "@jupyter-widgets/base",
      "_model_module_version": "1.2.0",
      "_model_name": "LayoutModel",
      "_view_count": null,
      "_view_module": "@jupyter-widgets/base",
      "_view_module_version": "1.2.0",
      "_view_name": "LayoutView",
      "align_content": null,
      "align_items": null,
      "align_self": null,
      "border": null,
      "bottom": null,
      "display": null,
      "flex": null,
      "flex_flow": null,
      "grid_area": null,
      "grid_auto_columns": null,
      "grid_auto_flow": null,
      "grid_auto_rows": null,
      "grid_column": null,
      "grid_gap": null,
      "grid_row": null,
      "grid_template_areas": null,
      "grid_template_columns": null,
      "grid_template_rows": null,
      "height": null,
      "justify_content": null,
      "justify_items": null,
      "left": null,
      "margin": null,
      "max_height": null,
      "max_width": null,
      "min_height": null,
      "min_width": null,
      "object_fit": null,
      "object_position": null,
      "order": null,
      "overflow": null,
      "overflow_x": null,
      "overflow_y": null,
      "padding": null,
      "right": null,
      "top": null,
      "visibility": null,
      "width": null
     }
    },
    "f3c87cecf3da4b2392053dac34d5cf88": {
     "model_module": "@jupyter-widgets/base",
     "model_module_version": "1.2.0",
     "model_name": "LayoutModel",
     "state": {
      "_model_module": "@jupyter-widgets/base",
      "_model_module_version": "1.2.0",
      "_model_name": "LayoutModel",
      "_view_count": null,
      "_view_module": "@jupyter-widgets/base",
      "_view_module_version": "1.2.0",
      "_view_name": "LayoutView",
      "align_content": null,
      "align_items": null,
      "align_self": null,
      "border": null,
      "bottom": null,
      "display": null,
      "flex": null,
      "flex_flow": null,
      "grid_area": null,
      "grid_auto_columns": null,
      "grid_auto_flow": null,
      "grid_auto_rows": null,
      "grid_column": null,
      "grid_gap": null,
      "grid_row": null,
      "grid_template_areas": null,
      "grid_template_columns": null,
      "grid_template_rows": null,
      "height": null,
      "justify_content": null,
      "justify_items": null,
      "left": null,
      "margin": null,
      "max_height": null,
      "max_width": null,
      "min_height": null,
      "min_width": null,
      "object_fit": null,
      "object_position": null,
      "order": null,
      "overflow": null,
      "overflow_x": null,
      "overflow_y": null,
      "padding": null,
      "right": null,
      "top": null,
      "visibility": null,
      "width": null
     }
    },
    "f5b542e4da7b4dca9af310e4ea959254": {
     "model_module": "@jupyter-widgets/base",
     "model_module_version": "1.2.0",
     "model_name": "LayoutModel",
     "state": {
      "_model_module": "@jupyter-widgets/base",
      "_model_module_version": "1.2.0",
      "_model_name": "LayoutModel",
      "_view_count": null,
      "_view_module": "@jupyter-widgets/base",
      "_view_module_version": "1.2.0",
      "_view_name": "LayoutView",
      "align_content": null,
      "align_items": null,
      "align_self": null,
      "border": null,
      "bottom": null,
      "display": null,
      "flex": null,
      "flex_flow": null,
      "grid_area": null,
      "grid_auto_columns": null,
      "grid_auto_flow": null,
      "grid_auto_rows": null,
      "grid_column": null,
      "grid_gap": null,
      "grid_row": null,
      "grid_template_areas": null,
      "grid_template_columns": null,
      "grid_template_rows": null,
      "height": null,
      "justify_content": null,
      "justify_items": null,
      "left": null,
      "margin": null,
      "max_height": null,
      "max_width": null,
      "min_height": null,
      "min_width": null,
      "object_fit": null,
      "object_position": null,
      "order": null,
      "overflow": null,
      "overflow_x": null,
      "overflow_y": null,
      "padding": null,
      "right": null,
      "top": null,
      "visibility": null,
      "width": null
     }
    },
    "f9a0a8fcc13347bf8253a9ff3364897a": {
     "model_module": "@jupyter-widgets/controls",
     "model_module_version": "1.5.0",
     "model_name": "HBoxModel",
     "state": {
      "_dom_classes": [],
      "_model_module": "@jupyter-widgets/controls",
      "_model_module_version": "1.5.0",
      "_model_name": "HBoxModel",
      "_view_count": null,
      "_view_module": "@jupyter-widgets/controls",
      "_view_module_version": "1.5.0",
      "_view_name": "HBoxView",
      "box_style": "",
      "children": [
       "IPY_MODEL_c7809d1b6a2c42a1bcdb5518df877537",
       "IPY_MODEL_dbdd05784acc4da4b6d67edb3fbfbdbe",
       "IPY_MODEL_60fac97ce69c462980fb65426343f1cc"
      ],
      "layout": "IPY_MODEL_70428c8ee68a44efa349b724eeddb2b8"
     }
    },
    "f9b8fe1a51d849aba1a85c5c07acc04d": {
     "model_module": "@jupyter-widgets/controls",
     "model_module_version": "1.5.0",
     "model_name": "HTMLModel",
     "state": {
      "_dom_classes": [],
      "_model_module": "@jupyter-widgets/controls",
      "_model_module_version": "1.5.0",
      "_model_name": "HTMLModel",
      "_view_count": null,
      "_view_module": "@jupyter-widgets/controls",
      "_view_module_version": "1.5.0",
      "_view_name": "HTMLView",
      "description": "",
      "description_tooltip": null,
      "layout": "IPY_MODEL_7f3eb795cf874678962223dc67362ed3",
      "placeholder": "​",
      "style": "IPY_MODEL_796820462a9049fe91e59acca1f712e7",
      "value": "Downloading: 100%"
     }
    },
    "fe9a7e283d694af79f72ef8b897e1bd1": {
     "model_module": "@jupyter-widgets/base",
     "model_module_version": "1.2.0",
     "model_name": "LayoutModel",
     "state": {
      "_model_module": "@jupyter-widgets/base",
      "_model_module_version": "1.2.0",
      "_model_name": "LayoutModel",
      "_view_count": null,
      "_view_module": "@jupyter-widgets/base",
      "_view_module_version": "1.2.0",
      "_view_name": "LayoutView",
      "align_content": null,
      "align_items": null,
      "align_self": null,
      "border": null,
      "bottom": null,
      "display": null,
      "flex": null,
      "flex_flow": null,
      "grid_area": null,
      "grid_auto_columns": null,
      "grid_auto_flow": null,
      "grid_auto_rows": null,
      "grid_column": null,
      "grid_gap": null,
      "grid_row": null,
      "grid_template_areas": null,
      "grid_template_columns": null,
      "grid_template_rows": null,
      "height": null,
      "justify_content": null,
      "justify_items": null,
      "left": null,
      "margin": null,
      "max_height": null,
      "max_width": null,
      "min_height": null,
      "min_width": null,
      "object_fit": null,
      "object_position": null,
      "order": null,
      "overflow": null,
      "overflow_x": null,
      "overflow_y": null,
      "padding": null,
      "right": null,
      "top": null,
      "visibility": null,
      "width": null
     }
    }
   }
  }
 },
 "nbformat": 4,
 "nbformat_minor": 1
}
